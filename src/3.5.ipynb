{
 "cells": [
  {
   "cell_type": "code",
   "execution_count": 1,
   "metadata": {
    "ExecuteTime": {
     "end_time": "2021-01-12T09:50:46.343383Z",
     "start_time": "2021-01-12T09:50:45.913702Z"
    }
   },
   "outputs": [],
   "source": [
    "%reset -f\n",
    "import os\n",
    "import gzip\n",
    "import numpy as np\n",
    "import torch\n",
    "import torch.nn.functional as F\n",
    "import matplotlib.pyplot as plt\n",
    "from tqdm import tqdm"
   ]
  },
  {
   "cell_type": "code",
   "execution_count": 2,
   "metadata": {
    "ExecuteTime": {
     "end_time": "2021-01-12T09:50:46.349210Z",
     "start_time": "2021-01-12T09:50:46.345154Z"
    },
    "code_folding": [
     0
    ]
   },
   "outputs": [],
   "source": [
    "def load_mnist(path, kind='train'):\n",
    "\n",
    "\n",
    "    \"\"\"Load MNIST data from `path`\"\"\"\n",
    "    labels_path = os.path.join(path,\n",
    "                               '%s-labels-idx1-ubyte.gz'\n",
    "                               % kind)\n",
    "    images_path = os.path.join(path,\n",
    "                               '%s-images-idx3-ubyte.gz'\n",
    "                               % kind)\n",
    "\n",
    "    with gzip.open(labels_path, 'rb') as lbpath:\n",
    "        labels = np.frombuffer(lbpath.read(), dtype=np.uint8,\n",
    "                               offset=8)\n",
    "\n",
    "    with gzip.open(images_path, 'rb') as imgpath:\n",
    "        images = np.frombuffer(imgpath.read(), dtype=np.uint8,\n",
    "                               offset=16).reshape(len(labels), 784)\n",
    "\n",
    "    return images, labels"
   ]
  },
  {
   "cell_type": "code",
   "execution_count": 3,
   "metadata": {
    "ExecuteTime": {
     "end_time": "2021-01-12T09:50:46.355884Z",
     "start_time": "2021-01-12T09:50:46.352505Z"
    },
    "code_folding": [
     0
    ]
   },
   "outputs": [],
   "source": [
    "def _filter(xs, ys, lbls):\n",
    "    idxs = [i for (i, l) in enumerate(ys) if l in lbls]\n",
    "    return xs[idxs, :], ys[idxs]"
   ]
  },
  {
   "cell_type": "code",
   "execution_count": 4,
   "metadata": {
    "ExecuteTime": {
     "end_time": "2021-01-12T09:50:46.359651Z",
     "start_time": "2021-01-12T09:50:46.357209Z"
    }
   },
   "outputs": [],
   "source": [
    "def clear_gpu(model):\n",
    "    # Removes model from gpu and clears the memory\n",
    "    \n",
    "    model = model.to('cpu')\n",
    "    del model\n",
    "    torch.cuda.empty_cache()"
   ]
  },
  {
   "cell_type": "code",
   "execution_count": 5,
   "metadata": {
    "ExecuteTime": {
     "end_time": "2021-01-12T09:50:46.364271Z",
     "start_time": "2021-01-12T09:50:46.360862Z"
    }
   },
   "outputs": [],
   "source": [
    "class Dataset(torch.utils.data.Dataset):\n",
    "    # Basic dataset class to work with torch data loader\n",
    "\n",
    "    def __init__(self, X, y):\n",
    "        self.X = X\n",
    "        self.y = y\n",
    "        \n",
    "        assert len(X) == len(y), print(\"Number of examples don't match up\")\n",
    "\n",
    "    def __len__(self):\n",
    "        return len(self.X)\n",
    "\n",
    "    def __getitem__(self, index):\n",
    "        return self.X[index], self.y[index]"
   ]
  },
  {
   "cell_type": "code",
   "execution_count": 6,
   "metadata": {
    "ExecuteTime": {
     "end_time": "2021-01-12T09:50:46.370006Z",
     "start_time": "2021-01-12T09:50:46.365304Z"
    }
   },
   "outputs": [],
   "source": [
    "class Net(torch.nn.Module):\n",
    "    def __init__(self):\n",
    "        super(Net, self).__init__()\n",
    "        self.conv1 = torch.nn.Conv2d(1, 6, kernel_size=3, stride=1, padding=1)\n",
    "        self.pool = torch.nn.MaxPool2d(2, 2)\n",
    "        self.conv2 = torch.nn.Conv2d(6, 16, 5)\n",
    "        self.fc1 = torch.nn.Linear(16 * 5 * 5, 120)\n",
    "        self.fc2 = torch.nn.Linear(120, 84)\n",
    "        self.fc3 = torch.nn.Linear(84, 10)\n",
    "\n",
    "    def forward(self, x):\n",
    "        x = self.pool(F.relu(self.conv1(x)))\n",
    "        x = self.pool(F.relu(self.conv2(x)))\n",
    "        x = x.view(-1, 16 * 5 * 5)\n",
    "        x = F.relu(self.fc1(x))\n",
    "        x = F.relu(self.fc2(x))\n",
    "        x = self.fc3(x) \n",
    "            \n",
    "        return x"
   ]
  },
  {
   "cell_type": "code",
   "execution_count": 7,
   "metadata": {
    "ExecuteTime": {
     "end_time": "2021-01-12T09:50:46.385550Z",
     "start_time": "2021-01-12T09:50:46.371846Z"
    }
   },
   "outputs": [],
   "source": [
    "dataloader_params = {'batch_size': 32, 'shuffle': True, 'num_workers': 6}\n",
    "device = torch.device(\"cuda:0\" if torch.cuda.is_available() else \"cpu\")\n",
    "\n",
    "MAX_EPOCH = 100"
   ]
  },
  {
   "cell_type": "markdown",
   "metadata": {},
   "source": [
    "# Load Data"
   ]
  },
  {
   "cell_type": "code",
   "execution_count": 8,
   "metadata": {
    "ExecuteTime": {
     "end_time": "2021-01-12T09:50:46.776874Z",
     "start_time": "2021-01-12T09:50:46.387082Z"
    }
   },
   "outputs": [],
   "source": [
    "train_images, train_labels = load_mnist('data', 'train')\n",
    "test_images, test_labels = load_mnist('data', 't10k')\n",
    "\n",
    "val_images = train_images[50000:]\n",
    "val_labels = train_labels[50000:]\n",
    "\n",
    "train_images = train_images[:50000]\n",
    "train_labels = train_labels[:50000]"
   ]
  },
  {
   "cell_type": "code",
   "execution_count": 9,
   "metadata": {
    "ExecuteTime": {
     "end_time": "2021-01-12T09:50:47.158155Z",
     "start_time": "2021-01-12T09:50:46.778048Z"
    }
   },
   "outputs": [],
   "source": [
    "X_train1, y_train1 = _filter(train_images, train_labels, [0, 1, 4, 5, 8])\n",
    "X_val1, y_val1 = _filter(val_images, val_labels, [0, 1, 4, 5, 8])\n",
    "X_test1, y_test1 = _filter(test_images, test_labels, [0, 1, 4, 5, 8])"
   ]
  },
  {
   "cell_type": "code",
   "execution_count": 10,
   "metadata": {
    "ExecuteTime": {
     "end_time": "2021-01-12T09:50:47.551128Z",
     "start_time": "2021-01-12T09:50:47.159367Z"
    }
   },
   "outputs": [],
   "source": [
    "X_train2, y_train2 = _filter(train_images, train_labels, [2, 3, 6, 7, 9])\n",
    "X_val2, y_val2 = _filter(val_images, val_labels, [2, 3, 6, 7, 9])\n",
    "X_test2, y_test2 = _filter(test_images, test_labels, [2, 3, 6, 7, 9])"
   ]
  },
  {
   "cell_type": "markdown",
   "metadata": {},
   "source": [
    "# FMNIST 2 Training"
   ]
  },
  {
   "cell_type": "code",
   "execution_count": 11,
   "metadata": {
    "ExecuteTime": {
     "end_time": "2021-01-12T09:50:47.554543Z",
     "start_time": "2021-01-12T09:50:47.552280Z"
    }
   },
   "outputs": [],
   "source": [
    "X_train2 = X_train2.reshape(X_train2.shape[0], 28, 28)\n",
    "X_test2 = X_test2.reshape(X_test2.shape[0], 28, 28)\n",
    "X_val2 = X_val2.reshape(X_val2.shape[0], 28, 28)"
   ]
  },
  {
   "cell_type": "code",
   "execution_count": 12,
   "metadata": {
    "ExecuteTime": {
     "end_time": "2021-01-12T09:50:47.560821Z",
     "start_time": "2021-01-12T09:50:47.555550Z"
    }
   },
   "outputs": [],
   "source": [
    "X_train2 = X_train2[:, np.newaxis, :, :]\n",
    "X_test2 = X_test2[:, np.newaxis, :, :]\n",
    "X_val2 = X_val2[:, np.newaxis, :, :]"
   ]
  },
  {
   "cell_type": "code",
   "execution_count": 13,
   "metadata": {
    "ExecuteTime": {
     "end_time": "2021-01-12T09:50:49.311570Z",
     "start_time": "2021-01-12T09:50:47.561793Z"
    }
   },
   "outputs": [],
   "source": [
    "train_data2 = Dataset(X_train2, y_train2)\n",
    "train_generator2 = torch.utils.data.DataLoader(train_data2, **dataloader_params)\n",
    "\n",
    "X_train2 = torch.from_numpy(X_train2).type(torch.FloatTensor).to(device)\n",
    "y_train2 = torch.Tensor(y_train2).type(torch.LongTensor).to(device)\n",
    "\n",
    "X_val2 = torch.from_numpy(X_val2).type(torch.FloatTensor).to(device)\n",
    "y_val2 = torch.Tensor(y_val2).type(torch.LongTensor).to(device)\n",
    "\n",
    "X_test2 = torch.from_numpy(X_test2).to(device)\n",
    "y_test2 = torch.Tensor(y_test2).to(device)"
   ]
  },
  {
   "cell_type": "code",
   "execution_count": 14,
   "metadata": {
    "ExecuteTime": {
     "end_time": "2021-01-12T09:50:49.316823Z",
     "start_time": "2021-01-12T09:50:49.312634Z"
    },
    "scrolled": true
   },
   "outputs": [],
   "source": [
    "net = Net().to(device)\n",
    "\n",
    "loss_fn = torch.nn.CrossEntropyLoss()\n",
    "optimizer = torch.optim.Adam(net.parameters())\n",
    "\n",
    "# history = net.fit(train_generator2, 100, X_val2, y_val2, loss_fn, optimizer)"
   ]
  },
  {
   "cell_type": "code",
   "execution_count": 39,
   "metadata": {
    "ExecuteTime": {
     "end_time": "2021-01-12T09:57:25.234072Z",
     "start_time": "2021-01-12T09:55:54.243263Z"
    }
   },
   "outputs": [
    {
     "name": "stderr",
     "output_type": "stream",
     "text": [
      "100%|██████████| 30/30 [01:30<00:00,  3.03s/it]\n"
     ]
    }
   ],
   "source": [
    "X = X_train2\n",
    "y = y_train2\n",
    "\n",
    "self = net\n",
    "\n",
    "history = {\n",
    "    'acc': [],\n",
    "    'loss': []\n",
    "}\n",
    "\n",
    "for epoch in tqdm(range(30)):\n",
    "    running_loss = 0.0\n",
    "    for i, data in enumerate(train_generator2):\n",
    "        inputs, labels = data\n",
    "        inputs = inputs.type(torch.FloatTensor).to(device)\n",
    "        labels =  labels.type(torch.LongTensor).to(device)\n",
    "\n",
    "        optimizer.zero_grad()\n",
    "\n",
    "        outputs = self.forward(inputs)\n",
    "        loss = loss_fn(outputs, labels)\n",
    "        loss.backward()\n",
    "        optimizer.step()\n",
    "        \n",
    "    with torch.no_grad():\n",
    "        out = self.forward(X)\n",
    "        preds = out.argmax(axis=1)\n",
    "\n",
    "        accuracy = sum(preds == y)/len(y)\n",
    "        loss = loss_fn(out, y)\n",
    "\n",
    "        history['acc'].append(accuracy)\n",
    "        history['loss'].append(loss)"
   ]
  },
  {
   "cell_type": "code",
   "execution_count": 45,
   "metadata": {
    "ExecuteTime": {
     "end_time": "2021-01-12T09:59:29.252408Z",
     "start_time": "2021-01-12T09:59:29.194141Z"
    },
    "code_folding": []
   },
   "outputs": [
    {
     "name": "stdout",
     "output_type": "stream",
     "text": [
      "tensor(0.9327, device='cuda:0') tensor(0.4972, device='cuda:0')\n"
     ]
    }
   ],
   "source": [
    "X = X_val2\n",
    "y = y_val2\n",
    "\n",
    "with torch.no_grad():\n",
    "    out = self.forward(X)\n",
    "    preds = out.argmax(axis=1)\n",
    "\n",
    "    accuracy = sum(preds == y)/len(y)\n",
    "    loss = loss_fn(out, y)\n",
    "\n",
    "    print(accuracy, loss)"
   ]
  }
 ],
 "metadata": {
  "kernelspec": {
   "display_name": "Python 3",
   "language": "python",
   "name": "python3"
  },
  "language_info": {
   "codemirror_mode": {
    "name": "ipython",
    "version": 3
   },
   "file_extension": ".py",
   "mimetype": "text/x-python",
   "name": "python",
   "nbconvert_exporter": "python",
   "pygments_lexer": "ipython3",
   "version": "3.8.3"
  }
 },
 "nbformat": 4,
 "nbformat_minor": 4
}
