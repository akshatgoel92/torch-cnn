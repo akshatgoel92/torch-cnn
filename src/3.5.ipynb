{
 "cells": [
  {
   "cell_type": "code",
   "execution_count": 22,
   "metadata": {
    "ExecuteTime": {
     "end_time": "2021-01-17T11:45:39.913590Z",
     "start_time": "2021-01-17T11:45:39.793686Z"
    }
   },
   "outputs": [],
   "source": [
    "%reset -f\n",
    "import time\n",
    "import os\n",
    "import gzip\n",
    "import numpy as np\n",
    "import torch\n",
    "import torch.nn.functional as F\n",
    "import matplotlib.pyplot as plt\n",
    "from tqdm import tqdm\n",
    "from sklearn import preprocessing"
   ]
  },
  {
   "cell_type": "code",
   "execution_count": 23,
   "metadata": {
    "ExecuteTime": {
     "end_time": "2021-01-17T11:45:39.917886Z",
     "start_time": "2021-01-17T11:45:39.914736Z"
    },
    "code_folding": [
     0
    ]
   },
   "outputs": [],
   "source": [
    "def load_mnist(path, kind='train'):\n",
    "\n",
    "\n",
    "    \"\"\"Load MNIST data from `path`\"\"\"\n",
    "    labels_path = os.path.join(path,\n",
    "                               '%s-labels-idx1-ubyte.gz'\n",
    "                               % kind)\n",
    "    images_path = os.path.join(path,\n",
    "                               '%s-images-idx3-ubyte.gz'\n",
    "                               % kind)\n",
    "\n",
    "    with gzip.open(labels_path, 'rb') as lbpath:\n",
    "        labels = np.frombuffer(lbpath.read(), dtype=np.uint8,\n",
    "                               offset=8)\n",
    "\n",
    "    with gzip.open(images_path, 'rb') as imgpath:\n",
    "        images = np.frombuffer(imgpath.read(), dtype=np.uint8,\n",
    "                               offset=16).reshape(len(labels), 784)\n",
    "\n",
    "    return images, labels"
   ]
  },
  {
   "cell_type": "code",
   "execution_count": 24,
   "metadata": {
    "ExecuteTime": {
     "end_time": "2021-01-17T11:45:39.925733Z",
     "start_time": "2021-01-17T11:45:39.919469Z"
    },
    "code_folding": [
     0
    ]
   },
   "outputs": [],
   "source": [
    "def _filter(xs, ys, lbls):\n",
    "    idxs = [i for (i, l) in enumerate(ys) if l in lbls]\n",
    "    return xs[idxs, :], ys[idxs]"
   ]
  },
  {
   "cell_type": "code",
   "execution_count": 25,
   "metadata": {
    "ExecuteTime": {
     "end_time": "2021-01-17T11:45:39.929771Z",
     "start_time": "2021-01-17T11:45:39.927274Z"
    }
   },
   "outputs": [],
   "source": [
    "def clear_gpu(model):\n",
    "    # Removes model from gpu and clears the memory\n",
    "    \n",
    "    model = model.to('cpu')\n",
    "    del model\n",
    "    torch.cuda.empty_cache()"
   ]
  },
  {
   "cell_type": "code",
   "execution_count": 26,
   "metadata": {
    "ExecuteTime": {
     "end_time": "2021-01-17T11:45:39.934228Z",
     "start_time": "2021-01-17T11:45:39.930967Z"
    }
   },
   "outputs": [],
   "source": [
    "class Dataset(torch.utils.data.Dataset):\n",
    "    # Basic dataset class to work with torch data loader\n",
    "\n",
    "    def __init__(self, X, y):\n",
    "        self.X = X\n",
    "        self.y = y\n",
    "        \n",
    "        assert len(X) == len(y), print(\"Number of examples don't match up\")\n",
    "\n",
    "    def __len__(self):\n",
    "        return len(self.X)\n",
    "\n",
    "    def __getitem__(self, index):\n",
    "        return self.X[index], self.y[index]"
   ]
  },
  {
   "cell_type": "code",
   "execution_count": 27,
   "metadata": {
    "ExecuteTime": {
     "end_time": "2021-01-17T11:45:39.941097Z",
     "start_time": "2021-01-17T11:45:39.935757Z"
    }
   },
   "outputs": [],
   "source": [
    "class FashionNet(torch.nn.Module):\n",
    "    def __init__(self):\n",
    "        super(FashionNet, self).__init__()\n",
    "        \n",
    "        self.inp_drop = torch.nn.Dropout(0)\n",
    "        self.conv_drop = torch.nn.Dropout(0.25)\n",
    "        self.fc_drop = torch.nn.Dropout(0.25)\n",
    "        \n",
    "        self.pool = torch.nn.MaxPool2d(2, 2)\n",
    "        \n",
    "        self.conv1 = torch.nn.Conv2d(1, 6, kernel_size=5)\n",
    "        self.conv2 = torch.nn.Conv2d(6, 16, 5)\n",
    "        \n",
    "        self.fc1 = torch.nn.Linear(16 * 4 * 4, 240)\n",
    "        self.fc2 = torch.nn.Linear(240, 168)\n",
    "        self.fc3 = torch.nn.Linear(168, 5)\n",
    "\n",
    "    def forward(self, x):\n",
    "        x = self.inp_drop(x)\n",
    "        \n",
    "        x = self.pool(F.relu(self.conv1(x)))\n",
    "        x = self.conv_drop(x)\n",
    "\n",
    "        x = self.pool(F.relu(self.conv2(x)))\n",
    "        x = self.conv_drop(x)\n",
    "\n",
    "        x = x.view(-1, 16 * 4 * 4)\n",
    "        x = self.fc_drop(x)\n",
    "\n",
    "        x = F.relu(self.fc1(x))\n",
    "        x = self.fc_drop(x)\n",
    "\n",
    "        x = F.relu(self.fc2(x))\n",
    "        x = self.fc_drop(x)\n",
    "\n",
    "        x = self.fc3(x) \n",
    "        \n",
    "        return x"
   ]
  },
  {
   "cell_type": "code",
   "execution_count": 28,
   "metadata": {
    "ExecuteTime": {
     "end_time": "2021-01-17T11:45:39.945565Z",
     "start_time": "2021-01-17T11:45:39.942543Z"
    }
   },
   "outputs": [],
   "source": [
    "def predict(X, y, model, loss_fn):\n",
    "    \n",
    "    model.eval()\n",
    "    \n",
    "    with torch.no_grad():\n",
    "        out = model.forward(X)\n",
    "        preds = out.argmax(axis=1)\n",
    "\n",
    "        acc = sum(preds == y)/len(y)\n",
    "        loss = loss_fn(out, y)\n",
    "        \n",
    "    model.train()\n",
    "    \n",
    "    return acc, loss"
   ]
  },
  {
   "cell_type": "code",
   "execution_count": 29,
   "metadata": {
    "ExecuteTime": {
     "end_time": "2021-01-17T11:45:39.952493Z",
     "start_time": "2021-01-17T11:45:39.948033Z"
    }
   },
   "outputs": [],
   "source": [
    "def train(train_generator, X_train, y_train, X_val, y_val, model, max_epoch, loss_fn, optimizer, path):\n",
    "    history = {\n",
    "    'acc': [],\n",
    "    'loss': [],\n",
    "    'val_acc': [],\n",
    "    'val_loss': []\n",
    "    }\n",
    "    \n",
    "    best_loss = np.inf\n",
    "    best_epoch = 0\n",
    "    for epoch in tqdm(range(max_epoch)):\n",
    "        for i, data in enumerate(train_generator):\n",
    "            inputs, labels = data\n",
    "            inputs = inputs.type(torch.FloatTensor).to(device)\n",
    "            labels =  labels.type(torch.LongTensor).to(device)\n",
    "\n",
    "            optimizer.zero_grad()\n",
    "\n",
    "            outputs = model.forward(inputs)\n",
    "            loss = loss_fn(outputs, labels)\n",
    "            loss.backward()\n",
    "            optimizer.step()\n",
    "    \n",
    "        acc, loss = predict(X_train, y_train, model, loss_fn)  \n",
    "        history['acc'].append(acc.item())\n",
    "        history['loss'].append(loss.item())\n",
    "        \n",
    "        acc, loss = predict(X_val, y_val, model, loss_fn)\n",
    "        history['val_acc'].append(acc.item())\n",
    "        history['val_loss'].append(loss.item())\n",
    "\n",
    "        if loss < best_loss:\n",
    "            best_epoch = epoch\n",
    "            torch.save(model.state_dict(), path)\n",
    "            \n",
    "    return history"
   ]
  },
  {
   "cell_type": "code",
   "execution_count": 30,
   "metadata": {
    "ExecuteTime": {
     "end_time": "2021-01-17T11:45:39.956547Z",
     "start_time": "2021-01-17T11:45:39.953934Z"
    }
   },
   "outputs": [],
   "source": [
    "dataloader_params = {'batch_size': 32, 'shuffle': True, 'num_workers': 6}\n",
    "device = torch.device(\"cuda:0\" if torch.cuda.is_available() else \"cpu\")"
   ]
  },
  {
   "cell_type": "markdown",
   "metadata": {},
   "source": [
    "# Load Data"
   ]
  },
  {
   "cell_type": "code",
   "execution_count": 31,
   "metadata": {
    "ExecuteTime": {
     "end_time": "2021-01-17T11:45:40.253081Z",
     "start_time": "2021-01-17T11:45:39.957574Z"
    }
   },
   "outputs": [],
   "source": [
    "train_images, train_labels = load_mnist('../data', 'train')\n",
    "test_images, test_labels = load_mnist('../data', 't10k')\n",
    "\n",
    "val_images = train_images[50000:]\n",
    "val_labels = train_labels[50000:]\n",
    "\n",
    "train_images = train_images[:50000]\n",
    "train_labels = train_labels[:50000]"
   ]
  },
  {
   "cell_type": "code",
   "execution_count": 32,
   "metadata": {
    "ExecuteTime": {
     "end_time": "2021-01-17T11:45:40.568551Z",
     "start_time": "2021-01-17T11:45:40.254160Z"
    }
   },
   "outputs": [],
   "source": [
    "X_train1, y_train1 = _filter(train_images, train_labels, [0, 1, 4, 5, 8])\n",
    "X_val1, y_val1 = _filter(val_images, val_labels, [0, 1, 4, 5, 8])\n",
    "X_test1, y_test1 = _filter(test_images, test_labels, [0, 1, 4, 5, 8])"
   ]
  },
  {
   "cell_type": "code",
   "execution_count": 33,
   "metadata": {
    "ExecuteTime": {
     "end_time": "2021-01-17T11:45:40.885461Z",
     "start_time": "2021-01-17T11:45:40.569544Z"
    }
   },
   "outputs": [],
   "source": [
    "X_train2, y_train2 = _filter(train_images, train_labels, [2, 3, 6, 7, 9])\n",
    "X_val2, y_val2 = _filter(val_images, val_labels, [2, 3, 6, 7, 9])\n",
    "X_test2, y_test2 = _filter(test_images, test_labels, [2, 3, 6, 7, 9])"
   ]
  },
  {
   "cell_type": "markdown",
   "metadata": {
    "deletable": false,
    "editable": false,
    "run_control": {
     "frozen": true
    }
   },
   "source": [
    "# FMNIST 2 Training"
   ]
  },
  {
   "cell_type": "code",
   "execution_count": 34,
   "metadata": {
    "ExecuteTime": {
     "end_time": "2021-01-17T11:45:40.888787Z",
     "start_time": "2021-01-17T11:45:40.886473Z"
    }
   },
   "outputs": [],
   "source": [
    "X_train2 = X_train2.reshape(X_train2.shape[0], 28, 28)\n",
    "X_test2 = X_test2.reshape(X_test2.shape[0], 28, 28)\n",
    "X_val2 = X_val2.reshape(X_val2.shape[0], 28, 28)"
   ]
  },
  {
   "cell_type": "code",
   "execution_count": 35,
   "metadata": {
    "ExecuteTime": {
     "end_time": "2021-01-17T11:45:40.892966Z",
     "start_time": "2021-01-17T11:45:40.889770Z"
    }
   },
   "outputs": [],
   "source": [
    "X_train2 = X_train2[:, np.newaxis, :, :]\n",
    "X_test2 = X_test2[:, np.newaxis, :, :]\n",
    "X_val2 = X_val2[:, np.newaxis, :, :]"
   ]
  },
  {
   "cell_type": "code",
   "execution_count": 36,
   "metadata": {
    "ExecuteTime": {
     "end_time": "2021-01-17T11:45:40.898881Z",
     "start_time": "2021-01-17T11:45:40.893925Z"
    }
   },
   "outputs": [],
   "source": [
    "le2 = preprocessing.LabelEncoder()\n",
    "le2.fit(y_train2)\n",
    "y_train2 = le2.transform(y_train2)\n",
    "y_val2 = le2.transform(y_val2)\n",
    "y_test2 = le2.transform(y_test2)"
   ]
  },
  {
   "cell_type": "code",
   "execution_count": 37,
   "metadata": {
    "ExecuteTime": {
     "end_time": "2021-01-17T11:45:40.933499Z",
     "start_time": "2021-01-17T11:45:40.899874Z"
    }
   },
   "outputs": [],
   "source": [
    "train_data2 = Dataset(X_train2, y_train2)\n",
    "train_generator2 = torch.utils.data.DataLoader(train_data2, **dataloader_params)\n",
    "\n",
    "X_train2 = torch.from_numpy(X_train2).type(torch.FloatTensor).to(device)\n",
    "y_train2 = torch.Tensor(y_train2).type(torch.LongTensor).to(device)\n",
    "\n",
    "X_val2 = torch.from_numpy(X_val2).type(torch.FloatTensor).to(device)\n",
    "y_val2 = torch.Tensor(y_val2).type(torch.LongTensor).to(device)\n",
    "\n",
    "X_test2 = torch.from_numpy(X_test2).type(torch.FloatTensor).to(device)\n",
    "y_test2 = torch.Tensor(y_test2).type(torch.LongTensor).to(device)"
   ]
  },
  {
   "cell_type": "code",
   "execution_count": 38,
   "metadata": {
    "ExecuteTime": {
     "end_time": "2021-01-17T11:45:40.939400Z",
     "start_time": "2021-01-17T11:45:40.934650Z"
    },
    "scrolled": true
   },
   "outputs": [],
   "source": [
    "net = FashionNet().to(device)\n",
    "\n",
    "loss_fn = torch.nn.CrossEntropyLoss()\n",
    "optimizer = torch.optim.Adam(net.parameters())\n",
    "#optimizer = torch.optim.SGD(net.parameters(), lr=0.001, momentum=0.7)"
   ]
  },
  {
   "cell_type": "code",
   "execution_count": 39,
   "metadata": {
    "ExecuteTime": {
     "end_time": "2021-01-17T11:51:03.865219Z",
     "start_time": "2021-01-17T11:45:40.940458Z"
    }
   },
   "outputs": [
    {
     "name": "stderr",
     "output_type": "stream",
     "text": [
      "100%|██████████| 100/100 [05:22<00:00,  3.23s/it]\n"
     ]
    }
   ],
   "source": [
    "num = 1\n",
    "path = 'models/checkpoints/3.4_tuning_{}'.format(num)\n",
    "\n",
    "history = train(train_generator2, X_train2, y_train2, X_val2, y_val2, net, 100, loss_fn, optimizer, path)\n",
    "\n",
    "net.load_state_dict(torch.load(path))\n",
    "acc, loss = predict(X_test2, y_test2, net, loss_fn)\n",
    "print(acc, loss)\n",
    "clear_gpu(net)"
   ]
  },
  {
   "cell_type": "code",
   "execution_count": 40,
   "metadata": {
    "ExecuteTime": {
     "end_time": "2021-01-17T11:51:04.004210Z",
     "start_time": "2021-01-17T11:51:03.866973Z"
    }
   },
   "outputs": [
    {
     "data": {
      "image/png": "[encoded data removed]",
      "text/plain": [
       "<Figure size 432x288 with 1 Axes>"
      ]
     },
     "metadata": {
      "needs_background": "light"
     },
     "output_type": "display_data"
    }
   ],
   "source": [
    "plt.plot(history['acc'])\n",
    "plt.plot(history['val_acc'])\n",
    "plt.title(\"Accuracies vs Epochs\")\n",
    "plt.legend(['Train', 'Validation'])\n",
    "plt.show()"
   ]
  },
  {
   "cell_type": "code",
   "execution_count": 41,
   "metadata": {
    "ExecuteTime": {
     "end_time": "2021-01-17T11:51:04.201060Z",
     "start_time": "2021-01-17T11:51:04.005318Z"
    },
    "scrolled": true
   },
   "outputs": [
    {
     "data": {
      "image/png": "[encoded data removed]",
      "text/plain": [
       "<Figure size 432x288 with 1 Axes>"
      ]
     },
     "metadata": {
      "needs_background": "light"
     },
     "output_type": "display_data"
    }
   ],
   "source": [
    "plt.plot(history['loss'])\n",
    "plt.plot(history['val_loss'])\n",
    "plt.title(\"Losses vs Epochs\")\n",
    "plt.legend(['Train', 'Validation'])\n",
    "plt.show()"
   ]
  },
  {
   "cell_type": "markdown",
   "metadata": {},
   "source": [
    "# Fashion MNIST 1 Random Training"
   ]
  },
  {
   "cell_type": "code",
   "execution_count": 69,
   "metadata": {
    "ExecuteTime": {
     "end_time": "2021-01-17T12:15:25.019638Z",
     "start_time": "2021-01-17T12:15:25.016966Z"
    }
   },
   "outputs": [],
   "source": [
    "X_train1 = X_train1.reshape(X_train1.shape[0], 28, 28)\n",
    "X_test1 = X_test1.reshape(X_test1.shape[0], 28, 28)\n",
    "X_val1 = X_val1.reshape(X_val1.shape[0], 28, 28)"
   ]
  },
  {
   "cell_type": "code",
   "execution_count": 70,
   "metadata": {
    "ExecuteTime": {
     "end_time": "2021-01-17T12:15:25.329445Z",
     "start_time": "2021-01-17T12:15:25.325994Z"
    }
   },
   "outputs": [],
   "source": [
    "X_train1 = X_train1[:, np.newaxis, :, :]\n",
    "X_test1 = X_test1[:, np.newaxis, :, :]\n",
    "X_val1 = X_val1[:, np.newaxis, :, :]"
   ]
  },
  {
   "cell_type": "code",
   "execution_count": 71,
   "metadata": {
    "ExecuteTime": {
     "end_time": "2021-01-17T12:15:25.721332Z",
     "start_time": "2021-01-17T12:15:25.715103Z"
    }
   },
   "outputs": [],
   "source": [
    "le1 = preprocessing.LabelEncoder()\n",
    "le1.fit(y_train1)\n",
    "y_train1 = le1.transform(y_train1)\n",
    "y_val1 = le1.transform(y_val1)\n",
    "y_test1 = le1.transform(y_test1)"
   ]
  },
  {
   "cell_type": "code",
   "execution_count": 72,
   "metadata": {
    "ExecuteTime": {
     "end_time": "2021-01-17T12:15:26.057927Z",
     "start_time": "2021-01-17T12:15:26.034005Z"
    }
   },
   "outputs": [],
   "source": [
    "X_train1 = torch.from_numpy(X_train1).type(torch.FloatTensor)\n",
    "y_train1 = torch.Tensor(y_train1).type(torch.LongTensor)\n",
    "\n",
    "X_val1 = torch.from_numpy(X_val1).type(torch.FloatTensor).to(device)\n",
    "y_val1 = torch.Tensor(y_val1).type(torch.LongTensor).to(device)\n",
    "\n",
    "X_test1 = torch.from_numpy(X_test1).type(torch.FloatTensor).to(device)\n",
    "y_test1 = torch.Tensor(y_test1).type(torch.LongTensor).to(device)"
   ]
  },
  {
   "cell_type": "code",
   "execution_count": 17,
   "metadata": {
    "ExecuteTime": {
     "end_time": "2021-01-17T11:40:48.886347Z",
     "start_time": "2021-01-17T11:40:41.011824Z"
    },
    "scrolled": true
   },
   "outputs": [
    {
     "name": "stderr",
     "output_type": "stream",
     "text": [
      "100%|██████████| 10/10 [00:03<00:00,  3.16it/s]\n",
      "100%|██████████| 10/10 [00:04<00:00,  2.23it/s]\n"
     ]
    }
   ],
   "source": [
    "type = 'random'\n",
    "\n",
    "\n",
    "train_losses = []\n",
    "train_accuracies = []\n",
    "\n",
    "test_losses = []\n",
    "test_accuracies = []\n",
    "\n",
    "val_losses = []\n",
    "val_accuracies = []\n",
    "\n",
    "max_epochs = 100\n",
    "\n",
    "for i in range(1, 21):\n",
    "\n",
    "    ratio = 5 * i\n",
    "    size = int(ratio * len(X_train1)/100)\n",
    "    path = 'models/checkpoints/3.4_{}_{}'.format(type, ratio)\n",
    "\n",
    "    net = FashionNet().to(device)\n",
    "    loss_fn = torch.nn.CrossEntropyLoss()\n",
    "    optimizer = torch.optim.Adam(net.parameters())\n",
    "\n",
    "    train_data1 = Dataset(X_train1[:size], y_train1[:size])\n",
    "    train_generator1 = torch.utils.data.DataLoader(train_data1, **dataloader_params)\n",
    "\n",
    "    train(train_generator1, X_train1[:size].to(device), y_train1[:size].to(device), \n",
    "          X_val1, y_val1, net, max_epochs, loss_fn, optimizer, path)\n",
    "\n",
    "    net.load_state_dict(torch.load(path))\n",
    "    \n",
    "    acc, loss = predict(X_test1, y_test1, net, loss_fn)\n",
    "    test_accuracies.append(acc.item())\n",
    "    test_losses.append(loss.item())\n",
    "       \n",
    "    acc, loss = predict(X_train1[:size].to(device), y_train1[:size].to(device), net, loss_fn)\n",
    "    train_accuracies.append(acc.item())\n",
    "    train_losses.append(loss.item())\n",
    "    \n",
    "    acc, loss = predict(X_val1, y_val1, net, loss_fn)\n",
    "    val_accuracies.append(acc.item())\n",
    "    val_losses.append(loss.item())\n",
    "    \n",
    "    clear_gpu(net)"
   ]
  },
  {
   "cell_type": "code",
   "execution_count": 20,
   "metadata": {
    "ExecuteTime": {
     "end_time": "2021-01-17T11:44:03.457811Z",
     "start_time": "2021-01-17T11:44:03.454571Z"
    }
   },
   "outputs": [],
   "source": [
    "np.save('random_train_accuracies', train_accuracies)\n",
    "np.save('random_test_accuracies', test_accuracies)\n",
    "np.save('random_val_accuracies', val_accuracies)"
   ]
  },
  {
   "cell_type": "markdown",
   "metadata": {
    "deletable": false,
    "editable": false,
    "run_control": {
     "frozen": true
    }
   },
   "source": [
    "# Fashion MNIST 1 Pretrained Training"
   ]
  },
  {
   "cell_type": "code",
   "execution_count": 169,
   "metadata": {
    "ExecuteTime": {
     "end_time": "2021-01-17T12:25:57.081277Z",
     "start_time": "2021-01-17T12:25:57.074728Z"
    }
   },
   "outputs": [],
   "source": [
    "path = 'models/checkpoints/3.4_tuning_1'.format(num)\n",
    "state_dict = torch.load(path)"
   ]
  },
  {
   "cell_type": "code",
   "execution_count": 170,
   "metadata": {
    "ExecuteTime": {
     "end_time": "2021-01-17T12:27:14.119114Z",
     "start_time": "2021-01-17T12:25:57.572616Z"
    }
   },
   "outputs": [
    {
     "name": "stderr",
     "output_type": "stream",
     "text": [
      "100%|██████████| 100/100 [00:30<00:00,  3.25it/s]\n",
      "100%|██████████| 100/100 [00:45<00:00,  2.20it/s]\n"
     ]
    }
   ],
   "source": [
    "type = 'pretrained'\n",
    "\n",
    "train_losses = []\n",
    "train_accuracies = []\n",
    "\n",
    "test_losses = []\n",
    "test_accuracies = []\n",
    "\n",
    "val_losses = []\n",
    "val_accuracies = []\n",
    "\n",
    "max_epochs = 100\n",
    "\n",
    "for i in range(1, 3):\n",
    "\n",
    "    ratio = 5 * i\n",
    "    size = int(ratio * len(X_train1)/100)\n",
    "    path = 'models/checkpoints/3.4_{}_{}'.format(type, ratio)\n",
    "\n",
    "    net = FashionNet().to(device)\n",
    "    loss_fn = torch.nn.CrossEntropyLoss()\n",
    "    optimizer = torch.optim.Adam(net.parameters())\n",
    "\n",
    "    state_dict['fc3.weight'] = net.fc3.weight.data\n",
    "    state_dict['fc3.bias'] = net.fc3.bias.data\n",
    "    net.load_state_dict(state_dict)\n",
    "\n",
    "    train_data1 = Dataset(X_train1[:size], y_train1[:size])\n",
    "    train_generator1 = torch.utils.data.DataLoader(train_data1, **dataloader_params)\n",
    "\n",
    "    train(train_generator1, X_train1[:size].to(device), y_train1[:size].to(device), \n",
    "          X_val1, y_val1, net, max_epochs, loss_fn, optimizer, path)\n",
    "\n",
    "    net.load_state_dict(torch.load(path))\n",
    "    \n",
    "    acc, loss = predict(X_test1, y_test1, net, loss_fn)\n",
    "    test_accuracies.append(acc.item())\n",
    "    test_losses.append(loss.item())\n",
    "       \n",
    "    acc, loss = predict(X_train1[:size].to(device), y_train1[:size].to(device), net, loss_fn)\n",
    "    train_accuracies.append(acc.item())\n",
    "    train_losses.append(loss.item())\n",
    "    \n",
    "    acc, loss = predict(X_val1, y_val1, net, loss_fn)\n",
    "    val_accuracies.append(acc.item())\n",
    "    val_losses.append(loss.item())\n",
    "    \n",
    "    clear_gpu(net)"
   ]
  },
  {
   "cell_type": "code",
   "execution_count": 171,
   "metadata": {
    "ExecuteTime": {
     "end_time": "2021-01-17T12:27:14.124027Z",
     "start_time": "2021-01-17T12:27:14.120443Z"
    }
   },
   "outputs": [],
   "source": [
    "np.save('pretrained_train_accuracies', train_accuracies)\n",
    "np.save('pretrained_test_accuracies', test_accuracies)\n",
    "np.save('pretrained_val_accuracies', val_accuracies)"
   ]
  },
  {
   "cell_type": "code",
   "execution_count": 172,
   "metadata": {
    "ExecuteTime": {
     "end_time": "2021-01-17T12:27:42.278462Z",
     "start_time": "2021-01-17T12:27:42.275407Z"
    }
   },
   "outputs": [],
   "source": [
    "np.save('pretrained_train_losses', train_losses)\n",
    "np.save('pretrained_test_losses', test_losses)\n",
    "np.save('pretrained_val_losses', val_losses)"
   ]
  },
  {
   "cell_type": "markdown",
   "metadata": {},
   "source": [
    "# Comparison"
   ]
  },
  {
   "cell_type": "code",
   "execution_count": 178,
   "metadata": {
    "ExecuteTime": {
     "end_time": "2021-01-17T12:30:05.962927Z",
     "start_time": "2021-01-17T12:30:05.953492Z"
    }
   },
   "outputs": [],
   "source": [
    "random_training_accuracies = np.load('random_train_accuracies.npy')\n",
    "random_val_accuracies = np.load('random_val_accuracies.npy')"
   ]
  },
  {
   "cell_type": "code",
   "execution_count": 182,
   "metadata": {
    "ExecuteTime": {
     "end_time": "2021-01-17T12:30:56.677160Z",
     "start_time": "2021-01-17T12:30:56.556623Z"
    }
   },
   "outputs": [
    {
     "data": {
      "text/plain": [
       "[<matplotlib.lines.Line2D at 0x7f9868ea9640>]"
      ]
     },
     "execution_count": 182,
     "metadata": {},
     "output_type": "execute_result"
    },
    {
     "data": {
      "image/png": "[encoded data removed]",
      "text/plain": [
       "<Figure size 432x288 with 1 Axes>"
      ]
     },
     "metadata": {
      "needs_background": "light"
     },
     "output_type": "display_data"
    }
   ],
   "source": [
    "plt.plot([5, 10], random_val_accuracies)\n",
    "plt.plot([5, 10], val_accuracies)"
   ]
  }
 ],
 "metadata": {
  "kernelspec": {
   "display_name": "Python 3",
   "language": "python",
   "name": "python3"
  },
  "language_info": {
   "codemirror_mode": {
    "name": "ipython",
    "version": 3
   },
   "file_extension": ".py",
   "mimetype": "text/x-python",
   "name": "python",
   "nbconvert_exporter": "python",
   "pygments_lexer": "ipython3",
   "version": "3.8.3"
  }
 },
 "nbformat": 4,
 "nbformat_minor": 4
}
