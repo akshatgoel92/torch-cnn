{
  "nbformat": 4,
  "nbformat_minor": 0,
  "metadata": {
    "kernelspec": {
      "display_name": "Python 3",
      "language": "python",
      "name": "python3"
    },
    "language_info": {
      "codemirror_mode": {
        "name": "ipython",
        "version": 3
      },
      "file_extension": ".py",
      "mimetype": "text/x-python",
      "name": "python",
      "nbconvert_exporter": "python",
      "pygments_lexer": "ipython3",
      "version": "3.8.3"
    },
    "colab": {
      "name": "3.1.ipynb",
      "provenance": [],
      "collapsed_sections": []
    },
    "accelerator": "GPU"
  },
  "cells": [
    {
      "cell_type": "code",
      "metadata": {
        "colab": {
          "base_uri": "https://localhost:8080/"
        },
        "id": "y7iLHAcAnnvT",
        "outputId": "67bcdafc-bf30-4c8d-8221-7f23e7a2b8c4"
      },
      "source": [
        "# Import packages\n",
        "from google.colab import drive\n",
        "drive.mount('/content/drive')"
      ],
      "execution_count": null,
      "outputs": [
        {
          "output_type": "stream",
          "text": [
            "Mounted at /content/drive\n"
          ],
          "name": "stdout"
        }
      ]
    },
    {
      "cell_type": "code",
      "metadata": {
        "ExecuteTime": {
          "end_time": "2021-01-12T09:50:46.343383Z",
          "start_time": "2021-01-12T09:50:45.913702Z"
        },
        "id": "wQSOcAMpWIlY"
      },
      "source": [
        "# Import packages\n",
        "%reset -f\n",
        "import torchvision\n",
        "import pprint\n",
        "import os\n",
        "import gzip\n",
        "import numpy as np\n",
        "import torch\n",
        "import torch.nn.functional as F\n",
        "import matplotlib.pyplot as plt\n",
        "from tqdm import tqdm"
      ],
      "execution_count": null,
      "outputs": []
    },
    {
      "cell_type": "code",
      "metadata": {
        "ExecuteTime": {
          "end_time": "2021-01-12T09:50:46.349210Z",
          "start_time": "2021-01-12T09:50:46.345154Z"
        },
        "code_folding": [
          0
        ],
        "id": "CmxXnIB7WIln"
      },
      "source": [
        "def load_mnist(path, kind='train'):\n",
        "    '''\n",
        "    Load MNIST data from specified path\n",
        "    '''\n",
        "    \n",
        "    labels_path = os.path.join(path,\n",
        "                               '%s-labels-idx1-ubyte.gz'\n",
        "                               % kind)\n",
        "    images_path = os.path.join(path,\n",
        "                               '%s-images-idx3-ubyte.gz'\n",
        "                               % kind)\n",
        "\n",
        "    with gzip.open(labels_path, 'rb') as lbpath:\n",
        "        labels = np.frombuffer(lbpath.read(), dtype=np.uint8,\n",
        "                               offset=8)\n",
        "\n",
        "    with gzip.open(images_path, 'rb') as imgpath:\n",
        "        images = np.frombuffer(imgpath.read(), dtype=np.uint8,\n",
        "                               offset=16).reshape(len(labels), 784)\n",
        "\n",
        "    return images, labels"
      ],
      "execution_count": null,
      "outputs": []
    },
    {
      "cell_type": "code",
      "metadata": {
        "ExecuteTime": {
          "end_time": "2021-01-12T09:50:46.355884Z",
          "start_time": "2021-01-12T09:50:46.352505Z"
        },
        "code_folding": [
          0
        ],
        "id": "wyzvbcaJWIlo"
      },
      "source": [
        "def _filter(xs, ys, lbls):\n",
        "    '''\n",
        "    Filter observations to construct relevant dataset\n",
        "    '''\n",
        "    idxs = [i for (i, l) in enumerate(ys) if l in lbls]\n",
        "    return xs[idxs, :], ys[idxs]"
      ],
      "execution_count": null,
      "outputs": []
    },
    {
      "cell_type": "code",
      "metadata": {
        "ExecuteTime": {
          "end_time": "2021-01-12T09:50:46.359651Z",
          "start_time": "2021-01-12T09:50:46.357209Z"
        },
        "id": "6w-iezqjWIlo"
      },
      "source": [
        "def clear_gpu(model):\n",
        "   '''\n",
        "   Removes model from GPU and clears memory\n",
        "   '''\n",
        "   model = model.to('cpu')\n",
        "   del model\n",
        "   torch.cuda.empty_cache()"
      ],
      "execution_count": null,
      "outputs": []
    },
    {
      "cell_type": "code",
      "metadata": {
        "ExecuteTime": {
          "end_time": "2021-01-12T09:50:46.364271Z",
          "start_time": "2021-01-12T09:50:46.360862Z"
        },
        "id": "1NFopA7XWIlp"
      },
      "source": [
        "class Dataset(torch.utils.data.Dataset):\n",
        "    '''\n",
        "    Basic dataset class to work with Torch data loader\n",
        "    '''\n",
        "    def __init__(self, X, y):\n",
        "        self.X = X\n",
        "        self.y = y\n",
        "        \n",
        "        # No. of rows in feature array should equal no. of examples\n",
        "        assert len(X) == len(y), print(\"Number of examples don't match up\")\n",
        "\n",
        "    def __len__(self):\n",
        "        return len(self.X)\n",
        "\n",
        "    def __getitem__(self, index):\n",
        "        return self.X[index], self.y[index]"
      ],
      "execution_count": null,
      "outputs": []
    },
    {
      "cell_type": "code",
      "metadata": {
        "ExecuteTime": {
          "end_time": "2021-01-12T09:50:46.370006Z",
          "start_time": "2021-01-12T09:50:46.365304Z"
        },
        "id": "i2nGXFymWIlq"
      },
      "source": [
        "class Net(torch.nn.Module):\n",
        "  '''\n",
        "  Basic convolutional neural network class\n",
        "  '''\n",
        "  def __init__(self):\n",
        "    '''\n",
        "    Architecture definition\n",
        "    '''\n",
        "    super(Net, self).__init__()\n",
        "    self.conv1 = torch.nn.Conv2d(1, 6, kernel_size=3, stride=1, padding=1)\n",
        "    self.pool = torch.nn.MaxPool2d(2, 2)\n",
        "    self.conv2 = torch.nn.Conv2d(6, 16, 5)\n",
        "    self.fc1 = torch.nn.Linear(16 * 5 * 5, 120)\n",
        "    self.fc2 = torch.nn.Linear(120, 84)\n",
        "    self.fc3 = torch.nn.Linear(84, 5)\n",
        "  \n",
        "  def forward(self, x):\n",
        "    '''\n",
        "    Forward propagation\n",
        "    '''\n",
        "    x = self.pool(F.relu(self.conv1(x)))\n",
        "    x = self.pool(F.relu(self.conv2(x)))\n",
        "    x = x.view(-1, 16 * 5 * 5)\n",
        "    x = F.relu(self.fc1(x))\n",
        "    x = F.relu(self.fc2(x))\n",
        "    x = self.fc3(x) \n",
        "    \n",
        "    return x"
      ],
      "execution_count": null,
      "outputs": []
    },
    {
      "cell_type": "code",
      "metadata": {
        "ExecuteTime": {
          "end_time": "2021-01-12T09:50:49.311570Z",
          "start_time": "2021-01-12T09:50:47.561793Z"
        },
        "id": "ImOz_VZnWIlt"
      },
      "source": [
        "def get_data(dataloader_params, path='/content/drive/MyDrive/data'): \n",
        "    '''\n",
        "    Prepare data\n",
        "    '''\n",
        "    # Load data\n",
        "    train_images, train_labels = load_mnist(path, 'train')\n",
        "    test_images, test_labels = load_mnist(path, 't10k')\n",
        "    \n",
        "    # Validation images\n",
        "    val_images = train_images[50000:]\n",
        "    val_labels = train_labels[50000:]\n",
        "    \n",
        "    # Train images\n",
        "    train_images = train_images[:50000]\n",
        "    train_labels = train_labels[:50000]\n",
        "    \n",
        "    # Filter the relevant images according to the problem specification\n",
        "    X_train, Y_train = _filter(train_images, train_labels, [0, 1, 4, 5, 8])\n",
        "    X_val, Y_val = _filter(val_images, val_labels, [0, 1, 4, 5, 8])\n",
        "    X_test, Y_test = _filter(test_images, test_labels, [0, 1, 4, 5, 8])\n",
        "\n",
        "    for Y in [Y_train, Y_val, Y_test]:\n",
        "      Y[Y == 4] =  2\n",
        "      Y[Y == 5] =  3\n",
        "      Y[Y == 8] =  4\n",
        "    \n",
        "    # Reshape data into 28 X 28 format\n",
        "    X_train = X_train.reshape(X_train.shape[0], 28, 28)\n",
        "    X_test = X_test.reshape(X_test.shape[0], 28, 28)\n",
        "    X_val = X_val.reshape(X_val.shape[0], 28, 28)\n",
        "    \n",
        "    # Add new axis to to make sure \n",
        "    X_train = X_train[:, np.newaxis, :, :]\n",
        "    X_test = X_test[:, np.newaxis, :, :]\n",
        "    X_val = X_val[:, np.newaxis, :, :]\n",
        "    \n",
        "    # Dataset\n",
        "    train_data = Dataset(X_train, Y_train)\n",
        "    train_generator = torch.utils.data.DataLoader(train_data, **dataloader_params)\n",
        "    \n",
        "    # Convert into torch tensors and send to device\n",
        "    X_train = torch.from_numpy(X_train).type(torch.FloatTensor)\n",
        "    Y_train = torch.Tensor(Y_train).type(torch.LongTensor)\n",
        "    \n",
        "    # Convert into torch tensors and send to device\n",
        "    X_val = torch.from_numpy(X_val).type(torch.FloatTensor)\n",
        "    Y_val = torch.Tensor(Y_val).type(torch.LongTensor)\n",
        "    \n",
        "    # Convert into torch tensors and send to device\n",
        "    X_test = torch.from_numpy(X_test).type(torch.FloatTensor)\n",
        "    Y_test = torch.Tensor(Y_test).type(torch.LongTensor)\n",
        "    \n",
        "    # Return statement\n",
        "    return(train_generator, X_train, Y_train, X_val, Y_val, X_test, Y_test)"
      ],
      "execution_count": null,
      "outputs": []
    },
    {
      "cell_type": "code",
      "metadata": {
        "ExecuteTime": {
          "end_time": "2021-01-12T09:57:25.234072Z",
          "start_time": "2021-01-12T09:55:54.243263Z"
        },
        "id": "Z3K3_qaDWIlu"
      },
      "source": [
        "def train(question_no, model_num, epochs=30, batch_size=32, lr=0.1, weight_decay=0, test=False):\n",
        "    '''\n",
        "    Main training loop for convolutional network\n",
        "    '''\n",
        "    # Set the seed so each experiment is reproducible\n",
        "    np.random.seed(21390)\n",
        "    torch.manual_seed(10394)\n",
        "\n",
        "    # Set parameters\n",
        "    dataloader_params = {'batch_size': batch_size, 'shuffle': True, 'num_workers': 6}\n",
        "    epochs = epochs\n",
        "  \n",
        "    # Store results here\n",
        "    history = {\n",
        "        'train_accuracy': [],\n",
        "        'train_loss': [], \n",
        "        'val_accuracy': [],\n",
        "        'val_loss': []\n",
        "    }\n",
        "  \n",
        "    # Load data\n",
        "    train_generator, X_train, Y_train, X_val, Y_val, X_test, Y_test = get_data(dataloader_params)\n",
        "  \n",
        "    # Set device\n",
        "    device = torch.device(\"cuda:0\" if torch.cuda.is_available() else \"cpu\")\n",
        "\n",
        "    # Send all these objects to the relevant device\n",
        "    X_train = X_train.to(device)\n",
        "    Y_train = Y_train.to(device)\n",
        "\n",
        "    # Validation set to GPU\n",
        "    X_val = X_val.to(device)\n",
        "    Y_val = Y_val.to(device)\n",
        "\n",
        "    # Testing set to GPU\n",
        "    X_test = X_test.to(device)\n",
        "    Y_test = Y_test.to(device)\n",
        "\n",
        "    # Create the neural network objects and parameters\n",
        "    net = Net().to(device)\n",
        "  \n",
        "    # Loss function\n",
        "    loss_fn = torch.nn.CrossEntropyLoss()\n",
        "    \n",
        "    # Optimizer\n",
        "    optimizer = torch.optim.Adam(net.parameters(), lr = lr, weight_decay=weight_decay)\n",
        "\n",
        "\n",
        "    if not test:\n",
        "\n",
        "        min_val_loss = 999999999\n",
        "      \n",
        "        # Train for maximum number of epochs given here\n",
        "        for epoch in tqdm(range(epochs)):\n",
        "      \n",
        "            # Initialize running loss value for this epoch\n",
        "            running_loss = 0.0\n",
        "      \n",
        "            # Loop through the generator containing training images\n",
        "            for i, data in enumerate(train_generator):\n",
        "\n",
        "              # Retrieve inputs and labels\n",
        "              inputs, labels = data\n",
        "\n",
        "              # Send them to GPU \n",
        "              inputs = inputs.type(torch.FloatTensor).to(device)\n",
        "              labels =  labels.type(torch.LongTensor).to(device)\n",
        "\n",
        "              # Zero the optimizer gradients\n",
        "              optimizer.zero_grad()\n",
        "\n",
        "              # Forward propagation\n",
        "              outputs = net.forward(inputs)\n",
        "\n",
        "              # Compute loss\n",
        "              loss = loss_fn(outputs, labels)\n",
        "          \n",
        "              # Backward propogation\n",
        "              loss.backward()\n",
        "\n",
        "              # Weight update\n",
        "              optimizer.step()\n",
        "      \n",
        "            # Compute training loss\n",
        "            with torch.no_grad():\n",
        "          \n",
        "              # Forward propagation\n",
        "              out = net.forward(X_train)\n",
        "\n",
        "              # Prediction \n",
        "              preds = out.argmax(axis=1)\n",
        "\n",
        "              # Get accuracy \n",
        "              accuracy = sum(preds == Y_train)/len(Y_train)\n",
        "          \n",
        "              # Get loss \n",
        "              loss = loss_fn(out, Y_train)\n",
        "\n",
        "              print(\"Train accuracy {}, Train Loss: {}\".format(accuracy, loss))\n",
        "\n",
        "              # Append to history record\n",
        "              history['train_accuracy'].append(accuracy)\n",
        "              history['train_loss'].append(loss)\n",
        "\n",
        "          \n",
        "            # Compute validation loss\n",
        "            with torch.no_grad():\n",
        "        \n",
        "              # Forward propogation\n",
        "              out = net.forward(X_val)\n",
        "\n",
        "              # Prediction \n",
        "              preds = out.argmax(axis=1)\n",
        "        \n",
        "              # Calculate accuracy\n",
        "              accuracy = sum(preds == Y_val)/len(Y_val)\n",
        "\n",
        "              # Calculate loss \n",
        "              loss = loss_fn(out, Y_val)\n",
        "\n",
        "              # Print statement\n",
        "              print(\"Val. accuracy {}, Val. Loss:, {}\".format(accuracy, loss))\n",
        "        \n",
        "              # Append to history record\n",
        "              history['val_accuracy'].append(accuracy)\n",
        "              history['val_loss'].append(loss)\n",
        "\n",
        "            if loss < min_val_loss:\n",
        "          \n",
        "              model_state = {\n",
        "                    'epoch': epoch,\n",
        "                    'model_state_dict': net.state_dict(),\n",
        "                    'optimizer_state_dict': optimizer.state_dict(),\n",
        "                    'history': history\n",
        "                    }\n",
        "          \n",
        "              save_checkpoint(model_state, question_no, model_num)\n",
        "\n",
        "              min_val_loss = loss\n",
        "    \n",
        "\n",
        "        # Plot and save epoch by epoch results\n",
        "        plot_results(history, 'loss', model_num=model_num)\n",
        "        plot_results(history, 'accuracy', model_num=model_num)\n",
        "\n",
        "        # Return statement\n",
        "        return(history)\n",
        "        \n",
        "    # If the test flag is True we execute this\n",
        "    if test:\n",
        "\n",
        "        # First use helper function given below to load checkpoints file\n",
        "        checkpoint = load_checkpoint(question_no = question_no, model_num=model_num)\n",
        "\n",
        "        # Load model state dictionary\n",
        "        net.load_state_dict(checkpoint['model_state_dict'])\n",
        "        \n",
        "        # Load optimizer state dictionary\n",
        "        optimizer.load_state_dict(checkpoint['optimizer_state_dict'])\n",
        "        \n",
        "        # Set model to evaluation mode to make sure any batch norm and dropout layers are set correctly\n",
        "        net.eval()\n",
        "\n",
        "        # Now do the testing process\n",
        "        with torch.no_grad():\n",
        "        \n",
        "            # Forward propogation\n",
        "            out = net.forward(X_test)\n",
        "        \n",
        "            # Prediction \n",
        "            preds = out.argmax(axis=1)\n",
        "        \n",
        "            # Calculate accuracy\n",
        "            accuracy = sum(preds == Y_test)/len(Y_test)\n",
        "        \n",
        "            # Calculate loss \n",
        "            loss = loss_fn(out, Y_test)\n",
        "\n",
        "            # Print success message\n",
        "            print(\"Testing completed! Saving results now...\")\n",
        "\n",
        "            # Print accuracy \n",
        "            print(accuracy)\n",
        "\n",
        "            # Print losss\n",
        "            print(loss)\n",
        "        \n",
        "            # Append to history record\n",
        "            checkpoint['test_accuracy'] = accuracy\n",
        "        \n",
        "            # Append loss to history record\n",
        "            checkpoint['test_loss'] = loss\n",
        "\n",
        "        # Return statement    \n",
        "        return(preds, Y_test, X_test)"
      ],
      "execution_count": null,
      "outputs": []
    },
    {
      "cell_type": "code",
      "metadata": {
        "id": "9WufZvTd4r86"
      },
      "source": [
        "def plot_results(history, lab, model_num, path='/content/drive/MyDrive/'):\n",
        "    '''\n",
        "    Convenience function to plot results\n",
        "    '''\n",
        "    # Construct model name\n",
        "    model_name = str(model_num) + '_' + lab + '.png'\n",
        "    path = os.path.join(path, '1_figs', model_name)\n",
        "    \n",
        "    # Plot the results\n",
        "    plt.plot(history['train_' + lab], label='Train')\n",
        "    plt.plot(history['val_' + lab], label='Validation')\n",
        "  \n",
        "    # Add annotations\n",
        "    plt.legend()\n",
        "    plt.title(lab.title() + ' by Epoch')\n",
        "  \n",
        "    # Save the figure and close the plot\n",
        "    plt.savefig(path)\n",
        "    plt.show()\n",
        "    plt.clf()"
      ],
      "execution_count": null,
      "outputs": []
    },
    {
      "cell_type": "code",
      "metadata": {
        "id": "cJm6U0GS8t0s"
      },
      "source": [
        "def get_results(question_no, model_num):\n",
        "  '''\n",
        "  Take in a results dictionary \n",
        "  and return epoch on which \n",
        "  minimum validation loss was\n",
        "  reached, minimum val. loss on\n",
        "  that epoch, and min. accuracy\n",
        "  on that epoch\n",
        "  '''\n",
        "  # Load the trained weights\n",
        "  checkpoint = load_checkpoint(question_no = question_no, model_num=model_num)\n",
        "\n",
        "  # Load the history object which contains a record of losses\n",
        "  history = checkpoint['history'] \n",
        "\n",
        "  # Find the epoch on which the minimum validation loss was reached\n",
        "  best_val_epoch = np.argmin(np.array(history['val_loss']))\n",
        "  \n",
        "  # Store validation metrics\n",
        "  best_epoch_val_loss = np.array(history['val_loss'][best_val_epoch].cpu())\n",
        "  best_epoch_val_accuracy = np.array(history['val_accuracy'][best_val_epoch].cpu())\n",
        "\n",
        "  # Store training metrics\n",
        "  best_epoch_train_loss = np.array(history['train_loss'][best_val_epoch].cpu())\n",
        "  best_epoch_train_accuracy = np.array(history['train_accuracy'][best_val_epoch].cpu())\n",
        "  \n",
        "  # Store best results in a list\n",
        "  results = {'best_val_epoch': best_val_epoch, \n",
        "             'best_epoch_val_loss': best_epoch_val_loss, \n",
        "             'best_epoch_val_accuracy': best_epoch_val_accuracy, \n",
        "             'best_epoch_train_loss': best_epoch_train_loss,\n",
        "             'best_epoch_train_accuracy': best_epoch_train_accuracy, \n",
        "             'final_train_loss': history['train_loss'][-1].cpu(),\n",
        "             'final_train_accuracy': history['train_accuracy'][-1].cpu(),\n",
        "             'final_val_loss': history['val_loss'][-1].cpu(), \n",
        "             'final_val_accuracy': history['val_accuracy'][-1].cpu()}\n",
        "\n",
        "  # Return statement\n",
        "  return(results)"
      ],
      "execution_count": null,
      "outputs": []
    },
    {
      "cell_type": "code",
      "metadata": {
        "id": "1E2aWCKewn6V"
      },
      "source": [
        "def save_checkpoint(model_state, question_no, model_num):\n",
        "    '''\n",
        "    Save model state using this function\n",
        "    '''\n",
        "    checkpoints_path = '/content/drive/MyDrive/1_checkpoints/{}_{}.pt'.format(question_no, model_num)\n",
        "    \n",
        "    torch.save(model_state, checkpoints_path)"
      ],
      "execution_count": null,
      "outputs": []
    },
    {
      "cell_type": "code",
      "metadata": {
        "id": "KjBI_pNaxFyG"
      },
      "source": [
        "def load_checkpoint(question_no, model_num):\n",
        "    '''\n",
        "    Save model state using this function\n",
        "    '''\n",
        "    # Create checkpoints path\n",
        "    checkpoints_path = '/content/drive/MyDrive/1_checkpoints/{}_{}.pt'.format(question_no, model_num)\n",
        "\n",
        "    # Load checkpoint\n",
        "    checkpoint = torch.load(checkpoints_path)\n",
        "    \n",
        "    # Return statement\n",
        "    return(checkpoint)"
      ],
      "execution_count": null,
      "outputs": []
    },
    {
      "cell_type": "code",
      "metadata": {
        "id": "Wd85GRPu871A"
      },
      "source": [
        "from sklearn.metrics import confusion_matrix\n",
        "import pandas as pd\n",
        "\n",
        "def get_confusion_matrix(pred_list, lbl_list, X_test, question_no, model_num, dest_path='/content/drive/MyDrive/1_results'):\n",
        "    '''\n",
        "    Evaluate model on the test set\n",
        "    '''\n",
        "    cols = ['T-shirt/top', 'Trouser', 'Coat', 'Sandal', 'Bag']\n",
        "    rows = ['T-shirt/top', 'Trouser', 'Coat', 'Sandal', 'Bag']\n",
        "\n",
        "    conf_mat=confusion_matrix(lbl_list.cpu().numpy(), pred_list.cpu().numpy())\n",
        "    cf = pd.DataFrame(conf_mat)\n",
        "    cf.columns = cols \n",
        "    cf.index = rows\n",
        "\n",
        "    cf.to_csv(os.path.join(dest_path, 'confusion_matrix_{}_{}.csv'.format(question_no, model_num)))\n",
        "    print(cf)\n",
        "      \n",
        "    # Print per class accuracy\n",
        "    class_accuracy=100*conf_mat.diagonal()/conf_mat.sum(1)\n",
        "    ca = pd.DataFrame(class_accuracy).T\n",
        "\n",
        "    ca.columns = cols\n",
        "    ca.index = ['Accuracy']\n",
        "    \n",
        "    ca.to_csv(os.path.join(dest_path, 'class_accuracies_{}_{}.csv'.format(question_no, model_num)))\n",
        "    print(ca)\n",
        "\n",
        "\n",
        "    mistakes = [i for i, (lbl, pred) in enumerate(zip(lbl_list, pred_list)) if lbl != pred]\n",
        "\n",
        "    mistake_imgs = X_test[mistakes]\n",
        "\n",
        "    return(mistakes, mistake_imgs, lbl_list, pred_list, X_test)"
      ],
      "execution_count": null,
      "outputs": []
    },
    {
      "cell_type": "code",
      "metadata": {
        "id": "OrTB-v89y8sV"
      },
      "source": [
        "def show_images(img, path, img_type='label'):\n",
        "    '''\n",
        "    Show images\n",
        "    '''\n",
        "    if img_type == 'label':\n",
        "      fig = plt.figure()\n",
        "      fig.set_size_inches(20,5)\n",
        "      img = img.long()\n",
        "      grid_img = torchvision.utils.make_grid(img, nrow=5)\n",
        "      plt.imshow(grid_img.permute(1, 2, 0).cpu().detach().numpy(), cmap='gray')\n",
        "      plt.savefig(path)\n",
        "    \n",
        "    elif img_type == 'feature':\n",
        "      \n",
        "      grid_img = torchvision.utils.make_grid(img, nrow=5)\n",
        "      filters = grid_img.shape[0]\n",
        "      \n",
        "      for filter in range(filters):\n",
        "        fig = plt.figure()\n",
        "        fig.set_size_inches(20,5)\n",
        "        plt.imshow(grid_img[filter].cpu().detach().numpy(), cmap='gray')\n",
        "    \n",
        "    elif img_type == 'filter':\n",
        "      grid_img = torchvision.utils.make_grid(img, nrow=5)\n",
        "      fig = plt.figure()\n",
        "      fig.set_size_inches(20,10)\n",
        "      plt.imshow(grid_img[0].cpu().detach().numpy(), cmap='gray')"
      ],
      "execution_count": null,
      "outputs": []
    },
    {
      "cell_type": "code",
      "metadata": {
        "id": "k24pkxi6wKQd"
      },
      "source": [
        "def get_confusion_indices(labels, preds, X_test, label, pred, dest_path='/content/drive/MyDrive/1_results'):\n",
        "  '''\n",
        "  Get indices of all misclassified samples corresponding \n",
        "  to a particular cell in the confusion in the confusion matrix\n",
        "  '''\n",
        "  # Create target tuple that we are looking for\n",
        "  target = (label, pred)\n",
        "  \n",
        "  # Create list to iterate over\n",
        "  label_pred_combos = list(zip(labels.cpu().numpy(), preds.cpu().numpy()))\n",
        "  \n",
        "  # Get the relevant indices\n",
        "  confusion_indices = [i for i, combo in enumerate(label_pred_combos) if combo == target]\n",
        "\n",
        "  # Get relevant images\n",
        "  X_confusion = X_test[confusion_indices]\n",
        "\n",
        "  # Construct file name\n",
        "  file_name = 'confusion_img_' + str(label) + '_' + str(pred)\n",
        "\n",
        "  # Show and save relevant images\n",
        "  show_images(img=X_confusion, path=os.path.join(dest_path, file_name))\n",
        "\n",
        "  # Return statement\n",
        "  return(X_confusion)"
      ],
      "execution_count": null,
      "outputs": []
    },
    {
      "cell_type": "code",
      "metadata": {
        "id": "OtvPRwglvTKx"
      },
      "source": [
        "def execute_train_pipeline(question_no, model_num, test):\n",
        "    '''\n",
        "    Execute training for different model objects\n",
        "    '''\n",
        "    if model_num == 10:\n",
        "      results = train(question_no, model_num, lr=0.00001, batch_size=32, epochs=70, weight_decay=0.01, test=test)\n",
        "\n",
        "    if test:\n",
        "      \n",
        "      # First make the confusion matrix\n",
        "      results = get_confusion_matrix(*results, question_no, model_num)\n",
        "      \n",
        "      # Next store the\n",
        "      final_results = get_results(question_no, model_num)\n",
        "\n",
        "      pp = pprint.PrettyPrinter(indent=4)\n",
        "      pp.pprint(final_results)\n",
        "    \n",
        "    return(results)"
      ],
      "execution_count": null,
      "outputs": []
    },
    {
      "cell_type": "code",
      "metadata": {
        "id": "f_puT_fZ-7Cb",
        "colab": {
          "base_uri": "https://localhost:8080/",
          "height": 1000
        },
        "outputId": "eb5b07af-0dcc-47e9-a816-49a47a982e8e"
      },
      "source": [
        "train_results = execute_train_pipeline(question_no=1, model_num=10, test=False)"
      ],
      "execution_count": null,
      "outputs": [
        {
          "output_type": "stream",
          "text": [
            "\r  0%|          | 0/70 [00:00<?, ?it/s]"
          ],
          "name": "stderr"
        },
        {
          "output_type": "stream",
          "text": [
            "Train accuracy 0.9372972846031189, Train Loss: 0.21794173121452332\n",
            "Val. accuracy 0.9361194372177124, Val. Loss:, 0.218545600771904\n"
          ],
          "name": "stdout"
        },
        {
          "output_type": "stream",
          "text": [
            "  3%|▎         | 2/70 [00:13<07:34,  6.68s/it]"
          ],
          "name": "stderr"
        },
        {
          "output_type": "stream",
          "text": [
            "Train accuracy 0.9577977657318115, Train Loss: 0.1473623812198639\n",
            "Val. accuracy 0.9542288780212402, Val. Loss:, 0.15106552839279175\n"
          ],
          "name": "stdout"
        },
        {
          "output_type": "stream",
          "text": [
            "\r  4%|▍         | 3/70 [00:19<07:19,  6.55s/it]"
          ],
          "name": "stderr"
        },
        {
          "output_type": "stream",
          "text": [
            "Train accuracy 0.9670069813728333, Train Loss: 0.1190275326371193\n",
            "Val. accuracy 0.9621890783309937, Val. Loss:, 0.1241450235247612\n"
          ],
          "name": "stdout"
        },
        {
          "output_type": "stream",
          "text": [
            "\r  6%|▌         | 4/70 [00:25<07:07,  6.48s/it]"
          ],
          "name": "stderr"
        },
        {
          "output_type": "stream",
          "text": [
            "Train accuracy 0.9702902436256409, Train Loss: 0.1031339168548584\n",
            "Val. accuracy 0.967562198638916, Val. Loss:, 0.10984385758638382\n"
          ],
          "name": "stdout"
        },
        {
          "output_type": "stream",
          "text": [
            "\r  7%|▋         | 5/70 [00:31<06:54,  6.38s/it]"
          ],
          "name": "stderr"
        },
        {
          "output_type": "stream",
          "text": [
            "Train accuracy 0.9736536145210266, Train Loss: 0.09342766553163528\n",
            "Val. accuracy 0.9693532586097717, Val. Loss:, 0.10098394751548767\n"
          ],
          "name": "stdout"
        },
        {
          "output_type": "stream",
          "text": [
            "\r  9%|▊         | 6/70 [00:38<06:48,  6.38s/it]"
          ],
          "name": "stderr"
        },
        {
          "output_type": "stream",
          "text": [
            "Train accuracy 0.9755755662918091, Train Loss: 0.08557386696338654\n",
            "Val. accuracy 0.9711443185806274, Val. Loss:, 0.0943501815199852\n"
          ],
          "name": "stdout"
        },
        {
          "output_type": "stream",
          "text": [
            "\r 10%|█         | 7/70 [00:44<06:39,  6.34s/it]"
          ],
          "name": "stderr"
        },
        {
          "output_type": "stream",
          "text": [
            "Train accuracy 0.9778578281402588, Train Loss: 0.0793207585811615\n",
            "Val. accuracy 0.9745273590087891, Val. Loss:, 0.08936978131532669\n"
          ],
          "name": "stdout"
        },
        {
          "output_type": "stream",
          "text": [
            "\r 11%|█▏        | 8/70 [00:50<06:30,  6.30s/it]"
          ],
          "name": "stderr"
        },
        {
          "output_type": "stream",
          "text": [
            "Train accuracy 0.9778177738189697, Train Loss: 0.07765167951583862\n",
            "Val. accuracy 0.9727363586425781, Val. Loss:, 0.09038355201482773\n"
          ],
          "name": "stdout"
        },
        {
          "output_type": "stream",
          "text": [
            "\r 13%|█▎        | 9/70 [00:56<06:24,  6.30s/it]"
          ],
          "name": "stderr"
        },
        {
          "output_type": "stream",
          "text": [
            "Train accuracy 0.9794194102287292, Train Loss: 0.07085994631052017\n",
            "Val. accuracy 0.9747263789176941, Val. Loss:, 0.08339033275842667\n"
          ],
          "name": "stdout"
        },
        {
          "output_type": "stream",
          "text": [
            "\r 14%|█▍        | 10/70 [01:03<06:19,  6.32s/it]"
          ],
          "name": "stderr"
        },
        {
          "output_type": "stream",
          "text": [
            "Train accuracy 0.9800600409507751, Train Loss: 0.06814052164554596\n",
            "Val. accuracy 0.9749253988265991, Val. Loss:, 0.08180486410856247\n"
          ],
          "name": "stdout"
        },
        {
          "output_type": "stream",
          "text": [
            "\r 16%|█▌        | 11/70 [01:09<06:13,  6.32s/it]"
          ],
          "name": "stderr"
        },
        {
          "output_type": "stream",
          "text": [
            "Train accuracy 0.9818217754364014, Train Loss: 0.06443198770284653\n",
            "Val. accuracy 0.9765174388885498, Val. Loss:, 0.08008993417024612\n"
          ],
          "name": "stdout"
        },
        {
          "output_type": "stream",
          "text": [
            "\r 17%|█▋        | 12/70 [01:15<06:07,  6.33s/it]"
          ],
          "name": "stderr"
        },
        {
          "output_type": "stream",
          "text": [
            "Train accuracy 0.9833433032035828, Train Loss: 0.059151921421289444\n",
            "Val. accuracy 0.9775124788284302, Val. Loss:, 0.07437340170145035\n"
          ],
          "name": "stdout"
        },
        {
          "output_type": "stream",
          "text": [
            "\r 19%|█▊        | 13/70 [01:22<06:00,  6.32s/it]"
          ],
          "name": "stderr"
        },
        {
          "output_type": "stream",
          "text": [
            "Train accuracy 0.9828227758407593, Train Loss: 0.05917399004101753\n",
            "Val. accuracy 0.9773134589195251, Val. Loss:, 0.07391855865716934\n"
          ],
          "name": "stdout"
        },
        {
          "output_type": "stream",
          "text": [
            "\r 20%|██        | 14/70 [01:28<05:53,  6.31s/it]"
          ],
          "name": "stderr"
        },
        {
          "output_type": "stream",
          "text": [
            "Train accuracy 0.9843443036079407, Train Loss: 0.05540759861469269\n",
            "Val. accuracy 0.9791045188903809, Val. Loss:, 0.07171302288770676\n"
          ],
          "name": "stdout"
        },
        {
          "output_type": "stream",
          "text": [
            "\r 21%|██▏       | 15/70 [01:34<05:46,  6.30s/it]"
          ],
          "name": "stderr"
        },
        {
          "output_type": "stream",
          "text": [
            "Train accuracy 0.9839839339256287, Train Loss: 0.05480997636914253\n",
            "Val. accuracy 0.9791045188903809, Val. Loss:, 0.07165367901325226\n"
          ],
          "name": "stdout"
        },
        {
          "output_type": "stream",
          "text": [
            "\r 23%|██▎       | 16/70 [01:41<05:39,  6.29s/it]"
          ],
          "name": "stderr"
        },
        {
          "output_type": "stream",
          "text": [
            "Train accuracy 0.9850249886512756, Train Loss: 0.051351405680179596\n",
            "Val. accuracy 0.9806965589523315, Val. Loss:, 0.06782636791467667\n"
          ],
          "name": "stdout"
        },
        {
          "output_type": "stream",
          "text": [
            "\r 24%|██▍       | 17/70 [01:47<05:32,  6.28s/it]"
          ],
          "name": "stderr"
        },
        {
          "output_type": "stream",
          "text": [
            "Train accuracy 0.9856656193733215, Train Loss: 0.04913858324289322\n",
            "Val. accuracy 0.9806965589523315, Val. Loss:, 0.06677804887294769\n"
          ],
          "name": "stdout"
        },
        {
          "output_type": "stream",
          "text": [
            "\r 26%|██▌       | 18/70 [01:53<05:27,  6.29s/it]"
          ],
          "name": "stderr"
        },
        {
          "output_type": "stream",
          "text": [
            "Train accuracy 0.986186146736145, Train Loss: 0.05020659416913986\n",
            "Val. accuracy 0.9789054989814758, Val. Loss:, 0.06726144999265671\n"
          ],
          "name": "stdout"
        },
        {
          "output_type": "stream",
          "text": [
            "\r 27%|██▋       | 19/70 [01:59<05:21,  6.30s/it]"
          ],
          "name": "stderr"
        },
        {
          "output_type": "stream",
          "text": [
            "Train accuracy 0.9856656193733215, Train Loss: 0.04703572764992714\n",
            "Val. accuracy 0.9804975390434265, Val. Loss:, 0.06673982739448547\n"
          ],
          "name": "stdout"
        },
        {
          "output_type": "stream",
          "text": [
            "\r 29%|██▊       | 20/70 [02:06<05:15,  6.32s/it]"
          ],
          "name": "stderr"
        },
        {
          "output_type": "stream",
          "text": [
            "Train accuracy 0.9871871471405029, Train Loss: 0.045978859066963196\n",
            "Val. accuracy 0.9806965589523315, Val. Loss:, 0.06544472277164459\n"
          ],
          "name": "stdout"
        },
        {
          "output_type": "stream",
          "text": [
            "\r 30%|███       | 21/70 [02:12<05:09,  6.32s/it]"
          ],
          "name": "stderr"
        },
        {
          "output_type": "stream",
          "text": [
            "Train accuracy 0.987587571144104, Train Loss: 0.043481551110744476\n",
            "Val. accuracy 0.9810945391654968, Val. Loss:, 0.06274202466011047\n"
          ],
          "name": "stdout"
        },
        {
          "output_type": "stream",
          "text": [
            "\r 31%|███▏      | 22/70 [02:19<05:04,  6.34s/it]"
          ],
          "name": "stderr"
        },
        {
          "output_type": "stream",
          "text": [
            "Train accuracy 0.9866666197776794, Train Loss: 0.04688258469104767\n",
            "Val. accuracy 0.9791045188903809, Val. Loss:, 0.06875094026327133\n"
          ],
          "name": "stdout"
        },
        {
          "output_type": "stream",
          "text": [
            "\r 33%|███▎      | 23/70 [02:25<04:56,  6.31s/it]"
          ],
          "name": "stderr"
        },
        {
          "output_type": "stream",
          "text": [
            "Train accuracy 0.9887086749076843, Train Loss: 0.04102285951375961\n",
            "Val. accuracy 0.9806965589523315, Val. Loss:, 0.06174210086464882\n"
          ],
          "name": "stdout"
        },
        {
          "output_type": "stream",
          "text": [
            "\r 34%|███▍      | 24/70 [02:31<04:49,  6.30s/it]"
          ],
          "name": "stderr"
        },
        {
          "output_type": "stream",
          "text": [
            "Train accuracy 0.9886285662651062, Train Loss: 0.03978912904858589\n",
            "Val. accuracy 0.9816915392875671, Val. Loss:, 0.0614420622587204\n"
          ],
          "name": "stdout"
        },
        {
          "output_type": "stream",
          "text": [
            "\r 36%|███▌      | 25/70 [02:37<04:43,  6.30s/it]"
          ],
          "name": "stderr"
        },
        {
          "output_type": "stream",
          "text": [
            "Train accuracy 0.9885485172271729, Train Loss: 0.03979118540883064\n",
            "Val. accuracy 0.9800994992256165, Val. Loss:, 0.062185537070035934\n"
          ],
          "name": "stdout"
        },
        {
          "output_type": "stream",
          "text": [
            "\r 37%|███▋      | 26/70 [02:44<04:36,  6.28s/it]"
          ],
          "name": "stderr"
        },
        {
          "output_type": "stream",
          "text": [
            "Train accuracy 0.9888688325881958, Train Loss: 0.039167772978544235\n",
            "Val. accuracy 0.9812935590744019, Val. Loss:, 0.06278881430625916\n"
          ],
          "name": "stdout"
        },
        {
          "output_type": "stream",
          "text": [
            "\r 39%|███▊      | 27/70 [02:50<04:29,  6.26s/it]"
          ],
          "name": "stderr"
        },
        {
          "output_type": "stream",
          "text": [
            "Train accuracy 0.9899098873138428, Train Loss: 0.0370941236615181\n",
            "Val. accuracy 0.9826865792274475, Val. Loss:, 0.059982411563396454\n"
          ],
          "name": "stdout"
        },
        {
          "output_type": "stream",
          "text": [
            "\r 40%|████      | 28/70 [02:56<04:23,  6.28s/it]"
          ],
          "name": "stderr"
        },
        {
          "output_type": "stream",
          "text": [
            "Train accuracy 0.9899098873138428, Train Loss: 0.037391871213912964\n",
            "Val. accuracy 0.9818905591964722, Val. Loss:, 0.061634041368961334\n"
          ],
          "name": "stdout"
        },
        {
          "output_type": "stream",
          "text": [
            "\r 41%|████▏     | 29/70 [03:02<04:16,  6.26s/it]"
          ],
          "name": "stderr"
        },
        {
          "output_type": "stream",
          "text": [
            "Train accuracy 0.9901100993156433, Train Loss: 0.0364396832883358\n",
            "Val. accuracy 0.9818905591964722, Val. Loss:, 0.059068161994218826\n"
          ],
          "name": "stdout"
        },
        {
          "output_type": "stream",
          "text": [
            "\r 43%|████▎     | 30/70 [03:09<04:11,  6.28s/it]"
          ],
          "name": "stderr"
        },
        {
          "output_type": "stream",
          "text": [
            "Train accuracy 0.9909108877182007, Train Loss: 0.03448335826396942\n",
            "Val. accuracy 0.9822885990142822, Val. Loss:, 0.057439256459474564\n"
          ],
          "name": "stdout"
        },
        {
          "output_type": "stream",
          "text": [
            "\r 44%|████▍     | 31/70 [03:15<04:05,  6.29s/it]"
          ],
          "name": "stderr"
        },
        {
          "output_type": "stream",
          "text": [
            "Train accuracy 0.9906706213951111, Train Loss: 0.034799471497535706\n",
            "Val. accuracy 0.9816915392875671, Val. Loss:, 0.05883442237973213\n"
          ],
          "name": "stdout"
        },
        {
          "output_type": "stream",
          "text": [
            "\r 46%|████▌     | 32/70 [03:21<03:58,  6.27s/it]"
          ],
          "name": "stderr"
        },
        {
          "output_type": "stream",
          "text": [
            "Train accuracy 0.9895094633102417, Train Loss: 0.03612268716096878\n",
            "Val. accuracy 0.9826865792274475, Val. Loss:, 0.06059972941875458\n"
          ],
          "name": "stdout"
        },
        {
          "output_type": "stream",
          "text": [
            "\r 47%|████▋     | 33/70 [03:27<03:51,  6.26s/it]"
          ],
          "name": "stderr"
        },
        {
          "output_type": "stream",
          "text": [
            "Train accuracy 0.9905104637145996, Train Loss: 0.0348820760846138\n",
            "Val. accuracy 0.9818905591964722, Val. Loss:, 0.05942917987704277\n"
          ],
          "name": "stdout"
        },
        {
          "output_type": "stream",
          "text": [
            "\r 49%|████▊     | 34/70 [03:34<03:45,  6.26s/it]"
          ],
          "name": "stderr"
        },
        {
          "output_type": "stream",
          "text": [
            "Train accuracy 0.991311252117157, Train Loss: 0.03236547112464905\n",
            "Val. accuracy 0.9836816191673279, Val. Loss:, 0.05609218403697014\n"
          ],
          "name": "stdout"
        },
        {
          "output_type": "stream",
          "text": [
            "\r 50%|█████     | 35/70 [03:40<03:38,  6.25s/it]"
          ],
          "name": "stderr"
        },
        {
          "output_type": "stream",
          "text": [
            "Train accuracy 0.9902302026748657, Train Loss: 0.03385584428906441\n",
            "Val. accuracy 0.9816915392875671, Val. Loss:, 0.058787669986486435\n"
          ],
          "name": "stdout"
        },
        {
          "output_type": "stream",
          "text": [
            "\r 51%|█████▏    | 36/70 [03:46<03:31,  6.23s/it]"
          ],
          "name": "stderr"
        },
        {
          "output_type": "stream",
          "text": [
            "Train accuracy 0.992031991481781, Train Loss: 0.03060159459710121\n",
            "Val. accuracy 0.9834825992584229, Val. Loss:, 0.05666961148381233\n"
          ],
          "name": "stdout"
        },
        {
          "output_type": "stream",
          "text": [
            "\r 53%|█████▎    | 37/70 [03:52<03:25,  6.22s/it]"
          ],
          "name": "stderr"
        },
        {
          "output_type": "stream",
          "text": [
            "Train accuracy 0.9923122525215149, Train Loss: 0.029826024547219276\n",
            "Val. accuracy 0.9838806390762329, Val. Loss:, 0.05563584715127945\n"
          ],
          "name": "stdout"
        },
        {
          "output_type": "stream",
          "text": [
            "\r 54%|█████▍    | 38/70 [03:59<03:19,  6.22s/it]"
          ],
          "name": "stderr"
        },
        {
          "output_type": "stream",
          "text": [
            "Train accuracy 0.9921520948410034, Train Loss: 0.029548168182373047\n",
            "Val. accuracy 0.9826865792274475, Val. Loss:, 0.05624311789870262\n"
          ],
          "name": "stdout"
        },
        {
          "output_type": "stream",
          "text": [
            "\r 56%|█████▌    | 39/70 [04:05<03:14,  6.27s/it]"
          ],
          "name": "stderr"
        },
        {
          "output_type": "stream",
          "text": [
            "Train accuracy 0.9921921491622925, Train Loss: 0.028912346810102463\n",
            "Val. accuracy 0.9838806390762329, Val. Loss:, 0.05524841696023941\n"
          ],
          "name": "stdout"
        },
        {
          "output_type": "stream",
          "text": [
            "\r 57%|█████▋    | 40/70 [04:11<03:10,  6.35s/it]"
          ],
          "name": "stderr"
        },
        {
          "output_type": "stream",
          "text": [
            "Train accuracy 0.9919919371604919, Train Loss: 0.028639718890190125\n",
            "Val. accuracy 0.9832835793495178, Val. Loss:, 0.05643652379512787\n"
          ],
          "name": "stdout"
        },
        {
          "output_type": "stream",
          "text": [
            "\r 59%|█████▊    | 41/70 [04:18<03:04,  6.38s/it]"
          ],
          "name": "stderr"
        },
        {
          "output_type": "stream",
          "text": [
            "Train accuracy 0.9921520948410034, Train Loss: 0.028992347419261932\n",
            "Val. accuracy 0.9828855991363525, Val. Loss:, 0.05472835898399353\n"
          ],
          "name": "stdout"
        },
        {
          "output_type": "stream",
          "text": [
            "\r 60%|██████    | 42/70 [04:24<02:57,  6.34s/it]"
          ],
          "name": "stderr"
        },
        {
          "output_type": "stream",
          "text": [
            "Train accuracy 0.992352306842804, Train Loss: 0.02907322160899639\n",
            "Val. accuracy 0.9844776391983032, Val. Loss:, 0.05635497346520424\n"
          ],
          "name": "stdout"
        },
        {
          "output_type": "stream",
          "text": [
            "\r 61%|██████▏   | 43/70 [04:30<02:50,  6.32s/it]"
          ],
          "name": "stderr"
        },
        {
          "output_type": "stream",
          "text": [
            "Train accuracy 0.993073046207428, Train Loss: 0.026723530143499374\n",
            "Val. accuracy 0.9840795993804932, Val. Loss:, 0.05358419567346573\n"
          ],
          "name": "stdout"
        },
        {
          "output_type": "stream",
          "text": [
            "\r 63%|██████▎   | 44/70 [04:37<02:43,  6.29s/it]"
          ],
          "name": "stderr"
        },
        {
          "output_type": "stream",
          "text": [
            "Train accuracy 0.992392361164093, Train Loss: 0.02832627482712269\n",
            "Val. accuracy 0.9830846190452576, Val. Loss:, 0.056026484817266464\n"
          ],
          "name": "stdout"
        },
        {
          "output_type": "stream",
          "text": [
            "\r 64%|██████▍   | 45/70 [04:43<02:37,  6.30s/it]"
          ],
          "name": "stderr"
        },
        {
          "output_type": "stream",
          "text": [
            "Train accuracy 0.99343341588974, Train Loss: 0.026186997070908546\n",
            "Val. accuracy 0.9844776391983032, Val. Loss:, 0.05338616296648979\n"
          ],
          "name": "stdout"
        },
        {
          "output_type": "stream",
          "text": [
            "\r 66%|██████▌   | 46/70 [04:49<02:30,  6.29s/it]"
          ],
          "name": "stderr"
        },
        {
          "output_type": "stream",
          "text": [
            "Train accuracy 0.9935134649276733, Train Loss: 0.026074912399053574\n",
            "Val. accuracy 0.9830846190452576, Val. Loss:, 0.0541837215423584\n"
          ],
          "name": "stdout"
        },
        {
          "output_type": "stream",
          "text": [
            "\r 67%|██████▋   | 47/70 [04:56<02:24,  6.28s/it]"
          ],
          "name": "stderr"
        },
        {
          "output_type": "stream",
          "text": [
            "Train accuracy 0.9933933615684509, Train Loss: 0.025764144957065582\n",
            "Val. accuracy 0.9842786192893982, Val. Loss:, 0.0541769377887249\n"
          ],
          "name": "stdout"
        },
        {
          "output_type": "stream",
          "text": [
            "\r 69%|██████▊   | 48/70 [05:02<02:18,  6.28s/it]"
          ],
          "name": "stderr"
        },
        {
          "output_type": "stream",
          "text": [
            "Train accuracy 0.9919919371604919, Train Loss: 0.028879428282380104\n",
            "Val. accuracy 0.9840795993804932, Val. Loss:, 0.05498714745044708\n"
          ],
          "name": "stdout"
        },
        {
          "output_type": "stream",
          "text": [
            "\r 70%|███████   | 49/70 [05:08<02:12,  6.29s/it]"
          ],
          "name": "stderr"
        },
        {
          "output_type": "stream",
          "text": [
            "Train accuracy 0.9925525188446045, Train Loss: 0.025958508253097534\n",
            "Val. accuracy 0.9828855991363525, Val. Loss:, 0.05563229322433472\n"
          ],
          "name": "stdout"
        },
        {
          "output_type": "stream",
          "text": [
            "\r 71%|███████▏  | 50/70 [05:14<02:05,  6.30s/it]"
          ],
          "name": "stderr"
        },
        {
          "output_type": "stream",
          "text": [
            "Train accuracy 0.9935935735702515, Train Loss: 0.024502618238329887\n",
            "Val. accuracy 0.9846766591072083, Val. Loss:, 0.052490927278995514\n"
          ],
          "name": "stdout"
        },
        {
          "output_type": "stream",
          "text": [
            "\r 73%|███████▎  | 51/70 [05:21<01:59,  6.29s/it]"
          ],
          "name": "stderr"
        },
        {
          "output_type": "stream",
          "text": [
            "Train accuracy 0.9941540956497192, Train Loss: 0.02381528541445732\n",
            "Val. accuracy 0.9840795993804932, Val. Loss:, 0.05220045894384384\n"
          ],
          "name": "stdout"
        },
        {
          "output_type": "stream",
          "text": [
            "\r 74%|███████▍  | 52/70 [05:27<01:53,  6.28s/it]"
          ],
          "name": "stderr"
        },
        {
          "output_type": "stream",
          "text": [
            "Train accuracy 0.9943543076515198, Train Loss: 0.023518657311797142\n",
            "Val. accuracy 0.9854726791381836, Val. Loss:, 0.05272062495350838\n"
          ],
          "name": "stdout"
        },
        {
          "output_type": "stream",
          "text": [
            "\r 76%|███████▌  | 53/70 [05:33<01:46,  6.28s/it]"
          ],
          "name": "stderr"
        },
        {
          "output_type": "stream",
          "text": [
            "Train accuracy 0.9942342042922974, Train Loss: 0.0232173390686512\n",
            "Val. accuracy 0.9834825992584229, Val. Loss:, 0.05198430269956589\n"
          ],
          "name": "stdout"
        },
        {
          "output_type": "stream",
          "text": [
            "\r 77%|███████▋  | 54/70 [05:39<01:40,  6.27s/it]"
          ],
          "name": "stderr"
        },
        {
          "output_type": "stream",
          "text": [
            "Train accuracy 0.9925925731658936, Train Loss: 0.02700808271765709\n",
            "Val. accuracy 0.9836816191673279, Val. Loss:, 0.05823592096567154\n"
          ],
          "name": "stdout"
        },
        {
          "output_type": "stream",
          "text": [
            "\r 79%|███████▊  | 55/70 [05:46<01:33,  6.23s/it]"
          ],
          "name": "stderr"
        },
        {
          "output_type": "stream",
          "text": [
            "Train accuracy 0.9939939379692078, Train Loss: 0.02269834466278553\n",
            "Val. accuracy 0.9860696792602539, Val. Loss:, 0.051427632570266724\n"
          ],
          "name": "stdout"
        },
        {
          "output_type": "stream",
          "text": [
            "\r 80%|████████  | 56/70 [05:52<01:27,  6.24s/it]"
          ],
          "name": "stderr"
        },
        {
          "output_type": "stream",
          "text": [
            "Train accuracy 0.9929529428482056, Train Loss: 0.025610268115997314\n",
            "Val. accuracy 0.9820895791053772, Val. Loss:, 0.05452204495668411\n"
          ],
          "name": "stdout"
        },
        {
          "output_type": "stream",
          "text": [
            "\r 81%|████████▏ | 57/70 [05:58<01:21,  6.25s/it]"
          ],
          "name": "stderr"
        },
        {
          "output_type": "stream",
          "text": [
            "Train accuracy 0.9951151013374329, Train Loss: 0.021290773525834084\n",
            "Val. accuracy 0.9860696792602539, Val. Loss:, 0.05038991943001747\n"
          ],
          "name": "stdout"
        },
        {
          "output_type": "stream",
          "text": [
            "\r 83%|████████▎ | 58/70 [06:04<01:15,  6.25s/it]"
          ],
          "name": "stderr"
        },
        {
          "output_type": "stream",
          "text": [
            "Train accuracy 0.9948347806930542, Train Loss: 0.021635321900248528\n",
            "Val. accuracy 0.9862686991691589, Val. Loss:, 0.05147095397114754\n"
          ],
          "name": "stdout"
        },
        {
          "output_type": "stream",
          "text": [
            "\r 84%|████████▍ | 59/70 [06:11<01:08,  6.25s/it]"
          ],
          "name": "stderr"
        },
        {
          "output_type": "stream",
          "text": [
            "Train accuracy 0.9953553080558777, Train Loss: 0.020792508497834206\n",
            "Val. accuracy 0.9858706593513489, Val. Loss:, 0.0506611093878746\n"
          ],
          "name": "stdout"
        },
        {
          "output_type": "stream",
          "text": [
            "\r 86%|████████▌ | 60/70 [06:17<01:02,  6.25s/it]"
          ],
          "name": "stderr"
        },
        {
          "output_type": "stream",
          "text": [
            "Train accuracy 0.9947947859764099, Train Loss: 0.02179589681327343\n",
            "Val. accuracy 0.9856716394424438, Val. Loss:, 0.05214528739452362\n"
          ],
          "name": "stdout"
        },
        {
          "output_type": "stream",
          "text": [
            "\r 87%|████████▋ | 61/70 [06:23<00:56,  6.24s/it]"
          ],
          "name": "stderr"
        },
        {
          "output_type": "stream",
          "text": [
            "Train accuracy 0.9942742586135864, Train Loss: 0.02238675206899643\n",
            "Val. accuracy 0.9856716394424438, Val. Loss:, 0.053415607661008835\n"
          ],
          "name": "stdout"
        },
        {
          "output_type": "stream",
          "text": [
            "\r 89%|████████▊ | 62/70 [06:29<00:50,  6.26s/it]"
          ],
          "name": "stderr"
        },
        {
          "output_type": "stream",
          "text": [
            "Train accuracy 0.9943943619728088, Train Loss: 0.021419158205389977\n",
            "Val. accuracy 0.9856716394424438, Val. Loss:, 0.053160253912210464\n"
          ],
          "name": "stdout"
        },
        {
          "output_type": "stream",
          "text": [
            "\r 90%|█████████ | 63/70 [06:36<00:43,  6.23s/it]"
          ],
          "name": "stderr"
        },
        {
          "output_type": "stream",
          "text": [
            "Train accuracy 0.9944744110107422, Train Loss: 0.022140460088849068\n",
            "Val. accuracy 0.9832835793495178, Val. Loss:, 0.05298490449786186\n"
          ],
          "name": "stdout"
        },
        {
          "output_type": "stream",
          "text": [
            "\r 91%|█████████▏| 64/70 [06:42<00:37,  6.23s/it]"
          ],
          "name": "stderr"
        },
        {
          "output_type": "stream",
          "text": [
            "Train accuracy 0.9951951503753662, Train Loss: 0.01973893493413925\n",
            "Val. accuracy 0.9858706593513489, Val. Loss:, 0.05070984363555908\n"
          ],
          "name": "stdout"
        },
        {
          "output_type": "stream",
          "text": [
            "\r 93%|█████████▎| 65/70 [06:48<00:31,  6.26s/it]"
          ],
          "name": "stderr"
        },
        {
          "output_type": "stream",
          "text": [
            "Train accuracy 0.9952352046966553, Train Loss: 0.01934284344315529\n",
            "Val. accuracy 0.9860696792602539, Val. Loss:, 0.05068492516875267\n"
          ],
          "name": "stdout"
        },
        {
          "output_type": "stream",
          "text": [
            "\r 94%|█████████▍| 66/70 [06:54<00:24,  6.23s/it]"
          ],
          "name": "stderr"
        },
        {
          "output_type": "stream",
          "text": [
            "Train accuracy 0.9953553080558777, Train Loss: 0.019353631883859634\n",
            "Val. accuracy 0.9856716394424438, Val. Loss:, 0.05070839449763298\n"
          ],
          "name": "stdout"
        },
        {
          "output_type": "stream",
          "text": [
            "\r 96%|█████████▌| 67/70 [07:00<00:18,  6.21s/it]"
          ],
          "name": "stderr"
        },
        {
          "output_type": "stream",
          "text": [
            "Train accuracy 0.9952752590179443, Train Loss: 0.019611548632383347\n",
            "Val. accuracy 0.9856716394424438, Val. Loss:, 0.05247710272669792\n"
          ],
          "name": "stdout"
        },
        {
          "output_type": "stream",
          "text": [
            "\r 97%|█████████▋| 68/70 [07:07<00:12,  6.21s/it]"
          ],
          "name": "stderr"
        },
        {
          "output_type": "stream",
          "text": [
            "Train accuracy 0.9958357810974121, Train Loss: 0.018625503405928612\n",
            "Val. accuracy 0.9860696792602539, Val. Loss:, 0.05102197825908661\n"
          ],
          "name": "stdout"
        },
        {
          "output_type": "stream",
          "text": [
            "\r 99%|█████████▊| 69/70 [07:13<00:06,  6.23s/it]"
          ],
          "name": "stderr"
        },
        {
          "output_type": "stream",
          "text": [
            "Train accuracy 0.9957957863807678, Train Loss: 0.018480630591511726\n",
            "Val. accuracy 0.9856716394424438, Val. Loss:, 0.05103249475359917\n"
          ],
          "name": "stdout"
        },
        {
          "output_type": "stream",
          "text": [
            "100%|██████████| 70/70 [07:19<00:00,  6.28s/it]"
          ],
          "name": "stderr"
        },
        {
          "output_type": "stream",
          "text": [
            "Train accuracy 0.9953553080558777, Train Loss: 0.01945672743022442\n",
            "Val. accuracy 0.9852736592292786, Val. Loss:, 0.053360383957624435\n"
          ],
          "name": "stdout"
        },
        {
          "output_type": "stream",
          "text": [
            "\n"
          ],
          "name": "stderr"
        },
        {
          "output_type": "display_data",
          "data": {
            "image/png": "[encoded data removed]",
            "text/plain": [
              "<Figure size 432x288 with 1 Axes>"
            ]
          },
          "metadata": {
            "tags": [],
            "needs_background": "light"
          }
        },
        {
          "output_type": "display_data",
          "data": {
            "image/png": "[encoded data removed]",
            "text/plain": [
              "<Figure size 432x288 with 1 Axes>"
            ]
          },
          "metadata": {
            "tags": [],
            "needs_background": "light"
          }
        },
        {
          "output_type": "display_data",
          "data": {
            "text/plain": [
              "<Figure size 432x288 with 0 Axes>"
            ]
          },
          "metadata": {
            "tags": []
          }
        }
      ]
    },
    {
      "cell_type": "code",
      "metadata": {
        "colab": {
          "base_uri": "https://localhost:8080/"
        },
        "id": "uV-ktPWTngQL",
        "outputId": "469e3bb5-d470-4ea3-97ae-b6edc01385cd"
      },
      "source": [
        "mistakes, mistake_imgs, lbl_list, pred_list, X_test = execute_train_pipeline(question_no=1, model_num=10, test=True)"
      ],
      "execution_count": null,
      "outputs": [
        {
          "output_type": "stream",
          "text": [
            "Testing completed! Saving results now...\n",
            "tensor(0.9858, device='cuda:0')\n",
            "tensor(0.0472, device='cuda:0')\n",
            "             T-shirt/top  Trouser  Coat  Sandal  Bag\n",
            "T-shirt/top          971        4    11       3   11\n",
            "Trouser                3      988     7       0    2\n",
            "Coat                   6        2   989       1    2\n",
            "Sandal                 0        1     0     999    0\n",
            "Bag                    8        2     4       4  982\n",
            "          T-shirt/top  Trouser  Coat  Sandal   Bag\n",
            "Accuracy         97.1     98.8  98.9    99.9  98.2\n",
            "{   'best_epoch_train_accuracy': array(0.9951151, dtype=float32),\n",
            "    'best_epoch_train_loss': array(0.02129077, dtype=float32),\n",
            "    'best_epoch_val_accuracy': array(0.9860697, dtype=float32),\n",
            "    'best_epoch_val_loss': array(0.05038992, dtype=float32),\n",
            "    'best_val_epoch': 56,\n",
            "    'final_train_accuracy': tensor(0.9951),\n",
            "    'final_train_loss': tensor(0.0213),\n",
            "    'final_val_accuracy': tensor(0.9861),\n",
            "    'final_val_loss': tensor(0.0504)}\n"
          ],
          "name": "stdout"
        }
      ]
    },
    {
      "cell_type": "code",
      "metadata": {
        "id": "31MefKNRJj9Q"
      },
      "source": [
        "'''\n",
        "{   'best_epoch_train_accuracy': array(0.99499494, dtype=float32),\n",
        "    'best_epoch_train_loss': array(0.02142712, dtype=float32),\n",
        "    'best_epoch_val_accuracy': array(0.98527366, dtype=float32),\n",
        "    'best_epoch_val_loss': array(0.05036554, dtype=float32),\n",
        "    'best_val_epoch': 56,\n",
        "    'final_train_accuracy': tensor(0.9952),\n",
        "    'final_train_loss': tensor(0.0195),\n",
        "    'final_val_accuracy': tensor(0.9861),\n",
        "    'final_val_loss': tensor(0.0510)}\n",
        "'''"
      ],
      "execution_count": null,
      "outputs": []
    },
    {
      "cell_type": "code",
      "metadata": {
        "colab": {
          "base_uri": "https://localhost:8080/",
          "height": 1000
        },
        "id": "WZOEh5gOuG76",
        "outputId": "3727a36a-b3f8-46d6-8c85-0c33232970c6"
      },
      "source": [
        "get_confusion_indices(lbl_list, pred_list, X_test, 4, 0)"
      ],
      "execution_count": null,
      "outputs": [
        {
          "output_type": "execute_result",
          "data": {
            "text/plain": [
              "tensor([[[[ 0.,  0.,  0.,  ...,  0.,  0.,  0.],\n",
              "          [ 0.,  0.,  0.,  ...,  0.,  0.,  0.],\n",
              "          [ 0.,  0.,  0.,  ...,  0.,  0.,  0.],\n",
              "          ...,\n",
              "          [ 0.,  0.,  0.,  ...,  0.,  0.,  0.],\n",
              "          [ 0.,  0.,  0.,  ...,  0.,  0.,  0.],\n",
              "          [ 0.,  0.,  0.,  ...,  0.,  0.,  0.]]],\n",
              "\n",
              "\n",
              "        [[[ 0.,  0.,  0.,  ...,  0.,  0.,  0.],\n",
              "          [ 0.,  0.,  0.,  ...,  0.,  0.,  0.],\n",
              "          [ 0.,  0.,  0.,  ...,  0.,  0.,  0.],\n",
              "          ...,\n",
              "          [ 0.,  0.,  0.,  ...,  0.,  0.,  0.],\n",
              "          [ 0.,  0.,  0.,  ...,  0.,  0.,  0.],\n",
              "          [ 0.,  0.,  0.,  ...,  0.,  0.,  0.]]],\n",
              "\n",
              "\n",
              "        [[[ 0.,  0.,  0.,  ...,  0.,  0.,  0.],\n",
              "          [ 0.,  0.,  0.,  ...,  0.,  0.,  0.],\n",
              "          [ 1.,  0.,  0.,  ...,  1.,  0.,  0.],\n",
              "          ...,\n",
              "          [ 0.,  0., 43.,  ...,  0.,  0.,  4.],\n",
              "          [ 2.,  0.,  0.,  ...,  0.,  3.,  0.],\n",
              "          [ 0.,  0.,  0.,  ...,  0.,  0.,  0.]]],\n",
              "\n",
              "\n",
              "        ...,\n",
              "\n",
              "\n",
              "        [[[ 0.,  0.,  0.,  ...,  0.,  0.,  0.],\n",
              "          [ 0.,  0.,  0.,  ...,  0.,  0.,  0.],\n",
              "          [ 0.,  0.,  0.,  ...,  0.,  0.,  0.],\n",
              "          ...,\n",
              "          [ 0.,  0.,  0.,  ...,  0.,  0.,  0.],\n",
              "          [ 0.,  0.,  0.,  ...,  0.,  0.,  0.],\n",
              "          [ 0.,  0.,  0.,  ...,  0.,  0.,  0.]]],\n",
              "\n",
              "\n",
              "        [[[ 0.,  0.,  0.,  ...,  0.,  0.,  0.],\n",
              "          [ 0.,  0.,  0.,  ...,  0.,  0.,  0.],\n",
              "          [ 0.,  0.,  0.,  ...,  0.,  0.,  0.],\n",
              "          ...,\n",
              "          [ 0.,  0.,  0.,  ...,  0.,  0.,  0.],\n",
              "          [ 0.,  0.,  0.,  ...,  0.,  0.,  0.],\n",
              "          [ 0.,  0.,  0.,  ...,  0.,  0.,  0.]]],\n",
              "\n",
              "\n",
              "        [[[ 0.,  0.,  0.,  ...,  0.,  0.,  0.],\n",
              "          [ 0.,  0.,  0.,  ...,  0.,  0.,  0.],\n",
              "          [ 0.,  0.,  3.,  ...,  0.,  0.,  0.],\n",
              "          ...,\n",
              "          [ 0.,  0.,  0.,  ...,  2.,  0.,  0.],\n",
              "          [ 0.,  0.,  0.,  ...,  1.,  0.,  0.],\n",
              "          [ 0.,  0.,  0.,  ...,  0.,  0.,  0.]]]], device='cuda:0')"
            ]
          },
          "metadata": {
            "tags": []
          },
          "execution_count": 20
        },
        {
          "output_type": "display_data",
          "data": {
            "image/png": "[encoded data removed]",
            "text/plain": [
              "<Figure size 1440x360 with 1 Axes>"
            ]
          },
          "metadata": {
            "tags": [],
            "needs_background": "light"
          }
        }
      ]
    },
    {
      "cell_type": "code",
      "metadata": {
        "colab": {
          "base_uri": "https://localhost:8080/",
          "height": 322
        },
        "id": "paWQRUrizEUp",
        "outputId": "eba0dd15-31cf-4c9d-dc99-d68b6b6a789a"
      },
      "source": [
        "X_confusion = get_confusion_indices(lbl_list, pred_list, X_test, 0, 4)"
      ],
      "execution_count": null,
      "outputs": [
        {
          "output_type": "display_data",
          "data": {
            "image/png": "[encoded data removed]",
            "text/plain": [
              "<Figure size 1440x360 with 1 Axes>"
            ]
          },
          "metadata": {
            "tags": [],
            "needs_background": "light"
          }
        }
      ]
    },
    {
      "cell_type": "code",
      "metadata": {
        "colab": {
          "base_uri": "https://localhost:8080/",
          "height": 322
        },
        "id": "jrgmS3ukzlcb",
        "outputId": "13792665-973d-49b4-fa4a-415cd5817759"
      },
      "source": [
        "X_confusion = get_confusion_indices(lbl_list, pred_list, X_test, 0, 2)"
      ],
      "execution_count": null,
      "outputs": [
        {
          "output_type": "display_data",
          "data": {
            "image/png": "[encoded data removed]",
            "text/plain": [
              "<Figure size 1440x360 with 1 Axes>"
            ]
          },
          "metadata": {
            "tags": [],
            "needs_background": "light"
          }
        }
      ]
    },
    {
      "cell_type": "code",
      "metadata": {
        "colab": {
          "base_uri": "https://localhost:8080/",
          "height": 322
        },
        "id": "aV10U_v83Kx4",
        "outputId": "c3d45157-0f56-4117-b10f-27e500953a36"
      },
      "source": [
        "X_confusion = get_confusion_indices(lbl_list, pred_list, X_test, 2, 0)"
      ],
      "execution_count": null,
      "outputs": [
        {
          "output_type": "display_data",
          "data": {
            "image/png": "[encoded data removed]",
            "text/plain": [
              "<Figure size 1440x360 with 1 Axes>"
            ]
          },
          "metadata": {
            "tags": [],
            "needs_background": "light"
          }
        }
      ]
    }
  ]
}