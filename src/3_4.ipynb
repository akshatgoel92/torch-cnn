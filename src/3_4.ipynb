{
  "nbformat": 4,
  "nbformat_minor": 0,
  "metadata": {
    "accelerator": "GPU",
    "colab": {
      "name": " 3.4.ipynb",
      "provenance": []
    },
    "kernelspec": {
      "display_name": "Python 3",
      "name": "python3"
    }
  },
  "cells": [
    {
      "cell_type": "code",
      "metadata": {
        "colab": {
          "base_uri": "https://localhost:8080/",
          "height": 35
        },
        "id": "VwMGlUSAHYmq",
        "outputId": "b5d00c57-0056-4fb6-c4df-d0f871b11cce"
      },
      "source": [
        "import os\n",
        "\n",
        "stream = os.popen('curl -fsS http://fashion-mnist.s3-website.eu-central-1.amazonaws.com/train-images-idx3-ubyte.gz -o /tmp/train-images-idx3-ubyte.gz')\n",
        "output = stream.read()\n",
        "output"
      ],
      "execution_count": 1,
      "outputs": [
        {
          "output_type": "execute_result",
          "data": {
            "application/vnd.google.colaboratory.intrinsic+json": {
              "type": "string"
            },
            "text/plain": [
              "''"
            ]
          },
          "metadata": {
            "tags": []
          },
          "execution_count": 1
        }
      ]
    },
    {
      "cell_type": "code",
      "metadata": {
        "colab": {
          "base_uri": "https://localhost:8080/",
          "height": 35
        },
        "id": "9iEp8_MsV_0N",
        "outputId": "d945f17d-63f4-4401-e4d1-3bd36907cd77"
      },
      "source": [
        "stream = os.popen('curl -fsS http://fashion-mnist.s3-website.eu-central-1.amazonaws.com/train-labels-idx1-ubyte.gz -o /tmp/train-labels-idx1-ubyte.gz')\n",
        "output = stream.read()\n",
        "output"
      ],
      "execution_count": 2,
      "outputs": [
        {
          "output_type": "execute_result",
          "data": {
            "application/vnd.google.colaboratory.intrinsic+json": {
              "type": "string"
            },
            "text/plain": [
              "''"
            ]
          },
          "metadata": {
            "tags": []
          },
          "execution_count": 2
        }
      ]
    },
    {
      "cell_type": "code",
      "metadata": {
        "colab": {
          "base_uri": "https://localhost:8080/",
          "height": 35
        },
        "id": "g9WAiCXjWMQc",
        "outputId": "ae6d9480-8f3f-449e-9b4b-70935e39adf6"
      },
      "source": [
        "stream = os.popen('curl -fsS http://fashion-mnist.s3-website.eu-central-1.amazonaws.com/t10k-images-idx3-ubyte.gz -o /tmp/t10k-images-idx3-ubyte.gz')\n",
        "output = stream.read()\n",
        "output"
      ],
      "execution_count": 3,
      "outputs": [
        {
          "output_type": "execute_result",
          "data": {
            "application/vnd.google.colaboratory.intrinsic+json": {
              "type": "string"
            },
            "text/plain": [
              "''"
            ]
          },
          "metadata": {
            "tags": []
          },
          "execution_count": 3
        }
      ]
    },
    {
      "cell_type": "code",
      "metadata": {
        "colab": {
          "base_uri": "https://localhost:8080/",
          "height": 35
        },
        "id": "Mqfwj140WZP7",
        "outputId": "6eebf2ad-b9ea-468a-a2d8-1bba0e69f75d"
      },
      "source": [
        "stream = os.popen('curl -fsS http://fashion-mnist.s3-website.eu-central-1.amazonaws.com/t10k-labels-idx1-ubyte.gz -o /tmp/t10k-labels-idx1-ubyte.gz')\n",
        "output = stream.read()\n",
        "output"
      ],
      "execution_count": 4,
      "outputs": [
        {
          "output_type": "execute_result",
          "data": {
            "application/vnd.google.colaboratory.intrinsic+json": {
              "type": "string"
            },
            "text/plain": [
              "''"
            ]
          },
          "metadata": {
            "tags": []
          },
          "execution_count": 4
        }
      ]
    },
    {
      "cell_type": "code",
      "metadata": {
        "id": "SBfLek0xWwZo"
      },
      "source": [
        "import os\n",
        "import gzip\n",
        "import numpy as np\n",
        "import torch\n",
        "import torch.nn.functional as F\n",
        "import matplotlib.pyplot as plt\n",
        "from tqdm import tqdm\n",
        "from collections import OrderedDict"
      ],
      "execution_count": 5,
      "outputs": []
    },
    {
      "cell_type": "code",
      "metadata": {
        "id": "Fq4tq6X7XGO4"
      },
      "source": [
        "def load_mnist(path, kind='train'):\n",
        "\n",
        "\n",
        "    \"\"\"Load MNIST data from `path`\"\"\"\n",
        "    labels_path = os.path.join(path,\n",
        "                               '/tmp/%s-labels-idx1-ubyte.gz'\n",
        "                               % kind)\n",
        "    images_path = os.path.join(path,\n",
        "                               '/tmp/%s-images-idx3-ubyte.gz'\n",
        "                               % kind)\n",
        "\n",
        "    with gzip.open(labels_path, 'rb') as lbpath:\n",
        "        labels = np.frombuffer(lbpath.read(), dtype=np.uint8,\n",
        "                               offset=8)\n",
        "\n",
        "    with gzip.open(images_path, 'rb') as imgpath:\n",
        "        images = np.frombuffer(imgpath.read(), dtype=np.uint8,\n",
        "                               offset=16).reshape(len(labels), 784)\n",
        "\n",
        "    return images, labels"
      ],
      "execution_count": 6,
      "outputs": []
    },
    {
      "cell_type": "code",
      "metadata": {
        "id": "BsUMY8Tdd2H8"
      },
      "source": [
        "def _filter(xs, ys, lbls):\n",
        "    idxs = [i for (i, l) in enumerate(ys) if l in lbls]\n",
        "    return xs[idxs, :], ys[idxs]"
      ],
      "execution_count": 7,
      "outputs": []
    },
    {
      "cell_type": "code",
      "metadata": {
        "id": "kKTBzMgjd2-t"
      },
      "source": [
        "def clear_gpu(model):\n",
        "    # Removes model from gpu and clears the memory\n",
        "    \n",
        "    model = model.to('cpu')\n",
        "    del model\n",
        "    torch.cuda.empty_cache()"
      ],
      "execution_count": 8,
      "outputs": []
    },
    {
      "cell_type": "code",
      "metadata": {
        "id": "jlkmeGs_d8Fd"
      },
      "source": [
        "class Dataset(torch.utils.data.Dataset):\n",
        "    # Basic dataset class to work with torch data loader\n",
        "\n",
        "    def __init__(self, X, y):\n",
        "        self.X = X\n",
        "        self.y = y\n",
        "        \n",
        "        assert len(X) == len(y), print(\"Number of examples don't match up\")\n",
        "\n",
        "    def __len__(self):\n",
        "        return len(self.X)\n",
        "\n",
        "    def __getitem__(self, index):\n",
        "        return self.X[index], self.y[index]\n"
      ],
      "execution_count": 9,
      "outputs": []
    },
    {
      "cell_type": "code",
      "metadata": {
        "colab": {
          "base_uri": "https://localhost:8080/",
          "height": 120
        },
        "id": "cBno2hhZeGjE",
        "outputId": "aff05e46-113c-43f8-a857-31a589c3140b"
      },
      "source": [
        "from torch import nn\n",
        "\n",
        "class Autoencoder(torch.nn.Module):\n",
        "  \n",
        "  def __init__(self, encoder_units, decoder_units, input_dim, output_dim):\n",
        "    \n",
        "    # Conventional super-class declaration\n",
        "    super(Autoencoder, self).__init__()\n",
        "\n",
        "    # Initialize lists to store layers\n",
        "    encoder = []\n",
        "    decoder = []\n",
        "\n",
        "    # Add input and output dimensions to layer list for encoder\n",
        "    self.encoder_units = [input_dim] + encoder_units\n",
        "    self.decoder_units = [encoder_units[-1]] + decoder_units + [output_dim]\n",
        "\n",
        "    # Compute the total no. of layers for the encoder/decoder\n",
        "    self.encoder_layers = len(self.encoder_units)\n",
        "    self.decoder_layers = len(self.decoder_units)\n",
        "\n",
        "    # Append the hidden layers for the encoder\n",
        "    for i in range(1, self.encoder_layers):\n",
        "      \n",
        "      # Add linear layer\n",
        "      layer = ('Linear{}'.format(i), nn.Linear(self.encoder_units[i-1], self.encoder_units[i]))\n",
        "      activation = ('RELU{}'.format(i), nn.ReLU(True))\n",
        "      \n",
        "      # Append\n",
        "      encoder.append(layer)\n",
        "      encoder.append(activation)\n",
        "    \n",
        "    # Append the hidden layers for the decoder\n",
        "    for i in range(1, self.decoder_layers - 1):\n",
        "      \n",
        "      # Add the layers\n",
        "      layer = ('Linear{}'.format(i), nn.Linear(self.decoder_units[i-1], self.decoder_units[i]))\n",
        "      activation = ('RELU{}'.format(i), nn.ReLU(True))\n",
        "      \n",
        "      # Append to the lists\n",
        "      decoder.append(layer)\n",
        "      decoder.append(activation)\n",
        "\n",
        "    # Create final output layer\n",
        "    i = self.decoder_layers - 1\n",
        "    layer = ('Linear{}'.format(i), nn.Linear(self.decoder_units[i-1], self.decoder_units[i]))\n",
        "    activation = ('Sigmoid{}'.format(i), nn.Sigmoid())\n",
        "    \n",
        "    # Append to decoder list\n",
        "    decoder.append(layer)\n",
        "    decoder.append(activation)\n",
        "    \n",
        "    # Wrap this in a container and declare the encoder/decoder\n",
        "    self.encoder = nn.Sequential(OrderedDict(encoder))\n",
        "    self.decoder = nn.Sequential(OrderedDict(decoder))\n",
        "    \n",
        "  def forward(self, x):\n",
        "    \n",
        "    # First encode the noisy image and then decode\n",
        "    x=self.encoder(x)\n",
        "    x=self.decoder(x)\n",
        "    \n",
        "    return x\n",
        "'''\n",
        "class Autoencoder(nn.Module):\n",
        "    def __init__(self, **kwargs):\n",
        "        super().__init__()\n",
        "        self.encoder_hidden_layer = nn.Linear(\n",
        "            in_features=kwargs[\"input_shape\"], out_features=128\n",
        "        )\n",
        "        self.encoder_output_layer = nn.Linear(\n",
        "            in_features=128, out_features=128\n",
        "        )\n",
        "        self.decoder_hidden_layer = nn.Linear(\n",
        "            in_features=128, out_features=128\n",
        "        )\n",
        "        self.decoder_output_layer = nn.Linear(\n",
        "            in_features=128, out_features=kwargs[\"input_shape\"]\n",
        "        )\n",
        "\n",
        "    def forward(self, features):\n",
        "        activation = self.encoder_hidden_layer(features)\n",
        "        activation = torch.relu(activation)\n",
        "        code = self.encoder_output_layer(activation)\n",
        "        code = torch.relu(code)\n",
        "        activation = self.decoder_hidden_layer(code)\n",
        "        activation = torch.relu(activation)\n",
        "        activation = self.decoder_output_layer(activation)\n",
        "        reconstructed = torch.sigmoid(activation)\n",
        "        return reconstructed\n",
        "\n",
        "      '''"
      ],
      "execution_count": 10,
      "outputs": [
        {
          "output_type": "execute_result",
          "data": {
            "application/vnd.google.colaboratory.intrinsic+json": {
              "type": "string"
            },
            "text/plain": [
              "'\\nclass Autoencoder(nn.Module):\\n    def __init__(self, **kwargs):\\n        super().__init__()\\n        self.encoder_hidden_layer = nn.Linear(\\n            in_features=kwargs[\"input_shape\"], out_features=128\\n        )\\n        self.encoder_output_layer = nn.Linear(\\n            in_features=128, out_features=128\\n        )\\n        self.decoder_hidden_layer = nn.Linear(\\n            in_features=128, out_features=128\\n        )\\n        self.decoder_output_layer = nn.Linear(\\n            in_features=128, out_features=kwargs[\"input_shape\"]\\n        )\\n\\n    def forward(self, features):\\n        activation = self.encoder_hidden_layer(features)\\n        activation = torch.relu(activation)\\n        code = self.encoder_output_layer(activation)\\n        code = torch.relu(code)\\n        activation = self.decoder_hidden_layer(code)\\n        activation = torch.relu(activation)\\n        activation = self.decoder_output_layer(activation)\\n        reconstructed = torch.sigmoid(activation)\\n        return reconstructed\\n\\n      '"
            ]
          },
          "metadata": {
            "tags": []
          },
          "execution_count": 10
        }
      ]
    },
    {
      "cell_type": "code",
      "metadata": {
        "id": "s4UQKiiHXdo9"
      },
      "source": [
        "train_images, train_labels = load_mnist('data', 'train')\n",
        "test_images, test_labels = load_mnist('data', 't10k')"
      ],
      "execution_count": 11,
      "outputs": []
    },
    {
      "cell_type": "code",
      "metadata": {
        "id": "e3IvlnM8YIKi"
      },
      "source": [
        "dataloader_params = {'batch_size': 1024, 'shuffle': True, 'num_workers': 6}\n",
        "device = torch.device(\"cuda:0\" if torch.cuda.is_available() else \"cpu\")\n",
        "\n"
      ],
      "execution_count": 12,
      "outputs": []
    },
    {
      "cell_type": "code",
      "metadata": {
        "id": "yxI3hJSWHKWE"
      },
      "source": [
        "train_images, train_labels = load_mnist('data', 'train')\n",
        "test_images, test_labels = load_mnist('data', 't10k')\n",
        "\n",
        "val_images = train_images[50000:]\n",
        "val_labels = train_labels[50000:]\n",
        "\n",
        "train_images = train_images[:50000]\n",
        "train_labels = train_labels[:50000]"
      ],
      "execution_count": 13,
      "outputs": []
    },
    {
      "cell_type": "code",
      "metadata": {
        "id": "oeT_kOZxHTE4"
      },
      "source": [
        "#fashion mnist 1\n",
        "X_train1, y_train1 = _filter(train_images, train_labels, [0, 1, 4, 5, 8])\n",
        "X_val1, y_val1 = _filter(val_images, val_labels, [0, 1, 4, 5, 8])\n",
        "X_test1, y_test1 = _filter(test_images, test_labels, [0, 1, 4, 5, 8])"
      ],
      "execution_count": 35,
      "outputs": []
    },
    {
      "cell_type": "code",
      "metadata": {
        "id": "5URqDA-IHoRL"
      },
      "source": [
        "#fashion mnist 2\n",
        "X_train2, y_train2 = _filter(train_images, train_labels, [2, 3, 6, 7, 9])\n",
        "X_val2, y_val2 = _filter(val_images, val_labels, [2, 3, 6, 7, 9])\n",
        "X_test2, y_test2 = _filter(test_images, test_labels, [2, 3, 6, 7, 9])"
      ],
      "execution_count": 15,
      "outputs": []
    },
    {
      "cell_type": "code",
      "metadata": {
        "id": "7Rw-_6BOHrQs"
      },
      "source": [
        "#creating autoencoder train and validation set\n",
        "x_train_autoenc = np.vstack((X_train1 ,X_train2 ,X_val2 ,X_test2))\n",
        "x_train_autoenc = x_train_autoenc/255.0\n",
        "\n",
        "y_train_autoenc = np.hstack((y_train1 ,y_train2 ,y_val2 ,y_test2))\n",
        "x_val_autoenc = np.vstack((X_val1 , X_test1))\n",
        "x_val_autoenc = x_val_autoenc/255.0\n",
        "y_val_autoenc = np.hstack((y_val1 , y_test1))"
      ],
      "execution_count": 16,
      "outputs": []
    },
    {
      "cell_type": "code",
      "metadata": {
        "colab": {
          "base_uri": "https://localhost:8080/",
          "height": 52
        },
        "id": "Q7vrix2UNCTZ",
        "outputId": "550fa4f9-805c-45e5-ab39-e6d4ccdcfef3"
      },
      "source": [
        "train_data_auto_enc = Dataset(x_train_autoenc, y_train_autoenc)\n",
        "train_generator_auto_enc = torch.utils.data.DataLoader(train_data_auto_enc, **dataloader_params)\n",
        "val_data_auto_enc = Dataset(x_val_autoenc,y_val_autoenc)\n",
        "val_generator_auto_enc = torch.utils.data.DataLoader(val_data_auto_enc, **dataloader_params)\n",
        "'''\n",
        "x_train_autoenc = torch.from_numpy(x_train_autoenc).type(torch.FloatTensor).to(device)\n",
        "y_train_autoenc = torch.Tensor(y_train_autoenc).type(torch.LongTensor).to(device)\n",
        "\n",
        "X_val_autoenc = torch.from_numpy(x_val_autoenc).type(torch.FloatTensor).to(device)\n",
        "y_val_autoenc = torch.Tensor(y_val_autoenc).type(torch.LongTensor).to(device)\n",
        "'''\n"
      ],
      "execution_count": 17,
      "outputs": [
        {
          "output_type": "execute_result",
          "data": {
            "application/vnd.google.colaboratory.intrinsic+json": {
              "type": "string"
            },
            "text/plain": [
              "'\\nx_train_autoenc = torch.from_numpy(x_train_autoenc).type(torch.FloatTensor).to(device)\\ny_train_autoenc = torch.Tensor(y_train_autoenc).type(torch.LongTensor).to(device)\\n\\nX_val_autoenc = torch.from_numpy(x_val_autoenc).type(torch.FloatTensor).to(device)\\ny_val_autoenc = torch.Tensor(y_val_autoenc).type(torch.LongTensor).to(device)\\n'"
            ]
          },
          "metadata": {
            "tags": []
          },
          "execution_count": 17
        }
      ]
    },
    {
      "cell_type": "code",
      "metadata": {
        "id": "naVKge_eOQn8"
      },
      "source": [
        "\n",
        "encoder_units = [256]\n",
        "decoder_units = [256]\n",
        "input_dim = 784\n",
        "output_dim = 784\n",
        "net = Autoencoder(encoder_units, decoder_units, input_dim, output_dim)\n",
        "#net = Autoencoder(input_shape = 784)\n",
        "net.to(device)\n",
        "\n",
        "loss_fn = torch.nn.MSELoss()\n",
        "#optimizer = torch.optim.Adam(net.parameters(),lr = 0.7)\n",
        "optimizer = torch.optim.SGD(net.parameters(), lr=0.2,momentum = 0.9)"
      ],
      "execution_count": 18,
      "outputs": []
    },
    {
      "cell_type": "code",
      "metadata": {
        "colab": {
          "base_uri": "https://localhost:8080/"
        },
        "id": "kZiwkDnTrm9h",
        "outputId": "b3d5f548-0aa6-4a60-f542-0f20dfdd0ce5"
      },
      "source": [
        "net.parameters()"
      ],
      "execution_count": 25,
      "outputs": [
        {
          "output_type": "execute_result",
          "data": {
            "text/plain": [
              "<generator object Module.parameters at 0x7f72701c8eb8>"
            ]
          },
          "metadata": {
            "tags": []
          },
          "execution_count": 25
        }
      ]
    },
    {
      "cell_type": "code",
      "metadata": {
        "colab": {
          "base_uri": "https://localhost:8080/"
        },
        "id": "CF0tLsiLl4Zr",
        "outputId": "4edb3be0-3621-4a2a-bc34-eb4a5d5a5f43"
      },
      "source": [
        "device"
      ],
      "execution_count": 23,
      "outputs": [
        {
          "output_type": "execute_result",
          "data": {
            "text/plain": [
              "device(type='cuda', index=0)"
            ]
          },
          "metadata": {
            "tags": []
          },
          "execution_count": 23
        }
      ]
    },
    {
      "cell_type": "code",
      "metadata": {
        "colab": {
          "base_uri": "https://localhost:8080/"
        },
        "id": "imV6BgOMP8wS",
        "outputId": "d6d3f191-f423-494b-a18b-870071759e8e"
      },
      "source": [
        "#training routine for autoencoder\n",
        "epochs = 40\n",
        "for epoch in range(epochs):\n",
        "  running_loss = 0.0\n",
        "  val_loss = 0.0\n",
        "  preds = []\n",
        "  for i, data in enumerate(train_generator_auto_enc):\n",
        "              \n",
        "              # Get the inputs: data is a list of [inputs, labels]\n",
        "              x, _ = data\n",
        "              #print(x.shape)\n",
        "              # Initialize container for noisy images\n",
        "              #noisy_images = []\n",
        "\n",
        "              # Now get noisy images\n",
        "              \n",
        "              \n",
        "\n",
        "              # Send the inputs and labels to the memory of the device\n",
        "              #noisy_images, flat_clean_imgs = noisy_images.to(device), flat_clean_imgs.to(device)\n",
        "\n",
        "              # Zero the parameter gradients\n",
        "              #x.to(device)\n",
        "              x = x.type(torch.FloatTensor)\n",
        "              x=x.to(device)\n",
        "              optimizer.zero_grad()\n",
        "\n",
        "              # Forward\n",
        "              pred_x = net(x)\n",
        "              preds.append((pred_x[0],x[0]))\n",
        "              # Calculate loss\n",
        "              #print(pred_x[0],x[0])\n",
        "              loss = loss_fn(pred_x,x)\n",
        "\n",
        "              # Backward\n",
        "              loss.backward()\n",
        "              \n",
        "              # Optimize\n",
        "              optimizer.step()\n",
        "\n",
        "              # Add to running loss\n",
        "              running_loss += loss.item()\n",
        "  running_loss = (running_loss)/len(train_generator_auto_enc)\n",
        "  \n",
        "  for j,data in enumerate(val_generator_auto_enc):\n",
        "    x_val , _  = data \n",
        "    with torch.no_grad():\n",
        "      x_val = x_val.type(torch.FloatTensor)\n",
        "      x_val = x_val.to(device)\n",
        "      pred_x = net(x_val)\n",
        "      loss = loss_fn(pred_x,x_val)\n",
        "      val_loss+=loss.item()\n",
        "  val_loss = val_loss/len(val_generator_auto_enc)\n",
        "  print(\"epoch: \",epoch, \"train_loss: \",running_loss,\"val_loss:\",val_loss)"
      ],
      "execution_count": 19,
      "outputs": [
        {
          "output_type": "stream",
          "text": [
            "epoch:  0 train_loss:  0.15552750242463612 val_loss: 0.1134523831307888\n",
            "epoch:  1 train_loss:  0.09538349483982991 val_loss: 0.09492865055799485\n",
            "epoch:  2 train_loss:  0.08914630064519785 val_loss: 0.08996298611164093\n",
            "epoch:  3 train_loss:  0.07976031265521454 val_loss: 0.08001450225710868\n",
            "epoch:  4 train_loss:  0.06960434365575596 val_loss: 0.07283783480525016\n",
            "epoch:  5 train_loss:  0.0622909636694496 val_loss: 0.06485459506511689\n",
            "epoch:  6 train_loss:  0.056523301149323836 val_loss: 0.06031922064721584\n",
            "epoch:  7 train_loss:  0.05365908985673371 val_loss: 0.05795841105282307\n",
            "epoch:  8 train_loss:  0.05170099670856686 val_loss: 0.05608433969318867\n",
            "epoch:  9 train_loss:  0.049910834406392046 val_loss: 0.05433360785245896\n",
            "epoch:  10 train_loss:  0.04811389302298174 val_loss: 0.052611615508794785\n",
            "epoch:  11 train_loss:  0.04627082162236763 val_loss: 0.05089206248521805\n",
            "epoch:  12 train_loss:  0.04441667714361417 val_loss: 0.04902545288205147\n",
            "epoch:  13 train_loss:  0.04264274580498873 val_loss: 0.04722071848809719\n",
            "epoch:  14 train_loss:  0.04099636316552001 val_loss: 0.045442777872085574\n",
            "epoch:  15 train_loss:  0.03943666758931289 val_loss: 0.043604903295636176\n",
            "epoch:  16 train_loss:  0.03791300523079048 val_loss: 0.0417934462428093\n",
            "epoch:  17 train_loss:  0.03641136735677719 val_loss: 0.03997723311185837\n",
            "epoch:  18 train_loss:  0.03494862864835788 val_loss: 0.03823337480425835\n",
            "epoch:  19 train_loss:  0.03357926604606337 val_loss: 0.03664212822914124\n",
            "epoch:  20 train_loss:  0.03233453628244037 val_loss: 0.03531399071216583\n",
            "epoch:  21 train_loss:  0.03125425188218133 val_loss: 0.034116684645414355\n",
            "epoch:  22 train_loss:  0.0303171785011635 val_loss: 0.033096412941813466\n",
            "epoch:  23 train_loss:  0.02949848575359684 val_loss: 0.03220661953091621\n",
            "epoch:  24 train_loss:  0.028810826903682644 val_loss: 0.031487905979156496\n",
            "epoch:  25 train_loss:  0.02820617853963779 val_loss: 0.03084105234593153\n",
            "epoch:  26 train_loss:  0.027687220534278176 val_loss: 0.03029526900500059\n",
            "epoch:  27 train_loss:  0.027225262880072754 val_loss: 0.029758152551949024\n",
            "epoch:  28 train_loss:  0.026823327608280264 val_loss: 0.0293382054194808\n",
            "epoch:  29 train_loss:  0.026469438289434224 val_loss: 0.028979452699422835\n",
            "epoch:  30 train_loss:  0.026167584677874032 val_loss: 0.02864638026803732\n",
            "epoch:  31 train_loss:  0.02588654748337754 val_loss: 0.028338436037302017\n",
            "epoch:  32 train_loss:  0.02563255138190116 val_loss: 0.028084925189614297\n",
            "epoch:  33 train_loss:  0.025396452427415523 val_loss: 0.027887202613055707\n",
            "epoch:  34 train_loss:  0.025167884020987203 val_loss: 0.027572318352758883\n",
            "epoch:  35 train_loss:  0.024974592787734534 val_loss: 0.02736486177891493\n",
            "epoch:  36 train_loss:  0.024763458613621985 val_loss: 0.027150659635663033\n",
            "epoch:  37 train_loss:  0.024575792568719994 val_loss: 0.02698249612003565\n",
            "epoch:  38 train_loss:  0.024384343333668627 val_loss: 0.026745841093361377\n",
            "epoch:  39 train_loss:  0.024200979272945452 val_loss: 0.026544930040836336\n"
          ],
          "name": "stdout"
        }
      ]
    },
    {
      "cell_type": "code",
      "metadata": {
        "colab": {
          "base_uri": "https://localhost:8080/",
          "height": 282
        },
        "id": "Yusx0RAc0kt8",
        "outputId": "86312562-e260-4ac1-b168-f84c63ce0f21"
      },
      "source": [
        "a,b = preds[-2]\n",
        "a = a.cpu().detach().numpy()\n",
        "b = b.cpu().detach().numpy()\n",
        "plt.imshow(a.reshape(28,28))"
      ],
      "execution_count": 20,
      "outputs": [
        {
          "output_type": "execute_result",
          "data": {
            "text/plain": [
              "<matplotlib.image.AxesImage at 0x7f72fdb2ca90>"
            ]
          },
          "metadata": {
            "tags": []
          },
          "execution_count": 20
        },
        {
          "output_type": "display_data",
          "data": {
            "image/png": "[encoded data removed]",
            "text/plain": [
              "<Figure size 432x288 with 1 Axes>"
            ]
          },
          "metadata": {
            "tags": [],
            "needs_background": "light"
          }
        }
      ]
    },
    {
      "cell_type": "code",
      "metadata": {
        "colab": {
          "base_uri": "https://localhost:8080/",
          "height": 282
        },
        "id": "F48sIOb3HjHD",
        "outputId": "549bd128-d62a-4c85-8c06-3e7e30d6d039"
      },
      "source": [
        "plt.imshow(b.reshape(28,28))"
      ],
      "execution_count": 21,
      "outputs": [
        {
          "output_type": "execute_result",
          "data": {
            "text/plain": [
              "<matplotlib.image.AxesImage at 0x7f72fdac3e10>"
            ]
          },
          "metadata": {
            "tags": []
          },
          "execution_count": 21
        },
        {
          "output_type": "display_data",
          "data": {
            "image/png": "[encoded data removed]",
            "text/plain": [
              "<Figure size 432x288 with 1 Axes>"
            ]
          },
          "metadata": {
            "tags": [],
            "needs_background": "light"
          }
        }
      ]
    },
    {
      "cell_type": "code",
      "metadata": {
        "colab": {
          "base_uri": "https://localhost:8080/"
        },
        "id": "wWEwxlQSmMSd",
        "outputId": "72356559-3162-44b3-e057-2c08d1d4df9d"
      },
      "source": [
        "net.encoder.Linear1.weight"
      ],
      "execution_count": 71,
      "outputs": [
        {
          "output_type": "execute_result",
          "data": {
            "text/plain": [
              "Parameter containing:\n",
              "tensor([[ 2.5421e-02, -2.1288e-04,  6.1642e-02,  ..., -3.9452e-02,\n",
              "         -7.3265e-02, -2.5514e-02],\n",
              "        [ 2.5733e-02, -4.9902e-02, -6.8294e-02,  ..., -4.5370e-02,\n",
              "         -7.7490e-02,  8.3840e-02],\n",
              "        [ 1.0899e-02, -6.9107e-02, -8.0908e-02,  ..., -1.0650e-01,\n",
              "         -5.5905e-02, -8.5170e-02],\n",
              "        ...,\n",
              "        [ 3.3303e-02, -4.5017e-01, -2.8376e-01,  ..., -1.4239e-01,\n",
              "         -1.4423e-01,  3.4204e-02],\n",
              "        [-2.7679e-02, -1.1544e-02,  2.1800e-02,  ..., -4.8923e-02,\n",
              "         -2.1646e-02,  2.2567e-02],\n",
              "        [ 9.2440e-04, -8.2279e-02, -6.2101e-02,  ..., -9.2137e-02,\n",
              "         -7.1895e-02, -2.4563e-02]], device='cuda:0', requires_grad=True)"
            ]
          },
          "metadata": {
            "tags": []
          },
          "execution_count": 71
        }
      ]
    },
    {
      "cell_type": "code",
      "metadata": {
        "id": "xshshIRyiSVj"
      },
      "source": [
        "# creating a mlp with autoencoder initialized weights\n",
        "'''\n",
        "class pretrained_mlp(torch.nn.Module):\n",
        "  def __init__(self, encoder_layers,encoder_weights, mlp_hidden_layer, input_dim, output_dim,pretrained):\n",
        "    super(pretrained_mlp, self).__init__()\n",
        "    self.mlp_hidden_layer = mlp_hidden_layer\n",
        "    self.input_dim = input_dim\n",
        "    self.output_dim = output_dim\n",
        "    self.encoder_units = [input_dim] + encoder_layers\n",
        "    self.encoder_layers = len(self.encoder_units)\n",
        "    self.pretrained = pretrained\n",
        "    encoder = []\n",
        "    mlp = []\n",
        "    # Append the hidden layers for the encoder\n",
        "    for i in range(1, self.encoder_layers):\n",
        "      \n",
        "      # Add linear layer\n",
        "      layer = nn.Linear(self.encoder_units[i-1], self.encoder_units[i])\n",
        "      if pretrained :\n",
        "        layer.weight = encoder_weights[i-1]\n",
        "      layer = ('Linear{}'.format(i), layer)\n",
        "      activation = ('RELU{}'.format(i), nn.ReLU(True))\n",
        "      \n",
        "      # Append\n",
        "      encoder.append(layer)\n",
        "      encoder.append(activation)\n",
        "    self.mlp_units = [encoder_layers[-1]]+self.mlp_hidden_layer \n",
        "    self.mlp_layers = len(self.mlp_units)\n",
        "    print(\"mlp_units: \",self.mlp_units)\n",
        "    for i in range(1,self.mlp_layers):\n",
        "      layer = ('Linear{}'.format(i), nn.Linear(self.mlp_units[i-1], self.mlp_units[i]))\n",
        "      activation = ('RELU{}'.format(i), nn.ReLU(True))\n",
        "      print(\"layer:\",layer)\n",
        "      mlp.append(layer)\n",
        "      mlp.append(activation)\n",
        "    output_layer =  ('Linear{}'.format(i+1), nn.Linear(self.mlp_units[-1],self.output_dim))\n",
        "    activation = ('sigmoid{}'.format(i+1), nn.Sigmoid())\n",
        "    mlp.append(output_layer)\n",
        "    mlp.append(activation)\n",
        "    self.encoder = nn.Sequential(OrderedDict(encoder))\n",
        "    self.mlp = nn.Sequential(OrderedDict(mlp))\n",
        "\n",
        "  def forward(self, x):\n",
        "    \n",
        "    # First encode the noisy image and then decode\n",
        "    x=self.encoder(x)\n",
        "    x=self.mlp(x)\n",
        "    \n",
        "    return x\n",
        "'''"
      ],
      "execution_count": null,
      "outputs": []
    },
    {
      "cell_type": "code",
      "metadata": {
        "id": "b7iHQG-Irhmw"
      },
      "source": [
        "#creating mlp  dataloaders for fashion mnist 1\n",
        "'''\n",
        "x_train_mlp = X_train1/255.0\n",
        "\n",
        "y_train_mlp = y_train1\n",
        "x_val_mlp = X_val1/255.0\n",
        "y_val_mlp = y_val1 \n",
        "\n",
        "train_data_mlp = Dataset(x_train_mlp, y_train_mlp)\n",
        "train_loader_mlp = torch.utils.data.DataLoader(train_data_mlp, **dataloader_params)\n",
        "val_data_mlp = Dataset(x_val_mlp, y_val_mlp)\n",
        "val_loader_mlp = torch.utils.data.DataLoader(val_data_mlp, **dataloader_params)\n",
        "'''"
      ],
      "execution_count": null,
      "outputs": []
    },
    {
      "cell_type": "code",
      "metadata": {
        "colab": {
          "base_uri": "https://localhost:8080/"
        },
        "id": "NIEI85541WYE",
        "outputId": "023c0b65-e7c1-466b-d5aa-0a631c8a6391"
      },
      "source": [
        "y_val1"
      ],
      "execution_count": null,
      "outputs": [
        {
          "output_type": "execute_result",
          "data": {
            "text/plain": [
              "array([1, 0, 1, ..., 1, 0, 5], dtype=uint8)"
            ]
          },
          "metadata": {
            "tags": []
          },
          "execution_count": 101
        }
      ]
    },
    {
      "cell_type": "code",
      "metadata": {
        "colab": {
          "base_uri": "https://localhost:8080/"
        },
        "id": "BLSbAWWIti9-",
        "outputId": "ab5cb168-9472-4a27-f6c4-c6525b9c5532"
      },
      "source": [
        "'''\n",
        "encoder_units = [256]\n",
        "mlp_units = [128,64]\n",
        "input_dim = 784\n",
        "output_dim = 10\n",
        "encoder_weights = [net.encoder.Linear1.weight]\n",
        "mlp_net = pretrained_mlp(encoder_units,encoder_weights, mlp_units, input_dim, output_dim,pretrained = True)\n",
        "#net = Autoencoder(input_shape = 784)\n",
        "mlp_net.to(device)\n",
        "\n",
        "loss_fn = torch.nn.CrossEntropyLoss()\n",
        "#optimizer = torch.optim.Adam(net.parameters(),lr = 0.7)\n",
        "optimizer = torch.optim.SGD(mlp_net.parameters(), lr=0.2,momentum = 0.9)\n",
        "'''"
      ],
      "execution_count": null,
      "outputs": [
        {
          "output_type": "stream",
          "text": [
            "mlp_units:  [256, 128, 64]\n",
            "layer: ('Linear1', Linear(in_features=256, out_features=128, bias=True))\n",
            "layer: ('Linear2', Linear(in_features=128, out_features=64, bias=True))\n"
          ],
          "name": "stdout"
        }
      ]
    },
    {
      "cell_type": "code",
      "metadata": {
        "colab": {
          "base_uri": "https://localhost:8080/"
        },
        "id": "9hHiQV62zV9A",
        "outputId": "8efd3250-acd4-4710-9466-c456f745f4ba"
      },
      "source": [
        "mlp_net"
      ],
      "execution_count": null,
      "outputs": [
        {
          "output_type": "execute_result",
          "data": {
            "text/plain": [
              "pretrained_mlp(\n",
              "  (encoder): Sequential(\n",
              "    (Linear1): Linear(in_features=784, out_features=256, bias=True)\n",
              "    (RELU1): ReLU(inplace=True)\n",
              "  )\n",
              "  (mlp): Sequential(\n",
              "    (Linear1): Linear(in_features=256, out_features=128, bias=True)\n",
              "    (RELU1): ReLU(inplace=True)\n",
              "    (Linear2): Linear(in_features=128, out_features=64, bias=True)\n",
              "    (RELU2): ReLU(inplace=True)\n",
              "    (Linear3): Linear(in_features=64, out_features=10, bias=True)\n",
              "    (sigmoid3): Sigmoid()\n",
              "  )\n",
              ")"
            ]
          },
          "metadata": {
            "tags": []
          },
          "execution_count": 105
        }
      ]
    },
    {
      "cell_type": "code",
      "metadata": {
        "id": "0jnq5a3hD21b"
      },
      "source": [
        "class mlp_net (torch.nn.Module) :\n",
        "  def __init__(self,input_dim,output_dim,hidden_dim,encoder_weight,pretrained):\n",
        "    super(mlp_net, self).__init__()\n",
        "    self.input_dim = input_dim\n",
        "    self.output_dim = output_dim\n",
        "    self.hidden_dim = hidden_dim\n",
        "    self.layer1 = nn.Linear(self.input_dim, self.hidden_dim)\n",
        "    self.activation1 = nn.ReLU()\n",
        "    \n",
        "    if pretrained ==True :\n",
        "      self.layer1.weight = encoder_weight\n",
        "    #print(\"mlp_layer weight: \",self.layer1.weight)\n",
        "    self.layer2 = nn.Linear(self.hidden_dim, self.output_dim)\n",
        "    self.activation2 = nn.Sigmoid()\n",
        "  def forward(self,x):\n",
        "    x = self.layer1(x)\n",
        "    x = self.activation1(x)\n",
        "    out = self.layer2(x)\n",
        "    out = self.activation2(out)\n",
        "    return out\n"
      ],
      "execution_count": 22,
      "outputs": []
    },
    {
      "cell_type": "code",
      "metadata": {
        "colab": {
          "base_uri": "https://localhost:8080/"
        },
        "id": "E9K4UQqSFTfc",
        "outputId": "89e420cc-63d3-4731-b11a-52867eb0b5fe"
      },
      "source": [
        "mlp_net(input_dim,output_dim,hidden_dim,encoder_weight,pretrained = True)"
      ],
      "execution_count": 65,
      "outputs": [
        {
          "output_type": "stream",
          "text": [
            "mlp_layer weight:  Parameter containing:\n",
            "tensor([[ 2.5421e-02, -2.1288e-04,  6.1642e-02,  ..., -3.9451e-02,\n",
            "         -7.3265e-02, -2.5514e-02],\n",
            "        [ 2.5733e-02, -4.9902e-02, -6.8295e-02,  ..., -4.5366e-02,\n",
            "         -7.7489e-02,  8.3840e-02],\n",
            "        [ 1.0899e-02, -6.9107e-02, -8.0908e-02,  ..., -1.0651e-01,\n",
            "         -5.5908e-02, -8.5170e-02],\n",
            "        ...,\n",
            "        [ 3.3303e-02, -4.5017e-01, -2.8376e-01,  ..., -1.4239e-01,\n",
            "         -1.4423e-01,  3.4204e-02],\n",
            "        [-2.7679e-02, -1.1544e-02,  2.1800e-02,  ..., -4.8923e-02,\n",
            "         -2.1646e-02,  2.2567e-02],\n",
            "        [ 9.2440e-04, -8.2279e-02, -6.2101e-02,  ..., -9.2129e-02,\n",
            "         -7.1888e-02, -2.4562e-02]], device='cuda:0', requires_grad=True)\n"
          ],
          "name": "stdout"
        },
        {
          "output_type": "execute_result",
          "data": {
            "text/plain": [
              "mlp_net(\n",
              "  (layer1): Linear(in_features=784, out_features=256, bias=True)\n",
              "  (activation1): ReLU()\n",
              "  (layer2): Linear(in_features=256, out_features=10, bias=True)\n",
              ")"
            ]
          },
          "metadata": {
            "tags": []
          },
          "execution_count": 65
        }
      ]
    },
    {
      "cell_type": "code",
      "metadata": {
        "colab": {
          "base_uri": "https://localhost:8080/"
        },
        "id": "ZjBsT3N1gT-i",
        "outputId": "9eca6ef4-3202-4bf8-e321-a099275f500b"
      },
      "source": [
        "net.encoder.Linear1.weight"
      ],
      "execution_count": 73,
      "outputs": [
        {
          "output_type": "execute_result",
          "data": {
            "text/plain": [
              "Parameter containing:\n",
              "tensor([[ 2.5421e-02, -2.1288e-04,  6.1642e-02,  ..., -3.9452e-02,\n",
              "         -7.3265e-02, -2.5514e-02],\n",
              "        [ 2.5733e-02, -4.9902e-02, -6.8294e-02,  ..., -4.5370e-02,\n",
              "         -7.7490e-02,  8.3840e-02],\n",
              "        [ 1.0899e-02, -6.9107e-02, -8.0908e-02,  ..., -1.0650e-01,\n",
              "         -5.5905e-02, -8.5170e-02],\n",
              "        ...,\n",
              "        [ 3.3303e-02, -4.5017e-01, -2.8376e-01,  ..., -1.4239e-01,\n",
              "         -1.4423e-01,  3.4204e-02],\n",
              "        [-2.7679e-02, -1.1544e-02,  2.1800e-02,  ..., -4.8923e-02,\n",
              "         -2.1646e-02,  2.2567e-02],\n",
              "        [ 9.2440e-04, -8.2279e-02, -6.2101e-02,  ..., -9.2137e-02,\n",
              "         -7.1895e-02, -2.4563e-02]], device='cuda:0', requires_grad=True)"
            ]
          },
          "metadata": {
            "tags": []
          },
          "execution_count": 73
        }
      ]
    },
    {
      "cell_type": "code",
      "metadata": {
        "id": "eYaWDahLFxY2",
        "colab": {
          "base_uri": "https://localhost:8080/",
          "height": 52
        },
        "outputId": "626cb9bc-661e-499a-87fe-79641e37795b"
      },
      "source": [
        "input_dim = 784\n",
        "output_dim = 10\n",
        "hidden_dim = 256\n",
        "encoder_weight = net.encoder.Linear1.weight\n",
        "#encoder_weight = 0\n",
        "'''\n",
        "mlp_net2 = mlp_net(input_dim,output_dim,hidden_dim,encoder_weight,pretrained = True)\n",
        "#net = Autoencoder(input_shape = 784)\n",
        "mlp_net2.to(device)\n",
        "\n",
        "loss_fn = torch.nn.CrossEntropyLoss()\n",
        "#optimizer = torch.optim.Adam(net.parameters(),lr = 0.7)\n",
        "optimizer = torch.optim.Adam(mlp_net2.parameters(), lr=0.01)\n",
        "'''"
      ],
      "execution_count": 37,
      "outputs": [
        {
          "output_type": "execute_result",
          "data": {
            "application/vnd.google.colaboratory.intrinsic+json": {
              "type": "string"
            },
            "text/plain": [
              "'\\nmlp_net2 = mlp_net(input_dim,output_dim,hidden_dim,encoder_weight,pretrained = True)\\n#net = Autoencoder(input_shape = 784)\\nmlp_net2.to(device)\\n\\nloss_fn = torch.nn.CrossEntropyLoss()\\n#optimizer = torch.optim.Adam(net.parameters(),lr = 0.7)\\noptimizer = torch.optim.Adam(mlp_net2.parameters(), lr=0.01)\\n'"
            ]
          },
          "metadata": {
            "tags": []
          },
          "execution_count": 37
        }
      ]
    },
    {
      "cell_type": "code",
      "metadata": {
        "id": "xgK9_2ATgsMM"
      },
      "source": [
        "import random\n",
        "#taking on 5% of data for training\n",
        "\n",
        "\n",
        "\n"
      ],
      "execution_count": 26,
      "outputs": []
    },
    {
      "cell_type": "code",
      "metadata": {
        "id": "xTq8HLk4H6Nr"
      },
      "source": [
        "\n",
        "def relabel_data(y):\n",
        "  for i in range(len(y)):\n",
        "    if y[i]==5 :\n",
        "      y[i] = 2\n",
        "    if y[i]==8 :\n",
        "      y[i] = 3\n",
        "  return y "
      ],
      "execution_count": 24,
      "outputs": []
    },
    {
      "cell_type": "code",
      "metadata": {
        "colab": {
          "base_uri": "https://localhost:8080/"
        },
        "id": "lgeCraSQPaOw",
        "outputId": "f6bd11fd-3603-403e-8628-6a6151d43c4c"
      },
      "source": [
        "y_train1"
      ],
      "execution_count": 36,
      "outputs": [
        {
          "output_type": "execute_result",
          "data": {
            "text/plain": [
              "array([0, 0, 0, ..., 5, 5, 1], dtype=uint8)"
            ]
          },
          "metadata": {
            "tags": []
          },
          "execution_count": 36
        }
      ]
    },
    {
      "cell_type": "code",
      "metadata": {
        "colab": {
          "base_uri": "https://localhost:8080/",
          "height": 868
        },
        "id": "3nKKxosZkMF-",
        "outputId": "fe7d75e2-979c-4c99-8367-efbb2a89f617"
      },
      "source": [
        "\n",
        "#net = Autoencoder(input_shape = 784)\n",
        "pretrained = False\n",
        "data_percent_list = [0.05,0.1,0.2,0.4,0.6,0.8]\n",
        "data_percent = 0.8\n",
        "test_acc_true = []\n",
        "val_acc_true = []\n",
        "x_train_mlp = X_train1\n",
        "y_train_mlp = y_train1\n",
        "x_val_mlp = X_val1\n",
        "y_val_mlp = y_val1 \n",
        "#temp = list(zip(x_train_mlp, y_train_mlp)) \n",
        "#random.shuffle(temp) \n",
        "x_train_mlp, y_train_mlp = zip(*temp)\n",
        "size = len(x_train_mlp)\n",
        "#for data_percent in data_percent_list :\n",
        "\n",
        "#optimizer = torch.optim.Adam(net.parameters(),lr = 0.7)\n",
        "val_data_mlp = Dataset(x_val_mlp, y_val_mlp)\n",
        "val_loader_mlp = torch.utils.data.DataLoader(val_data_mlp, **dataloader_params)\n",
        "test_data_mlp = Dataset(X_test1, y_test1)\n",
        "test_loader_mlp = torch.utils.data.DataLoader(test_data_mlp, **dataloader_params)\n",
        "\n",
        "train_data_mlp = Dataset(x_train_mlp[0:int(data_percent*size)], y_train_mlp[0:int(data_percent*size)])\n",
        "train_loader_mlp = torch.utils.data.DataLoader(train_data_mlp, **dataloader_params)  \n",
        "val_acc,test_acc  = train_mlp(input_dim,output_dim,hidden_dim,encoder_weight,pretrained,train_loader_mlp,test_loader_mlp,val_loader_mlp,20)\n",
        "val_acc_true.append(val_acc)\n",
        "test_acc_true.append(test_acc)"
      ],
      "execution_count": 38,
      "outputs": [
        {
          "output_type": "stream",
          "text": [
            "epoch:  0 train_loss:  2.125314939022064\n",
            "epoch:  0 test_loss:  2.518496561050415 acc:  0.20333986477395047\n",
            "epoch:  1 train_loss:  2.1203976392745973\n",
            "epoch:  1 test_loss:  2.518626165390015 acc:  0.20395902011571582\n",
            "epoch:  2 train_loss:  2.1185805201530457\n",
            "epoch:  2 test_loss:  2.5185225009918213 acc:  0.20347967404467168\n",
            "epoch:  3 train_loss:  2.1201180815696716\n",
            "epoch:  3 test_loss:  2.5182891368865965 acc:  0.20415874764531755\n",
            "epoch:  4 train_loss:  2.1189998626708983\n",
            "epoch:  4 test_loss:  2.5182891368865965 acc:  0.20393904736275564\n",
            "epoch:  5 train_loss:  2.1208635568618774\n",
            "epoch:  5 test_loss:  2.518133592605591 acc:  0.20377926533907428\n",
            "epoch:  6 train_loss:  2.120164716243744\n",
            "epoch:  6 test_loss:  2.5184446811676025 acc:  0.20399896562163616\n",
            "epoch:  7 train_loss:  2.1202112674713134\n",
            "epoch:  7 test_loss:  2.518133592605591 acc:  0.20377926533907428\n",
            "epoch:  8 train_loss:  2.119931697845459\n",
            "epoch:  8 test_loss:  2.5181854248046873 acc:  0.2037592925861141\n",
            "epoch:  9 train_loss:  2.118999922275543\n",
            "epoch:  9 test_loss:  2.5182631969451905 acc:  0.20349964679763186\n",
            "epoch:  10 train_loss:  2.1189998984336853\n",
            "epoch:  10 test_loss:  2.518418788909912 acc:  0.20393904736275564\n",
            "epoch:  11 train_loss:  2.119512379169464\n",
            "epoch:  11 test_loss:  2.518652105331421 acc:  0.20357953780947255\n",
            "epoch:  12 train_loss:  2.1189067125320435\n",
            "epoch:  12 test_loss:  2.5182631969451905 acc:  0.2037592925861141\n",
            "epoch:  13 train_loss:  2.1190930724143984\n",
            "epoch:  13 test_loss:  2.518600273132324 acc:  0.20365942882131324\n",
            "epoch:  14 train_loss:  2.119605600833893\n"
          ],
          "name": "stdout"
        },
        {
          "output_type": "error",
          "ename": "KeyboardInterrupt",
          "evalue": "ignored",
          "traceback": [
            "\u001b[0;31m---------------------------------------------------------------------------\u001b[0m",
            "\u001b[0;31mKeyboardInterrupt\u001b[0m                         Traceback (most recent call last)",
            "\u001b[0;32m<ipython-input-38-780a358bdab3>\u001b[0m in \u001b[0;36m<module>\u001b[0;34m()\u001b[0m\n\u001b[1;32m     24\u001b[0m \u001b[0mtrain_data_mlp\u001b[0m \u001b[0;34m=\u001b[0m \u001b[0mDataset\u001b[0m\u001b[0;34m(\u001b[0m\u001b[0mx_train_mlp\u001b[0m\u001b[0;34m[\u001b[0m\u001b[0;36m0\u001b[0m\u001b[0;34m:\u001b[0m\u001b[0mint\u001b[0m\u001b[0;34m(\u001b[0m\u001b[0mdata_percent\u001b[0m\u001b[0;34m*\u001b[0m\u001b[0msize\u001b[0m\u001b[0;34m)\u001b[0m\u001b[0;34m]\u001b[0m\u001b[0;34m,\u001b[0m \u001b[0my_train_mlp\u001b[0m\u001b[0;34m[\u001b[0m\u001b[0;36m0\u001b[0m\u001b[0;34m:\u001b[0m\u001b[0mint\u001b[0m\u001b[0;34m(\u001b[0m\u001b[0mdata_percent\u001b[0m\u001b[0;34m*\u001b[0m\u001b[0msize\u001b[0m\u001b[0;34m)\u001b[0m\u001b[0;34m]\u001b[0m\u001b[0;34m)\u001b[0m\u001b[0;34m\u001b[0m\u001b[0;34m\u001b[0m\u001b[0m\n\u001b[1;32m     25\u001b[0m \u001b[0mtrain_loader_mlp\u001b[0m \u001b[0;34m=\u001b[0m \u001b[0mtorch\u001b[0m\u001b[0;34m.\u001b[0m\u001b[0mutils\u001b[0m\u001b[0;34m.\u001b[0m\u001b[0mdata\u001b[0m\u001b[0;34m.\u001b[0m\u001b[0mDataLoader\u001b[0m\u001b[0;34m(\u001b[0m\u001b[0mtrain_data_mlp\u001b[0m\u001b[0;34m,\u001b[0m \u001b[0;34m**\u001b[0m\u001b[0mdataloader_params\u001b[0m\u001b[0;34m)\u001b[0m\u001b[0;34m\u001b[0m\u001b[0;34m\u001b[0m\u001b[0m\n\u001b[0;32m---> 26\u001b[0;31m \u001b[0mval_acc\u001b[0m\u001b[0;34m,\u001b[0m\u001b[0mtest_acc\u001b[0m  \u001b[0;34m=\u001b[0m \u001b[0mtrain_mlp\u001b[0m\u001b[0;34m(\u001b[0m\u001b[0minput_dim\u001b[0m\u001b[0;34m,\u001b[0m\u001b[0moutput_dim\u001b[0m\u001b[0;34m,\u001b[0m\u001b[0mhidden_dim\u001b[0m\u001b[0;34m,\u001b[0m\u001b[0mencoder_weight\u001b[0m\u001b[0;34m,\u001b[0m\u001b[0mpretrained\u001b[0m\u001b[0;34m,\u001b[0m\u001b[0mtrain_loader_mlp\u001b[0m\u001b[0;34m,\u001b[0m\u001b[0mtest_loader_mlp\u001b[0m\u001b[0;34m,\u001b[0m\u001b[0mval_loader_mlp\u001b[0m\u001b[0;34m,\u001b[0m\u001b[0;36m20\u001b[0m\u001b[0;34m)\u001b[0m\u001b[0;34m\u001b[0m\u001b[0;34m\u001b[0m\u001b[0m\n\u001b[0m\u001b[1;32m     27\u001b[0m \u001b[0mval_acc_true\u001b[0m\u001b[0;34m.\u001b[0m\u001b[0mappend\u001b[0m\u001b[0;34m(\u001b[0m\u001b[0mval_acc\u001b[0m\u001b[0;34m)\u001b[0m\u001b[0;34m\u001b[0m\u001b[0;34m\u001b[0m\u001b[0m\n\u001b[1;32m     28\u001b[0m \u001b[0mtest_acc_true\u001b[0m\u001b[0;34m.\u001b[0m\u001b[0mappend\u001b[0m\u001b[0;34m(\u001b[0m\u001b[0mtest_acc\u001b[0m\u001b[0;34m)\u001b[0m\u001b[0;34m\u001b[0m\u001b[0;34m\u001b[0m\u001b[0m\n",
            "\u001b[0;32m<ipython-input-25-46b5bd4f2446>\u001b[0m in \u001b[0;36mtrain_mlp\u001b[0;34m(input_dim, output_dim, hidden_dim, encoder_weight, pretrained, train_loader_mlp, test_loader_mlp, val_loader_mlp, epochs)\u001b[0m\n\u001b[1;32m     68\u001b[0m     \u001b[0mrunning_loss\u001b[0m \u001b[0;34m=\u001b[0m \u001b[0;34m(\u001b[0m\u001b[0mrunning_loss\u001b[0m\u001b[0;34m)\u001b[0m\u001b[0;34m/\u001b[0m\u001b[0mlen\u001b[0m\u001b[0;34m(\u001b[0m\u001b[0mtrain_loader_mlp\u001b[0m\u001b[0;34m)\u001b[0m\u001b[0;34m\u001b[0m\u001b[0;34m\u001b[0m\u001b[0m\n\u001b[1;32m     69\u001b[0m     \u001b[0mprint\u001b[0m\u001b[0;34m(\u001b[0m\u001b[0;34m\"epoch: \"\u001b[0m\u001b[0;34m,\u001b[0m\u001b[0mepoch\u001b[0m\u001b[0;34m,\u001b[0m \u001b[0;34m\"train_loss: \"\u001b[0m\u001b[0;34m,\u001b[0m\u001b[0mrunning_loss\u001b[0m\u001b[0;34m)\u001b[0m\u001b[0;34m\u001b[0m\u001b[0;34m\u001b[0m\u001b[0m\n\u001b[0;32m---> 70\u001b[0;31m     \u001b[0;32mfor\u001b[0m \u001b[0mj\u001b[0m\u001b[0;34m,\u001b[0m \u001b[0mdata\u001b[0m \u001b[0;32min\u001b[0m \u001b[0menumerate\u001b[0m\u001b[0;34m(\u001b[0m\u001b[0mval_loader_mlp\u001b[0m\u001b[0;34m)\u001b[0m\u001b[0;34m:\u001b[0m\u001b[0;34m\u001b[0m\u001b[0;34m\u001b[0m\u001b[0m\n\u001b[0m\u001b[1;32m     71\u001b[0m       \u001b[0mx\u001b[0m\u001b[0;34m,\u001b[0m\u001b[0my\u001b[0m \u001b[0;34m=\u001b[0m \u001b[0mdata\u001b[0m\u001b[0;34m\u001b[0m\u001b[0;34m\u001b[0m\u001b[0m\n\u001b[1;32m     72\u001b[0m       \u001b[0;32mwith\u001b[0m \u001b[0mtorch\u001b[0m\u001b[0;34m.\u001b[0m\u001b[0mno_grad\u001b[0m\u001b[0;34m(\u001b[0m\u001b[0;34m)\u001b[0m\u001b[0;34m:\u001b[0m\u001b[0;34m\u001b[0m\u001b[0;34m\u001b[0m\u001b[0m\n",
            "\u001b[0;32m/usr/local/lib/python3.6/dist-packages/torch/utils/data/dataloader.py\u001b[0m in \u001b[0;36m__next__\u001b[0;34m(self)\u001b[0m\n\u001b[1;32m    433\u001b[0m         \u001b[0;32mif\u001b[0m \u001b[0mself\u001b[0m\u001b[0;34m.\u001b[0m\u001b[0m_sampler_iter\u001b[0m \u001b[0;32mis\u001b[0m \u001b[0;32mNone\u001b[0m\u001b[0;34m:\u001b[0m\u001b[0;34m\u001b[0m\u001b[0;34m\u001b[0m\u001b[0m\n\u001b[1;32m    434\u001b[0m             \u001b[0mself\u001b[0m\u001b[0;34m.\u001b[0m\u001b[0m_reset\u001b[0m\u001b[0;34m(\u001b[0m\u001b[0;34m)\u001b[0m\u001b[0;34m\u001b[0m\u001b[0;34m\u001b[0m\u001b[0m\n\u001b[0;32m--> 435\u001b[0;31m         \u001b[0mdata\u001b[0m \u001b[0;34m=\u001b[0m \u001b[0mself\u001b[0m\u001b[0;34m.\u001b[0m\u001b[0m_next_data\u001b[0m\u001b[0;34m(\u001b[0m\u001b[0;34m)\u001b[0m\u001b[0;34m\u001b[0m\u001b[0;34m\u001b[0m\u001b[0m\n\u001b[0m\u001b[1;32m    436\u001b[0m         \u001b[0mself\u001b[0m\u001b[0;34m.\u001b[0m\u001b[0m_num_yielded\u001b[0m \u001b[0;34m+=\u001b[0m \u001b[0;36m1\u001b[0m\u001b[0;34m\u001b[0m\u001b[0;34m\u001b[0m\u001b[0m\n\u001b[1;32m    437\u001b[0m         \u001b[0;32mif\u001b[0m \u001b[0mself\u001b[0m\u001b[0;34m.\u001b[0m\u001b[0m_dataset_kind\u001b[0m \u001b[0;34m==\u001b[0m \u001b[0m_DatasetKind\u001b[0m\u001b[0;34m.\u001b[0m\u001b[0mIterable\u001b[0m \u001b[0;32mand\u001b[0m\u001b[0;31m \u001b[0m\u001b[0;31m\\\u001b[0m\u001b[0;34m\u001b[0m\u001b[0;34m\u001b[0m\u001b[0m\n",
            "\u001b[0;32m/usr/local/lib/python3.6/dist-packages/torch/utils/data/dataloader.py\u001b[0m in \u001b[0;36m_next_data\u001b[0;34m(self)\u001b[0m\n\u001b[1;32m   1066\u001b[0m \u001b[0;34m\u001b[0m\u001b[0m\n\u001b[1;32m   1067\u001b[0m             \u001b[0;32massert\u001b[0m \u001b[0;32mnot\u001b[0m \u001b[0mself\u001b[0m\u001b[0;34m.\u001b[0m\u001b[0m_shutdown\u001b[0m \u001b[0;32mand\u001b[0m \u001b[0mself\u001b[0m\u001b[0;34m.\u001b[0m\u001b[0m_tasks_outstanding\u001b[0m \u001b[0;34m>\u001b[0m \u001b[0;36m0\u001b[0m\u001b[0;34m\u001b[0m\u001b[0;34m\u001b[0m\u001b[0m\n\u001b[0;32m-> 1068\u001b[0;31m             \u001b[0midx\u001b[0m\u001b[0;34m,\u001b[0m \u001b[0mdata\u001b[0m \u001b[0;34m=\u001b[0m \u001b[0mself\u001b[0m\u001b[0;34m.\u001b[0m\u001b[0m_get_data\u001b[0m\u001b[0;34m(\u001b[0m\u001b[0;34m)\u001b[0m\u001b[0;34m\u001b[0m\u001b[0;34m\u001b[0m\u001b[0m\n\u001b[0m\u001b[1;32m   1069\u001b[0m             \u001b[0mself\u001b[0m\u001b[0;34m.\u001b[0m\u001b[0m_tasks_outstanding\u001b[0m \u001b[0;34m-=\u001b[0m \u001b[0;36m1\u001b[0m\u001b[0;34m\u001b[0m\u001b[0;34m\u001b[0m\u001b[0m\n\u001b[1;32m   1070\u001b[0m             \u001b[0;32mif\u001b[0m \u001b[0mself\u001b[0m\u001b[0;34m.\u001b[0m\u001b[0m_dataset_kind\u001b[0m \u001b[0;34m==\u001b[0m \u001b[0m_DatasetKind\u001b[0m\u001b[0;34m.\u001b[0m\u001b[0mIterable\u001b[0m\u001b[0;34m:\u001b[0m\u001b[0;34m\u001b[0m\u001b[0;34m\u001b[0m\u001b[0m\n",
            "\u001b[0;32m/usr/local/lib/python3.6/dist-packages/torch/utils/data/dataloader.py\u001b[0m in \u001b[0;36m_get_data\u001b[0;34m(self)\u001b[0m\n\u001b[1;32m   1032\u001b[0m         \u001b[0;32melse\u001b[0m\u001b[0;34m:\u001b[0m\u001b[0;34m\u001b[0m\u001b[0;34m\u001b[0m\u001b[0m\n\u001b[1;32m   1033\u001b[0m             \u001b[0;32mwhile\u001b[0m \u001b[0;32mTrue\u001b[0m\u001b[0;34m:\u001b[0m\u001b[0;34m\u001b[0m\u001b[0;34m\u001b[0m\u001b[0m\n\u001b[0;32m-> 1034\u001b[0;31m                 \u001b[0msuccess\u001b[0m\u001b[0;34m,\u001b[0m \u001b[0mdata\u001b[0m \u001b[0;34m=\u001b[0m \u001b[0mself\u001b[0m\u001b[0;34m.\u001b[0m\u001b[0m_try_get_data\u001b[0m\u001b[0;34m(\u001b[0m\u001b[0;34m)\u001b[0m\u001b[0;34m\u001b[0m\u001b[0;34m\u001b[0m\u001b[0m\n\u001b[0m\u001b[1;32m   1035\u001b[0m                 \u001b[0;32mif\u001b[0m \u001b[0msuccess\u001b[0m\u001b[0;34m:\u001b[0m\u001b[0;34m\u001b[0m\u001b[0;34m\u001b[0m\u001b[0m\n\u001b[1;32m   1036\u001b[0m                     \u001b[0;32mreturn\u001b[0m \u001b[0mdata\u001b[0m\u001b[0;34m\u001b[0m\u001b[0;34m\u001b[0m\u001b[0m\n",
            "\u001b[0;32m/usr/local/lib/python3.6/dist-packages/torch/utils/data/dataloader.py\u001b[0m in \u001b[0;36m_try_get_data\u001b[0;34m(self, timeout)\u001b[0m\n\u001b[1;32m    870\u001b[0m         \u001b[0;31m#   (bool: whether successfully get data, any: data if successful else None)\u001b[0m\u001b[0;34m\u001b[0m\u001b[0;34m\u001b[0m\u001b[0;34m\u001b[0m\u001b[0m\n\u001b[1;32m    871\u001b[0m         \u001b[0;32mtry\u001b[0m\u001b[0;34m:\u001b[0m\u001b[0;34m\u001b[0m\u001b[0;34m\u001b[0m\u001b[0m\n\u001b[0;32m--> 872\u001b[0;31m             \u001b[0mdata\u001b[0m \u001b[0;34m=\u001b[0m \u001b[0mself\u001b[0m\u001b[0;34m.\u001b[0m\u001b[0m_data_queue\u001b[0m\u001b[0;34m.\u001b[0m\u001b[0mget\u001b[0m\u001b[0;34m(\u001b[0m\u001b[0mtimeout\u001b[0m\u001b[0;34m=\u001b[0m\u001b[0mtimeout\u001b[0m\u001b[0;34m)\u001b[0m\u001b[0;34m\u001b[0m\u001b[0;34m\u001b[0m\u001b[0m\n\u001b[0m\u001b[1;32m    873\u001b[0m             \u001b[0;32mreturn\u001b[0m \u001b[0;34m(\u001b[0m\u001b[0;32mTrue\u001b[0m\u001b[0;34m,\u001b[0m \u001b[0mdata\u001b[0m\u001b[0;34m)\u001b[0m\u001b[0;34m\u001b[0m\u001b[0;34m\u001b[0m\u001b[0m\n\u001b[1;32m    874\u001b[0m         \u001b[0;32mexcept\u001b[0m \u001b[0mException\u001b[0m \u001b[0;32mas\u001b[0m \u001b[0me\u001b[0m\u001b[0;34m:\u001b[0m\u001b[0;34m\u001b[0m\u001b[0;34m\u001b[0m\u001b[0m\n",
            "\u001b[0;32m/usr/lib/python3.6/multiprocessing/queues.py\u001b[0m in \u001b[0;36mget\u001b[0;34m(self, block, timeout)\u001b[0m\n\u001b[1;32m    102\u001b[0m                 \u001b[0;32mif\u001b[0m \u001b[0mblock\u001b[0m\u001b[0;34m:\u001b[0m\u001b[0;34m\u001b[0m\u001b[0;34m\u001b[0m\u001b[0m\n\u001b[1;32m    103\u001b[0m                     \u001b[0mtimeout\u001b[0m \u001b[0;34m=\u001b[0m \u001b[0mdeadline\u001b[0m \u001b[0;34m-\u001b[0m \u001b[0mtime\u001b[0m\u001b[0;34m.\u001b[0m\u001b[0mmonotonic\u001b[0m\u001b[0;34m(\u001b[0m\u001b[0;34m)\u001b[0m\u001b[0;34m\u001b[0m\u001b[0;34m\u001b[0m\u001b[0m\n\u001b[0;32m--> 104\u001b[0;31m                     \u001b[0;32mif\u001b[0m \u001b[0;32mnot\u001b[0m \u001b[0mself\u001b[0m\u001b[0;34m.\u001b[0m\u001b[0m_poll\u001b[0m\u001b[0;34m(\u001b[0m\u001b[0mtimeout\u001b[0m\u001b[0;34m)\u001b[0m\u001b[0;34m:\u001b[0m\u001b[0;34m\u001b[0m\u001b[0;34m\u001b[0m\u001b[0m\n\u001b[0m\u001b[1;32m    105\u001b[0m                         \u001b[0;32mraise\u001b[0m \u001b[0mEmpty\u001b[0m\u001b[0;34m\u001b[0m\u001b[0;34m\u001b[0m\u001b[0m\n\u001b[1;32m    106\u001b[0m                 \u001b[0;32melif\u001b[0m \u001b[0;32mnot\u001b[0m \u001b[0mself\u001b[0m\u001b[0;34m.\u001b[0m\u001b[0m_poll\u001b[0m\u001b[0;34m(\u001b[0m\u001b[0;34m)\u001b[0m\u001b[0;34m:\u001b[0m\u001b[0;34m\u001b[0m\u001b[0;34m\u001b[0m\u001b[0m\n",
            "\u001b[0;32m/usr/lib/python3.6/multiprocessing/connection.py\u001b[0m in \u001b[0;36mpoll\u001b[0;34m(self, timeout)\u001b[0m\n\u001b[1;32m    255\u001b[0m         \u001b[0mself\u001b[0m\u001b[0;34m.\u001b[0m\u001b[0m_check_closed\u001b[0m\u001b[0;34m(\u001b[0m\u001b[0;34m)\u001b[0m\u001b[0;34m\u001b[0m\u001b[0;34m\u001b[0m\u001b[0m\n\u001b[1;32m    256\u001b[0m         \u001b[0mself\u001b[0m\u001b[0;34m.\u001b[0m\u001b[0m_check_readable\u001b[0m\u001b[0;34m(\u001b[0m\u001b[0;34m)\u001b[0m\u001b[0;34m\u001b[0m\u001b[0;34m\u001b[0m\u001b[0m\n\u001b[0;32m--> 257\u001b[0;31m         \u001b[0;32mreturn\u001b[0m \u001b[0mself\u001b[0m\u001b[0;34m.\u001b[0m\u001b[0m_poll\u001b[0m\u001b[0;34m(\u001b[0m\u001b[0mtimeout\u001b[0m\u001b[0;34m)\u001b[0m\u001b[0;34m\u001b[0m\u001b[0;34m\u001b[0m\u001b[0m\n\u001b[0m\u001b[1;32m    258\u001b[0m \u001b[0;34m\u001b[0m\u001b[0m\n\u001b[1;32m    259\u001b[0m     \u001b[0;32mdef\u001b[0m \u001b[0m__enter__\u001b[0m\u001b[0;34m(\u001b[0m\u001b[0mself\u001b[0m\u001b[0;34m)\u001b[0m\u001b[0;34m:\u001b[0m\u001b[0;34m\u001b[0m\u001b[0;34m\u001b[0m\u001b[0m\n",
            "\u001b[0;32m/usr/lib/python3.6/multiprocessing/connection.py\u001b[0m in \u001b[0;36m_poll\u001b[0;34m(self, timeout)\u001b[0m\n\u001b[1;32m    412\u001b[0m \u001b[0;34m\u001b[0m\u001b[0m\n\u001b[1;32m    413\u001b[0m     \u001b[0;32mdef\u001b[0m \u001b[0m_poll\u001b[0m\u001b[0;34m(\u001b[0m\u001b[0mself\u001b[0m\u001b[0;34m,\u001b[0m \u001b[0mtimeout\u001b[0m\u001b[0;34m)\u001b[0m\u001b[0;34m:\u001b[0m\u001b[0;34m\u001b[0m\u001b[0;34m\u001b[0m\u001b[0m\n\u001b[0;32m--> 414\u001b[0;31m         \u001b[0mr\u001b[0m \u001b[0;34m=\u001b[0m \u001b[0mwait\u001b[0m\u001b[0;34m(\u001b[0m\u001b[0;34m[\u001b[0m\u001b[0mself\u001b[0m\u001b[0;34m]\u001b[0m\u001b[0;34m,\u001b[0m \u001b[0mtimeout\u001b[0m\u001b[0;34m)\u001b[0m\u001b[0;34m\u001b[0m\u001b[0;34m\u001b[0m\u001b[0m\n\u001b[0m\u001b[1;32m    415\u001b[0m         \u001b[0;32mreturn\u001b[0m \u001b[0mbool\u001b[0m\u001b[0;34m(\u001b[0m\u001b[0mr\u001b[0m\u001b[0;34m)\u001b[0m\u001b[0;34m\u001b[0m\u001b[0;34m\u001b[0m\u001b[0m\n\u001b[1;32m    416\u001b[0m \u001b[0;34m\u001b[0m\u001b[0m\n",
            "\u001b[0;32m/usr/lib/python3.6/multiprocessing/connection.py\u001b[0m in \u001b[0;36mwait\u001b[0;34m(object_list, timeout)\u001b[0m\n\u001b[1;32m    909\u001b[0m \u001b[0;34m\u001b[0m\u001b[0m\n\u001b[1;32m    910\u001b[0m             \u001b[0;32mwhile\u001b[0m \u001b[0;32mTrue\u001b[0m\u001b[0;34m:\u001b[0m\u001b[0;34m\u001b[0m\u001b[0;34m\u001b[0m\u001b[0m\n\u001b[0;32m--> 911\u001b[0;31m                 \u001b[0mready\u001b[0m \u001b[0;34m=\u001b[0m \u001b[0mselector\u001b[0m\u001b[0;34m.\u001b[0m\u001b[0mselect\u001b[0m\u001b[0;34m(\u001b[0m\u001b[0mtimeout\u001b[0m\u001b[0;34m)\u001b[0m\u001b[0;34m\u001b[0m\u001b[0;34m\u001b[0m\u001b[0m\n\u001b[0m\u001b[1;32m    912\u001b[0m                 \u001b[0;32mif\u001b[0m \u001b[0mready\u001b[0m\u001b[0;34m:\u001b[0m\u001b[0;34m\u001b[0m\u001b[0;34m\u001b[0m\u001b[0m\n\u001b[1;32m    913\u001b[0m                     \u001b[0;32mreturn\u001b[0m \u001b[0;34m[\u001b[0m\u001b[0mkey\u001b[0m\u001b[0;34m.\u001b[0m\u001b[0mfileobj\u001b[0m \u001b[0;32mfor\u001b[0m \u001b[0;34m(\u001b[0m\u001b[0mkey\u001b[0m\u001b[0;34m,\u001b[0m \u001b[0mevents\u001b[0m\u001b[0;34m)\u001b[0m \u001b[0;32min\u001b[0m \u001b[0mready\u001b[0m\u001b[0;34m]\u001b[0m\u001b[0;34m\u001b[0m\u001b[0;34m\u001b[0m\u001b[0m\n",
            "\u001b[0;32m/usr/lib/python3.6/selectors.py\u001b[0m in \u001b[0;36mselect\u001b[0;34m(self, timeout)\u001b[0m\n\u001b[1;32m    374\u001b[0m             \u001b[0mready\u001b[0m \u001b[0;34m=\u001b[0m \u001b[0;34m[\u001b[0m\u001b[0;34m]\u001b[0m\u001b[0;34m\u001b[0m\u001b[0;34m\u001b[0m\u001b[0m\n\u001b[1;32m    375\u001b[0m             \u001b[0;32mtry\u001b[0m\u001b[0;34m:\u001b[0m\u001b[0;34m\u001b[0m\u001b[0;34m\u001b[0m\u001b[0m\n\u001b[0;32m--> 376\u001b[0;31m                 \u001b[0mfd_event_list\u001b[0m \u001b[0;34m=\u001b[0m \u001b[0mself\u001b[0m\u001b[0;34m.\u001b[0m\u001b[0m_poll\u001b[0m\u001b[0;34m.\u001b[0m\u001b[0mpoll\u001b[0m\u001b[0;34m(\u001b[0m\u001b[0mtimeout\u001b[0m\u001b[0;34m)\u001b[0m\u001b[0;34m\u001b[0m\u001b[0;34m\u001b[0m\u001b[0m\n\u001b[0m\u001b[1;32m    377\u001b[0m             \u001b[0;32mexcept\u001b[0m \u001b[0mInterruptedError\u001b[0m\u001b[0;34m:\u001b[0m\u001b[0;34m\u001b[0m\u001b[0;34m\u001b[0m\u001b[0m\n\u001b[1;32m    378\u001b[0m                 \u001b[0;32mreturn\u001b[0m \u001b[0mready\u001b[0m\u001b[0;34m\u001b[0m\u001b[0;34m\u001b[0m\u001b[0m\n",
            "\u001b[0;31mKeyboardInterrupt\u001b[0m: "
          ]
        }
      ]
    },
    {
      "cell_type": "code",
      "metadata": {
        "colab": {
          "base_uri": "https://localhost:8080/"
        },
        "id": "pdCJ2MY2P41J",
        "outputId": "dc92ca1f-2ffc-4c31-cc1c-b4b0df218df7"
      },
      "source": [
        "set(y_train1)"
      ],
      "execution_count": 43,
      "outputs": [
        {
          "output_type": "execute_result",
          "data": {
            "text/plain": [
              "{0, 1, 4, 5, 8}"
            ]
          },
          "metadata": {
            "tags": []
          },
          "execution_count": 43
        }
      ]
    },
    {
      "cell_type": "code",
      "metadata": {
        "colab": {
          "base_uri": "https://localhost:8080/"
        },
        "id": "D1iMSn4m8j62",
        "outputId": "727ab54d-4a43-4f0f-b80e-dd6f0e0b8987"
      },
      "source": [
        "print(val_acc_true , test_acc_true)"
      ],
      "execution_count": 42,
      "outputs": [
        {
          "output_type": "stream",
          "text": [
            "[[1.7810163736343383], [1.5451267957687378], [1.3903373241424561], [1.3137418985366822], [1.2803945779800414], [1.402147603034973]] [[1.8347511053085328], [1.5147045612335206], [1.3889920711517334], [1.3459396600723266], [1.255441164970398], [1.445418119430542]]\n"
          ],
          "name": "stdout"
        }
      ]
    },
    {
      "cell_type": "code",
      "metadata": {
        "colab": {
          "base_uri": "https://localhost:8080/",
          "height": 1000
        },
        "id": "958rZzU34JeA",
        "outputId": "768aef21-1f39-4fd7-a4dd-3c89257daa61"
      },
      "source": [
        "pretrained = False\n",
        "val_acc_false = []\n",
        "test_acc_false = []\n",
        "for data_percent in data_percent_list :\n",
        "  train_data_mlp = Dataset(x_train_mlp[0:int(data_percent*size)], y_train_mlp[0:int(data_percent*size)])\n",
        "  train_loader_mlp = torch.utils.data.DataLoader(train_data_mlp, **dataloader_params)  \n",
        "  val_acc,test_acc  = train_mlp(input_dim,output_dim,hidden_dim,encoder_weight,pretrained,train_loader_mlp,test_loader_mlp,val_loader_mlp,20)\n",
        "  val_acc_false.append(val_acc)\n",
        "  test_acc_false.append(test_acc)"
      ],
      "execution_count": 32,
      "outputs": [
        {
          "output_type": "stream",
          "text": [
            "epoch:  0 train_loss:  1.5916569232940674\n",
            "epoch:  0 test_loss:  1.568542718887329 acc:  0.3853418914827772\n",
            "epoch:  1 train_loss:  1.6107159852981567\n",
            "epoch:  1 test_loss:  1.7049563646316528 acc:  0.19854577334499462\n",
            "epoch:  2 train_loss:  1.6799439191818237\n",
            "epoch:  2 test_loss:  1.7046711206436158 acc:  0.1977668359795479\n",
            "epoch:  3 train_loss:  1.6851754784584045\n",
            "epoch:  3 test_loss:  1.7043859720230103 acc:  0.19822620929763185\n",
            "epoch:  4 train_loss:  1.7026141285896301\n",
            "epoch:  4 test_loss:  1.7048526525497436 acc:  0.1982661548035522\n",
            "epoch:  5 train_loss:  1.6921510100364685\n",
            "epoch:  5 test_loss:  1.705578589439392 acc:  0.19802648176803012\n",
            "epoch:  6 train_loss:  1.6869194507598877\n",
            "epoch:  6 test_loss:  1.7046452283859252 acc:  0.19822620929763185\n",
            "epoch:  7 train_loss:  1.7008703351020813\n",
            "epoch:  7 test_loss:  1.704878568649292 acc:  0.19780678148546824\n",
            "epoch:  8 train_loss:  1.6973824501037598\n",
            "epoch:  8 test_loss:  1.7049045085906982 acc:  0.19842593682723358\n",
            "epoch:  9 train_loss:  1.7008702754974365\n",
            "epoch:  9 test_loss:  1.7042303323745727 acc:  0.19822620929763185\n",
            "epoch:  10 train_loss:  1.7078458070755005\n",
            "epoch:  10 test_loss:  1.7051119089126587 acc:  0.19778680873250806\n",
            "epoch:  11 train_loss:  1.7148211598396301\n",
            "epoch:  11 test_loss:  1.7049044847488404 acc:  0.19836601856835306\n",
            "epoch:  12 train_loss:  1.702614188194275\n",
            "epoch:  12 test_loss:  1.705034112930298 acc:  0.19832607306243272\n",
            "epoch:  13 train_loss:  1.699126422405243\n",
            "epoch:  13 test_loss:  1.7046971082687379 acc:  0.1979865362621098\n",
            "epoch:  14 train_loss:  1.704357922077179\n",
            "epoch:  14 test_loss:  1.704878568649292 acc:  0.19842593682723358\n",
            "epoch:  15 train_loss:  1.683431625366211\n",
            "epoch:  15 test_loss:  1.7044897317886352 acc:  0.19820623654467168\n",
            "epoch:  16 train_loss:  1.6938947439193726\n",
            "epoch:  16 test_loss:  1.704956316947937 acc:  0.19824618205059202\n",
            "epoch:  17 train_loss:  1.6973825693130493\n",
            "epoch:  17 test_loss:  1.7050082445144654 acc:  0.1981063727798708\n",
            "epoch:  18 train_loss:  1.6904070973396301\n",
            "epoch:  18 test_loss:  1.704437804222107 acc:  0.19844590958019376\n",
            "epoch:  19 train_loss:  1.7061018347740173\n",
            "epoch:  19 test_loss:  1.7050600528717041 acc:  0.19824618205059202\n",
            "epoch:  0 train_loss:  1.6953997611999512\n",
            "epoch:  0 test_loss:  1.509852647781372 acc:  0.3075255230758881\n",
            "epoch:  1 train_loss:  1.4502435127894084\n",
            "epoch:  1 test_loss:  1.3970409870147704 acc:  0.5072787018972014\n",
            "epoch:  2 train_loss:  1.3764909108479817\n",
            "epoch:  2 test_loss:  1.3378162622451781 acc:  0.500844532090958\n",
            "epoch:  3 train_loss:  1.367879311243693\n",
            "epoch:  3 test_loss:  1.39783673286438 acc:  0.5135930351856836\n",
            "epoch:  4 train_loss:  1.4157106479008992\n",
            "epoch:  4 test_loss:  1.392733883857727 acc:  0.5209039037271259\n",
            "epoch:  5 train_loss:  1.3697293599446614\n",
            "epoch:  5 test_loss:  1.3582803010940552 acc:  0.6900575635764262\n",
            "epoch:  6 train_loss:  1.3709770441055298\n",
            "epoch:  6 test_loss:  1.4220022439956665 acc:  0.5938286295748116\n",
            "epoch:  7 train_loss:  1.426339864730835\n",
            "epoch:  7 test_loss:  1.4533014297485352 acc:  0.5335636857508074\n",
            "epoch:  8 train_loss:  1.4368289311726887\n",
            "epoch:  8 test_loss:  1.4390251159667968 acc:  0.528987192209365\n",
            "epoch:  9 train_loss:  1.4282939036687214\n",
            "epoch:  9 test_loss:  1.427937889099121 acc:  0.5490644342034445\n",
            "epoch:  10 train_loss:  1.4172453880310059\n",
            "epoch:  10 test_loss:  1.4436841249465941 acc:  0.5310801264800861\n",
            "epoch:  11 train_loss:  1.4300481081008911\n",
            "epoch:  11 test_loss:  1.4740511417388915 acc:  0.4879383493675996\n",
            "epoch:  12 train_loss:  1.4421967665354412\n",
            "epoch:  12 test_loss:  1.4284605264663697 acc:  0.5468693235333693\n",
            "epoch:  13 train_loss:  1.4163366556167603\n",
            "epoch:  13 test_loss:  1.4410084009170532 acc:  0.45603366354951563\n",
            "epoch:  14 train_loss:  1.4370396534601848\n",
            "epoch:  14 test_loss:  1.456317925453186 acc:  0.3872327855893434\n",
            "epoch:  15 train_loss:  1.4796465635299683\n",
            "epoch:  15 test_loss:  1.5709762573242188 acc:  0.3837571060952637\n",
            "epoch:  16 train_loss:  1.554608980814616\n",
            "epoch:  16 test_loss:  1.4864631414413452 acc:  0.4973177643972013\n",
            "epoch:  17 train_loss:  1.4925824403762817\n",
            "epoch:  17 test_loss:  1.4883004426956177 acc:  0.4688555402314316\n",
            "epoch:  18 train_loss:  1.4954517682393391\n",
            "epoch:  18 test_loss:  1.4857715606689452 acc:  0.4693704167787944\n",
            "epoch:  19 train_loss:  1.5000649690628052\n",
            "epoch:  19 test_loss:  1.496643304824829 acc:  0.4403243575080732\n",
            "epoch:  0 train_loss:  1.6509304285049438\n",
            "epoch:  0 test_loss:  1.6985595226287842 acc:  0.306895225040366\n",
            "epoch:  1 train_loss:  1.6822171211242676\n",
            "epoch:  1 test_loss:  1.6508045196533203 acc:  0.39518950988966633\n",
            "epoch:  2 train_loss:  1.6346392154693603\n",
            "epoch:  2 test_loss:  1.6192988872528076 acc:  0.37814413179494083\n",
            "epoch:  3 train_loss:  1.6457128763198852\n",
            "epoch:  3 test_loss:  1.7045781373977662 acc:  0.19880100410387513\n",
            "epoch:  4 train_loss:  1.70563485622406\n",
            "epoch:  4 test_loss:  1.7046452283859252 acc:  0.19800650901506997\n",
            "epoch:  5 train_loss:  1.705743432044983\n",
            "epoch:  5 test_loss:  1.7047489643096925 acc:  0.19832607306243272\n",
            "epoch:  6 train_loss:  1.7053361177444457\n",
            "epoch:  6 test_loss:  1.7043341159820558 acc:  0.19858571885091497\n",
            "epoch:  7 train_loss:  1.7054176092147828\n",
            "epoch:  7 test_loss:  1.7045414924621582 acc:  0.19800650901506997\n",
            "epoch:  8 train_loss:  1.7053904771804809\n",
            "epoch:  8 test_loss:  1.7044637203216553 acc:  0.1979066452502691\n",
            "epoch:  9 train_loss:  1.7058520793914795\n",
            "epoch:  9 test_loss:  1.7049304485321044 acc:  0.19794659075618945\n",
            "epoch:  10 train_loss:  1.7057163953781127\n",
            "epoch:  10 test_loss:  1.7044896841049195 acc:  0.1984858550861141\n",
            "epoch:  11 train_loss:  1.7059336185455323\n",
            "epoch:  11 test_loss:  1.7045415401458741 acc:  0.19814631828579116\n",
            "epoch:  12 train_loss:  1.7049288034439087\n",
            "epoch:  12 test_loss:  1.7050859689712525 acc:  0.19836601856835306\n",
            "epoch:  13 train_loss:  1.7051732063293457\n",
            "epoch:  13 test_loss:  1.7049822807312012 acc:  0.19838599132131324\n",
            "epoch:  14 train_loss:  1.7056620597839356\n",
            "epoch:  14 test_loss:  1.7052934169769287 acc:  0.1984059640742734\n",
            "epoch:  15 train_loss:  1.7060149908065796\n",
            "epoch:  15 test_loss:  1.7046971321105957 acc:  0.19806642727395046\n",
            "epoch:  16 train_loss:  1.7056077003479004\n",
            "epoch:  16 test_loss:  1.7049304008483888 acc:  0.19808640002691064\n",
            "epoch:  17 train_loss:  1.7051189184188842\n",
            "epoch:  17 test_loss:  1.7045674324035645 acc:  0.1976270267088267\n",
            "epoch:  18 train_loss:  1.7053361177444457\n",
            "epoch:  18 test_loss:  1.7044119119644165 acc:  0.19888531014531755\n",
            "epoch:  19 train_loss:  1.7062322854995728\n",
            "epoch:  19 test_loss:  1.704774832725525 acc:  0.1983460458153929\n",
            "epoch:  0 train_loss:  1.5412932515144349\n",
            "epoch:  0 test_loss:  1.5089054346084594 acc:  0.35684623923573733\n",
            "epoch:  1 train_loss:  1.5449031233787536\n",
            "epoch:  1 test_loss:  1.5575734615325927 acc:  0.2860522907696448\n",
            "epoch:  2 train_loss:  1.5180574536323548\n",
            "epoch:  2 test_loss:  1.5304507970809937 acc:  0.3935826493541442\n",
            "epoch:  3 train_loss:  1.5451299548149109\n",
            "epoch:  3 test_loss:  1.538600254058838 acc:  0.3911146478067815\n",
            "epoch:  4 train_loss:  1.5339470386505127\n",
            "epoch:  4 test_loss:  1.5177989244461059 acc:  0.3954247678955866\n",
            "epoch:  5 train_loss:  1.5088822841644287\n",
            "epoch:  5 test_loss:  1.4984777212142943 acc:  0.3920157343245425\n",
            "epoch:  6 train_loss:  1.5003702878952025\n",
            "epoch:  6 test_loss:  1.4956906318664551 acc:  0.38675785454790096\n",
            "epoch:  7 train_loss:  1.4943722367286683\n",
            "epoch:  7 test_loss:  1.4998465061187745 acc:  0.36314501480086114\n",
            "epoch:  8 train_loss:  1.5000600457191466\n",
            "epoch:  8 test_loss:  1.4896005630493163 acc:  0.3756250420479009\n",
            "epoch:  9 train_loss:  1.4882052421569825\n",
            "epoch:  9 test_loss:  1.486635422706604 acc:  0.3891304073600646\n",
            "epoch:  10 train_loss:  1.4920660614967347\n",
            "epoch:  10 test_loss:  1.49013671875 acc:  0.3912788448600646\n",
            "epoch:  11 train_loss:  1.4885051131248475\n",
            "epoch:  11 test_loss:  1.4867932558059693 acc:  0.3758802728067815\n",
            "epoch:  12 train_loss:  1.4876680374145508\n",
            "epoch:  12 test_loss:  1.4883594036102294 acc:  0.3733168225242196\n",
            "epoch:  13 train_loss:  1.4843047857284546\n",
            "epoch:  13 test_loss:  1.482462739944458 acc:  0.3876501110064586\n",
            "epoch:  14 train_loss:  1.4875083208084106\n",
            "epoch:  14 test_loss:  1.4884064197540283 acc:  0.3917760612890205\n",
            "epoch:  15 train_loss:  1.4883954524993896\n",
            "epoch:  15 test_loss:  1.483178472518921 acc:  0.38585676803013996\n",
            "epoch:  16 train_loss:  1.4860651969909668\n",
            "epoch:  16 test_loss:  1.493709397315979 acc:  0.3690443353067815\n",
            "epoch:  17 train_loss:  1.4950313091278076\n",
            "epoch:  17 test_loss:  1.50076744556427 acc:  0.3602552728067815\n",
            "epoch:  18 train_loss:  1.5000692844390868\n",
            "epoch:  18 test_loss:  1.5042948246002197 acc:  0.3560738192949408\n",
            "epoch:  19 train_loss:  1.5017327308654784\n",
            "epoch:  19 test_loss:  1.5059486865997314 acc:  0.35357028727125944\n",
            "epoch:  0 train_loss:  1.5982989231745401\n"
          ],
          "name": "stdout"
        },
        {
          "output_type": "error",
          "ename": "KeyboardInterrupt",
          "evalue": "ignored",
          "traceback": [
            "\u001b[0;31m---------------------------------------------------------------------------\u001b[0m",
            "\u001b[0;31mKeyboardInterrupt\u001b[0m                         Traceback (most recent call last)",
            "\u001b[0;32m<ipython-input-32-35c4718fbdcf>\u001b[0m in \u001b[0;36m<module>\u001b[0;34m()\u001b[0m\n\u001b[1;32m      5\u001b[0m   \u001b[0mtrain_data_mlp\u001b[0m \u001b[0;34m=\u001b[0m \u001b[0mDataset\u001b[0m\u001b[0;34m(\u001b[0m\u001b[0mx_train_mlp\u001b[0m\u001b[0;34m[\u001b[0m\u001b[0;36m0\u001b[0m\u001b[0;34m:\u001b[0m\u001b[0mint\u001b[0m\u001b[0;34m(\u001b[0m\u001b[0mdata_percent\u001b[0m\u001b[0;34m*\u001b[0m\u001b[0msize\u001b[0m\u001b[0;34m)\u001b[0m\u001b[0;34m]\u001b[0m\u001b[0;34m,\u001b[0m \u001b[0my_train_mlp\u001b[0m\u001b[0;34m[\u001b[0m\u001b[0;36m0\u001b[0m\u001b[0;34m:\u001b[0m\u001b[0mint\u001b[0m\u001b[0;34m(\u001b[0m\u001b[0mdata_percent\u001b[0m\u001b[0;34m*\u001b[0m\u001b[0msize\u001b[0m\u001b[0;34m)\u001b[0m\u001b[0;34m]\u001b[0m\u001b[0;34m)\u001b[0m\u001b[0;34m\u001b[0m\u001b[0;34m\u001b[0m\u001b[0m\n\u001b[1;32m      6\u001b[0m   \u001b[0mtrain_loader_mlp\u001b[0m \u001b[0;34m=\u001b[0m \u001b[0mtorch\u001b[0m\u001b[0;34m.\u001b[0m\u001b[0mutils\u001b[0m\u001b[0;34m.\u001b[0m\u001b[0mdata\u001b[0m\u001b[0;34m.\u001b[0m\u001b[0mDataLoader\u001b[0m\u001b[0;34m(\u001b[0m\u001b[0mtrain_data_mlp\u001b[0m\u001b[0;34m,\u001b[0m \u001b[0;34m**\u001b[0m\u001b[0mdataloader_params\u001b[0m\u001b[0;34m)\u001b[0m\u001b[0;34m\u001b[0m\u001b[0;34m\u001b[0m\u001b[0m\n\u001b[0;32m----> 7\u001b[0;31m   \u001b[0mval_acc\u001b[0m\u001b[0;34m,\u001b[0m\u001b[0mtest_acc\u001b[0m  \u001b[0;34m=\u001b[0m \u001b[0mtrain_mlp\u001b[0m\u001b[0;34m(\u001b[0m\u001b[0minput_dim\u001b[0m\u001b[0;34m,\u001b[0m\u001b[0moutput_dim\u001b[0m\u001b[0;34m,\u001b[0m\u001b[0mhidden_dim\u001b[0m\u001b[0;34m,\u001b[0m\u001b[0mencoder_weight\u001b[0m\u001b[0;34m,\u001b[0m\u001b[0mpretrained\u001b[0m\u001b[0;34m,\u001b[0m\u001b[0mtrain_loader_mlp\u001b[0m\u001b[0;34m,\u001b[0m\u001b[0mtest_loader_mlp\u001b[0m\u001b[0;34m,\u001b[0m\u001b[0mval_loader_mlp\u001b[0m\u001b[0;34m,\u001b[0m\u001b[0;36m20\u001b[0m\u001b[0;34m)\u001b[0m\u001b[0;34m\u001b[0m\u001b[0;34m\u001b[0m\u001b[0m\n\u001b[0m\u001b[1;32m      8\u001b[0m   \u001b[0mval_acc_false\u001b[0m\u001b[0;34m.\u001b[0m\u001b[0mappend\u001b[0m\u001b[0;34m(\u001b[0m\u001b[0mval_acc\u001b[0m\u001b[0;34m)\u001b[0m\u001b[0;34m\u001b[0m\u001b[0;34m\u001b[0m\u001b[0m\n\u001b[1;32m      9\u001b[0m   \u001b[0mtest_acc_false\u001b[0m\u001b[0;34m.\u001b[0m\u001b[0mappend\u001b[0m\u001b[0;34m(\u001b[0m\u001b[0mtest_acc\u001b[0m\u001b[0;34m)\u001b[0m\u001b[0;34m\u001b[0m\u001b[0;34m\u001b[0m\u001b[0m\n",
            "\u001b[0;32m<ipython-input-25-46b5bd4f2446>\u001b[0m in \u001b[0;36mtrain_mlp\u001b[0;34m(input_dim, output_dim, hidden_dim, encoder_weight, pretrained, train_loader_mlp, test_loader_mlp, val_loader_mlp, epochs)\u001b[0m\n\u001b[1;32m     68\u001b[0m     \u001b[0mrunning_loss\u001b[0m \u001b[0;34m=\u001b[0m \u001b[0;34m(\u001b[0m\u001b[0mrunning_loss\u001b[0m\u001b[0;34m)\u001b[0m\u001b[0;34m/\u001b[0m\u001b[0mlen\u001b[0m\u001b[0;34m(\u001b[0m\u001b[0mtrain_loader_mlp\u001b[0m\u001b[0;34m)\u001b[0m\u001b[0;34m\u001b[0m\u001b[0;34m\u001b[0m\u001b[0m\n\u001b[1;32m     69\u001b[0m     \u001b[0mprint\u001b[0m\u001b[0;34m(\u001b[0m\u001b[0;34m\"epoch: \"\u001b[0m\u001b[0;34m,\u001b[0m\u001b[0mepoch\u001b[0m\u001b[0;34m,\u001b[0m \u001b[0;34m\"train_loss: \"\u001b[0m\u001b[0;34m,\u001b[0m\u001b[0mrunning_loss\u001b[0m\u001b[0;34m)\u001b[0m\u001b[0;34m\u001b[0m\u001b[0;34m\u001b[0m\u001b[0m\n\u001b[0;32m---> 70\u001b[0;31m     \u001b[0;32mfor\u001b[0m \u001b[0mj\u001b[0m\u001b[0;34m,\u001b[0m \u001b[0mdata\u001b[0m \u001b[0;32min\u001b[0m \u001b[0menumerate\u001b[0m\u001b[0;34m(\u001b[0m\u001b[0mval_loader_mlp\u001b[0m\u001b[0;34m)\u001b[0m\u001b[0;34m:\u001b[0m\u001b[0;34m\u001b[0m\u001b[0;34m\u001b[0m\u001b[0m\n\u001b[0m\u001b[1;32m     71\u001b[0m       \u001b[0mx\u001b[0m\u001b[0;34m,\u001b[0m\u001b[0my\u001b[0m \u001b[0;34m=\u001b[0m \u001b[0mdata\u001b[0m\u001b[0;34m\u001b[0m\u001b[0;34m\u001b[0m\u001b[0m\n\u001b[1;32m     72\u001b[0m       \u001b[0;32mwith\u001b[0m \u001b[0mtorch\u001b[0m\u001b[0;34m.\u001b[0m\u001b[0mno_grad\u001b[0m\u001b[0;34m(\u001b[0m\u001b[0;34m)\u001b[0m\u001b[0;34m:\u001b[0m\u001b[0;34m\u001b[0m\u001b[0;34m\u001b[0m\u001b[0m\n",
            "\u001b[0;32m/usr/local/lib/python3.6/dist-packages/torch/utils/data/dataloader.py\u001b[0m in \u001b[0;36m__next__\u001b[0;34m(self)\u001b[0m\n\u001b[1;32m    433\u001b[0m         \u001b[0;32mif\u001b[0m \u001b[0mself\u001b[0m\u001b[0;34m.\u001b[0m\u001b[0m_sampler_iter\u001b[0m \u001b[0;32mis\u001b[0m \u001b[0;32mNone\u001b[0m\u001b[0;34m:\u001b[0m\u001b[0;34m\u001b[0m\u001b[0;34m\u001b[0m\u001b[0m\n\u001b[1;32m    434\u001b[0m             \u001b[0mself\u001b[0m\u001b[0;34m.\u001b[0m\u001b[0m_reset\u001b[0m\u001b[0;34m(\u001b[0m\u001b[0;34m)\u001b[0m\u001b[0;34m\u001b[0m\u001b[0;34m\u001b[0m\u001b[0m\n\u001b[0;32m--> 435\u001b[0;31m         \u001b[0mdata\u001b[0m \u001b[0;34m=\u001b[0m \u001b[0mself\u001b[0m\u001b[0;34m.\u001b[0m\u001b[0m_next_data\u001b[0m\u001b[0;34m(\u001b[0m\u001b[0;34m)\u001b[0m\u001b[0;34m\u001b[0m\u001b[0;34m\u001b[0m\u001b[0m\n\u001b[0m\u001b[1;32m    436\u001b[0m         \u001b[0mself\u001b[0m\u001b[0;34m.\u001b[0m\u001b[0m_num_yielded\u001b[0m \u001b[0;34m+=\u001b[0m \u001b[0;36m1\u001b[0m\u001b[0;34m\u001b[0m\u001b[0;34m\u001b[0m\u001b[0m\n\u001b[1;32m    437\u001b[0m         \u001b[0;32mif\u001b[0m \u001b[0mself\u001b[0m\u001b[0;34m.\u001b[0m\u001b[0m_dataset_kind\u001b[0m \u001b[0;34m==\u001b[0m \u001b[0m_DatasetKind\u001b[0m\u001b[0;34m.\u001b[0m\u001b[0mIterable\u001b[0m \u001b[0;32mand\u001b[0m\u001b[0;31m \u001b[0m\u001b[0;31m\\\u001b[0m\u001b[0;34m\u001b[0m\u001b[0;34m\u001b[0m\u001b[0m\n",
            "\u001b[0;32m/usr/local/lib/python3.6/dist-packages/torch/utils/data/dataloader.py\u001b[0m in \u001b[0;36m_next_data\u001b[0;34m(self)\u001b[0m\n\u001b[1;32m   1055\u001b[0m                 \u001b[0;31m# no valid `self._rcvd_idx` is found (i.e., didn't break)\u001b[0m\u001b[0;34m\u001b[0m\u001b[0;34m\u001b[0m\u001b[0;34m\u001b[0m\u001b[0m\n\u001b[1;32m   1056\u001b[0m                 \u001b[0;32mif\u001b[0m \u001b[0;32mnot\u001b[0m \u001b[0mself\u001b[0m\u001b[0;34m.\u001b[0m\u001b[0m_persistent_workers\u001b[0m\u001b[0;34m:\u001b[0m\u001b[0;34m\u001b[0m\u001b[0;34m\u001b[0m\u001b[0m\n\u001b[0;32m-> 1057\u001b[0;31m                     \u001b[0mself\u001b[0m\u001b[0;34m.\u001b[0m\u001b[0m_shutdown_workers\u001b[0m\u001b[0;34m(\u001b[0m\u001b[0;34m)\u001b[0m\u001b[0;34m\u001b[0m\u001b[0;34m\u001b[0m\u001b[0m\n\u001b[0m\u001b[1;32m   1058\u001b[0m                 \u001b[0;32mraise\u001b[0m \u001b[0mStopIteration\u001b[0m\u001b[0;34m\u001b[0m\u001b[0;34m\u001b[0m\u001b[0m\n\u001b[1;32m   1059\u001b[0m \u001b[0;34m\u001b[0m\u001b[0m\n",
            "\u001b[0;32m/usr/local/lib/python3.6/dist-packages/torch/utils/data/dataloader.py\u001b[0m in \u001b[0;36m_shutdown_workers\u001b[0;34m(self)\u001b[0m\n\u001b[1;32m   1175\u001b[0m                         \u001b[0mself\u001b[0m\u001b[0;34m.\u001b[0m\u001b[0m_mark_worker_as_unavailable\u001b[0m\u001b[0;34m(\u001b[0m\u001b[0mworker_id\u001b[0m\u001b[0;34m,\u001b[0m \u001b[0mshutdown\u001b[0m\u001b[0;34m=\u001b[0m\u001b[0;32mTrue\u001b[0m\u001b[0;34m)\u001b[0m\u001b[0;34m\u001b[0m\u001b[0;34m\u001b[0m\u001b[0m\n\u001b[1;32m   1176\u001b[0m                 \u001b[0;32mfor\u001b[0m \u001b[0mw\u001b[0m \u001b[0;32min\u001b[0m \u001b[0mself\u001b[0m\u001b[0;34m.\u001b[0m\u001b[0m_workers\u001b[0m\u001b[0;34m:\u001b[0m\u001b[0;34m\u001b[0m\u001b[0;34m\u001b[0m\u001b[0m\n\u001b[0;32m-> 1177\u001b[0;31m                     \u001b[0mw\u001b[0m\u001b[0;34m.\u001b[0m\u001b[0mjoin\u001b[0m\u001b[0;34m(\u001b[0m\u001b[0mtimeout\u001b[0m\u001b[0;34m=\u001b[0m\u001b[0m_utils\u001b[0m\u001b[0;34m.\u001b[0m\u001b[0mMP_STATUS_CHECK_INTERVAL\u001b[0m\u001b[0;34m)\u001b[0m\u001b[0;34m\u001b[0m\u001b[0;34m\u001b[0m\u001b[0m\n\u001b[0m\u001b[1;32m   1178\u001b[0m                     \u001b[0;32mif\u001b[0m \u001b[0mw\u001b[0m\u001b[0;34m.\u001b[0m\u001b[0mis_alive\u001b[0m\u001b[0;34m(\u001b[0m\u001b[0;34m)\u001b[0m\u001b[0;34m:\u001b[0m\u001b[0;34m\u001b[0m\u001b[0;34m\u001b[0m\u001b[0m\n\u001b[1;32m   1179\u001b[0m                         \u001b[0;31m# Existing mechanisms try to make the workers exit\u001b[0m\u001b[0;34m\u001b[0m\u001b[0;34m\u001b[0m\u001b[0;34m\u001b[0m\u001b[0m\n",
            "\u001b[0;32m/usr/lib/python3.6/multiprocessing/process.py\u001b[0m in \u001b[0;36mjoin\u001b[0;34m(self, timeout)\u001b[0m\n\u001b[1;32m    122\u001b[0m         \u001b[0;32massert\u001b[0m \u001b[0mself\u001b[0m\u001b[0;34m.\u001b[0m\u001b[0m_parent_pid\u001b[0m \u001b[0;34m==\u001b[0m \u001b[0mos\u001b[0m\u001b[0;34m.\u001b[0m\u001b[0mgetpid\u001b[0m\u001b[0;34m(\u001b[0m\u001b[0;34m)\u001b[0m\u001b[0;34m,\u001b[0m \u001b[0;34m'can only join a child process'\u001b[0m\u001b[0;34m\u001b[0m\u001b[0;34m\u001b[0m\u001b[0m\n\u001b[1;32m    123\u001b[0m         \u001b[0;32massert\u001b[0m \u001b[0mself\u001b[0m\u001b[0;34m.\u001b[0m\u001b[0m_popen\u001b[0m \u001b[0;32mis\u001b[0m \u001b[0;32mnot\u001b[0m \u001b[0;32mNone\u001b[0m\u001b[0;34m,\u001b[0m \u001b[0;34m'can only join a started process'\u001b[0m\u001b[0;34m\u001b[0m\u001b[0;34m\u001b[0m\u001b[0m\n\u001b[0;32m--> 124\u001b[0;31m         \u001b[0mres\u001b[0m \u001b[0;34m=\u001b[0m \u001b[0mself\u001b[0m\u001b[0;34m.\u001b[0m\u001b[0m_popen\u001b[0m\u001b[0;34m.\u001b[0m\u001b[0mwait\u001b[0m\u001b[0;34m(\u001b[0m\u001b[0mtimeout\u001b[0m\u001b[0;34m)\u001b[0m\u001b[0;34m\u001b[0m\u001b[0;34m\u001b[0m\u001b[0m\n\u001b[0m\u001b[1;32m    125\u001b[0m         \u001b[0;32mif\u001b[0m \u001b[0mres\u001b[0m \u001b[0;32mis\u001b[0m \u001b[0;32mnot\u001b[0m \u001b[0;32mNone\u001b[0m\u001b[0;34m:\u001b[0m\u001b[0;34m\u001b[0m\u001b[0;34m\u001b[0m\u001b[0m\n\u001b[1;32m    126\u001b[0m             \u001b[0m_children\u001b[0m\u001b[0;34m.\u001b[0m\u001b[0mdiscard\u001b[0m\u001b[0;34m(\u001b[0m\u001b[0mself\u001b[0m\u001b[0;34m)\u001b[0m\u001b[0;34m\u001b[0m\u001b[0;34m\u001b[0m\u001b[0m\n",
            "\u001b[0;32m/usr/lib/python3.6/multiprocessing/popen_fork.py\u001b[0m in \u001b[0;36mwait\u001b[0;34m(self, timeout)\u001b[0m\n\u001b[1;32m     45\u001b[0m             \u001b[0;32mif\u001b[0m \u001b[0mtimeout\u001b[0m \u001b[0;32mis\u001b[0m \u001b[0;32mnot\u001b[0m \u001b[0;32mNone\u001b[0m\u001b[0;34m:\u001b[0m\u001b[0;34m\u001b[0m\u001b[0;34m\u001b[0m\u001b[0m\n\u001b[1;32m     46\u001b[0m                 \u001b[0;32mfrom\u001b[0m \u001b[0mmultiprocessing\u001b[0m\u001b[0;34m.\u001b[0m\u001b[0mconnection\u001b[0m \u001b[0;32mimport\u001b[0m \u001b[0mwait\u001b[0m\u001b[0;34m\u001b[0m\u001b[0;34m\u001b[0m\u001b[0m\n\u001b[0;32m---> 47\u001b[0;31m                 \u001b[0;32mif\u001b[0m \u001b[0;32mnot\u001b[0m \u001b[0mwait\u001b[0m\u001b[0;34m(\u001b[0m\u001b[0;34m[\u001b[0m\u001b[0mself\u001b[0m\u001b[0;34m.\u001b[0m\u001b[0msentinel\u001b[0m\u001b[0;34m]\u001b[0m\u001b[0;34m,\u001b[0m \u001b[0mtimeout\u001b[0m\u001b[0;34m)\u001b[0m\u001b[0;34m:\u001b[0m\u001b[0;34m\u001b[0m\u001b[0;34m\u001b[0m\u001b[0m\n\u001b[0m\u001b[1;32m     48\u001b[0m                     \u001b[0;32mreturn\u001b[0m \u001b[0;32mNone\u001b[0m\u001b[0;34m\u001b[0m\u001b[0;34m\u001b[0m\u001b[0m\n\u001b[1;32m     49\u001b[0m             \u001b[0;31m# This shouldn't block if wait() returned successfully.\u001b[0m\u001b[0;34m\u001b[0m\u001b[0;34m\u001b[0m\u001b[0;34m\u001b[0m\u001b[0m\n",
            "\u001b[0;32m/usr/lib/python3.6/multiprocessing/connection.py\u001b[0m in \u001b[0;36mwait\u001b[0;34m(object_list, timeout)\u001b[0m\n\u001b[1;32m    909\u001b[0m \u001b[0;34m\u001b[0m\u001b[0m\n\u001b[1;32m    910\u001b[0m             \u001b[0;32mwhile\u001b[0m \u001b[0;32mTrue\u001b[0m\u001b[0;34m:\u001b[0m\u001b[0;34m\u001b[0m\u001b[0;34m\u001b[0m\u001b[0m\n\u001b[0;32m--> 911\u001b[0;31m                 \u001b[0mready\u001b[0m \u001b[0;34m=\u001b[0m \u001b[0mselector\u001b[0m\u001b[0;34m.\u001b[0m\u001b[0mselect\u001b[0m\u001b[0;34m(\u001b[0m\u001b[0mtimeout\u001b[0m\u001b[0;34m)\u001b[0m\u001b[0;34m\u001b[0m\u001b[0;34m\u001b[0m\u001b[0m\n\u001b[0m\u001b[1;32m    912\u001b[0m                 \u001b[0;32mif\u001b[0m \u001b[0mready\u001b[0m\u001b[0;34m:\u001b[0m\u001b[0;34m\u001b[0m\u001b[0;34m\u001b[0m\u001b[0m\n\u001b[1;32m    913\u001b[0m                     \u001b[0;32mreturn\u001b[0m \u001b[0;34m[\u001b[0m\u001b[0mkey\u001b[0m\u001b[0;34m.\u001b[0m\u001b[0mfileobj\u001b[0m \u001b[0;32mfor\u001b[0m \u001b[0;34m(\u001b[0m\u001b[0mkey\u001b[0m\u001b[0;34m,\u001b[0m \u001b[0mevents\u001b[0m\u001b[0;34m)\u001b[0m \u001b[0;32min\u001b[0m \u001b[0mready\u001b[0m\u001b[0;34m]\u001b[0m\u001b[0;34m\u001b[0m\u001b[0;34m\u001b[0m\u001b[0m\n",
            "\u001b[0;32m/usr/lib/python3.6/selectors.py\u001b[0m in \u001b[0;36mselect\u001b[0;34m(self, timeout)\u001b[0m\n\u001b[1;32m    374\u001b[0m             \u001b[0mready\u001b[0m \u001b[0;34m=\u001b[0m \u001b[0;34m[\u001b[0m\u001b[0;34m]\u001b[0m\u001b[0;34m\u001b[0m\u001b[0;34m\u001b[0m\u001b[0m\n\u001b[1;32m    375\u001b[0m             \u001b[0;32mtry\u001b[0m\u001b[0;34m:\u001b[0m\u001b[0;34m\u001b[0m\u001b[0;34m\u001b[0m\u001b[0m\n\u001b[0;32m--> 376\u001b[0;31m                 \u001b[0mfd_event_list\u001b[0m \u001b[0;34m=\u001b[0m \u001b[0mself\u001b[0m\u001b[0;34m.\u001b[0m\u001b[0m_poll\u001b[0m\u001b[0;34m.\u001b[0m\u001b[0mpoll\u001b[0m\u001b[0;34m(\u001b[0m\u001b[0mtimeout\u001b[0m\u001b[0;34m)\u001b[0m\u001b[0;34m\u001b[0m\u001b[0;34m\u001b[0m\u001b[0m\n\u001b[0m\u001b[1;32m    377\u001b[0m             \u001b[0;32mexcept\u001b[0m \u001b[0mInterruptedError\u001b[0m\u001b[0;34m:\u001b[0m\u001b[0;34m\u001b[0m\u001b[0;34m\u001b[0m\u001b[0m\n\u001b[1;32m    378\u001b[0m                 \u001b[0;32mreturn\u001b[0m \u001b[0mready\u001b[0m\u001b[0;34m\u001b[0m\u001b[0;34m\u001b[0m\u001b[0m\n",
            "\u001b[0;31mKeyboardInterrupt\u001b[0m: "
          ]
        }
      ]
    },
    {
      "cell_type": "code",
      "metadata": {
        "colab": {
          "base_uri": "https://localhost:8080/"
        },
        "id": "w6j46JUe4fP9",
        "outputId": "53d4a1d3-ecc1-4681-935e-12d59b806b2f"
      },
      "source": [
        "print(val_acc_false,test_acc_false)"
      ],
      "execution_count": 40,
      "outputs": [
        {
          "output_type": "stream",
          "text": [
            "[[5.792197608947754], [3.6840911388397215], [1.9142696142196656], [0.3417442739009857], [0.38419090360403063], [0.2452104151248932]] [[5.640351867675781], [3.0648836135864257], [1.793165683746338], [0.3250050783157349], [0.32778828144073485], [0.1633344456553459]]\n"
          ],
          "name": "stdout"
        }
      ]
    },
    {
      "cell_type": "code",
      "metadata": {
        "colab": {
          "base_uri": "https://localhost:8080/"
        },
        "id": "pVKZdd-3p_Qq",
        "outputId": "c1599067-74d3-43fe-df6c-ebf0d46ec063"
      },
      "source": [
        "optimizer"
      ],
      "execution_count": 32,
      "outputs": [
        {
          "output_type": "execute_result",
          "data": {
            "text/plain": [
              "Adam (\n",
              "Parameter Group 0\n",
              "    amsgrad: False\n",
              "    betas: (0.9, 0.999)\n",
              "    eps: 1e-08\n",
              "    lr: 0.01\n",
              "    weight_decay: 0\n",
              ")"
            ]
          },
          "metadata": {
            "tags": []
          },
          "execution_count": 32
        }
      ]
    },
    {
      "cell_type": "code",
      "metadata": {
        "colab": {
          "base_uri": "https://localhost:8080/"
        },
        "id": "u9JbLpieepj2",
        "outputId": "b8bb8cd7-4e77-4215-e133-a8474cfc3bcc"
      },
      "source": [
        ""
      ],
      "execution_count": 50,
      "outputs": [
        {
          "output_type": "execute_result",
          "data": {
            "text/plain": [
              "[0.9709935011061948]"
            ]
          },
          "metadata": {
            "tags": []
          },
          "execution_count": 50
        }
      ]
    },
    {
      "cell_type": "code",
      "metadata": {
        "id": "vhyG0u_TcFUh"
      },
      "source": [
        "def train_mlp(input_dim,output_dim,hidden_dim,encoder_weight,pretrained,train_loader_mlp,test_loader_mlp,val_loader_mlp,epochs):\n",
        "  \n",
        "  mlp_net1 = mlp_net(input_dim,output_dim,hidden_dim,encoder_weight,pretrained)\n",
        "  mlp_net1.to(device)\n",
        "  final_test_acc = []\n",
        "  final_val_acc = []\n",
        "  optimizer = torch.optim.Adam(mlp_net1.parameters(), lr=0.01)\n",
        "  loss_fn = torch.nn.CrossEntropyLoss()\n",
        "  val_loss_list = []\n",
        "  train_loss_list = []\n",
        "  val_acc_list = []\n",
        "  test_loss_list = []\n",
        "  test_acc_list = []\n",
        "  '''\n",
        "  train_data_mlp = Dataset(x_train_mlp[0:int(partition_list[0]*size)], y_train_mlp[0:int(partition_list[0]*size)])\n",
        "  train_loader_mlp = torch.utils.data.DataLoader(train_data_mlp, **dataloader_params)\n",
        "  mlp_net2 = mlp_net(input_dim,output_dim,hidden_dim,encoder_weight,pretrained = True)\n",
        "\n",
        "  mlp_net2.to(device)\n",
        "  optimizer = torch.optim.Adam(mlp_net2.parameters(), lr=0.01)\n",
        "  '''\n",
        "  for epoch in range(epochs):\n",
        "    running_loss = 0.0\n",
        "    val_loss = 0.0\n",
        "    preds = []\n",
        "    acc =0.0\n",
        "    test_acc = 0.0\n",
        "    test_loss = 0.0\n",
        "    \n",
        "    for i, data in enumerate(train_loader_mlp):\n",
        "                \n",
        "                # Get the inputs: data is a list of [inputs, labels]\n",
        "                x, y = data\n",
        "                #print(x.shape)\n",
        "                # Initialize container for noisy images\n",
        "                #noisy_images = []\n",
        "\n",
        "                # Now get noisy images\n",
        "                \n",
        "                \n",
        "\n",
        "                # Send the inputs and labels to the memory of the device\n",
        "                #noisy_images, flat_clean_imgs = noisy_images.to(device), flat_clean_imgs.to(device)\n",
        "\n",
        "                # Zero the parameter gradients\n",
        "                #x.to(device)\n",
        "                x = x.type(torch.FloatTensor)\n",
        "                y = y.type(torch.LongTensor)\n",
        "                x = x.to(device)\n",
        "                y = y.to(device)\n",
        "                optimizer.zero_grad()\n",
        "\n",
        "                # Forward\n",
        "                pred = mlp_net1.forward(x)\n",
        "                \n",
        "                # Calculate loss\n",
        "                \n",
        "                loss = loss_fn(pred,y)\n",
        "\n",
        "                # Backward\n",
        "                loss.backward()\n",
        "                \n",
        "                # Optimize\n",
        "                optimizer.step()\n",
        "\n",
        "                # Add to running loss\n",
        "                running_loss += loss.item()\n",
        "    running_loss = (running_loss)/len(train_loader_mlp)\n",
        "    print(\"epoch: \",epoch, \"train_loss: \",running_loss)\n",
        "    for j, data in enumerate(val_loader_mlp): \n",
        "      x,y = data \n",
        "      with torch.no_grad():\n",
        "        x = x.type(torch.FloatTensor)\n",
        "        y = y.type(torch.LongTensor)\n",
        "        x = x.to(device)\n",
        "        y = y.to(device)\n",
        "        pred = mlp_net1.forward(x)\n",
        "        loss = loss_fn(pred,y)\n",
        "        pred = pred.argmax(axis =1)\n",
        "        val_loss += loss.item()\n",
        "        #print(\"pred: \",pred.shape,\"y:\",y.shape)\n",
        "        acc+= np.sum(pred.cpu().numpy()==y.cpu().numpy())/len(pred.cpu().numpy())\n",
        "    val_loss = val_loss/len(val_loader_mlp)\n",
        "    acc = acc/len(val_loader_mlp)\n",
        "    for k, data in enumerate(test_loader_mlp): \n",
        "      x,y = data \n",
        "      with torch.no_grad():\n",
        "        x = x.type(torch.FloatTensor)\n",
        "        y = y.type(torch.LongTensor)\n",
        "        x = x.to(device)\n",
        "        y = y.to(device)\n",
        "        pred = mlp_net1.forward(x)\n",
        "        loss = loss_fn(pred,y)\n",
        "        pred = pred.argmax(axis =1)\n",
        "        test_loss += loss.item()\n",
        "        #print(\"pred: \",pred[0],\"y:\",y[0])\n",
        "        test_acc+= np.sum(pred.cpu().numpy()==y.cpu().numpy())/len(pred.cpu().numpy())\n",
        "    test_loss = test_loss/len(test_loader_mlp)\n",
        "    test_acc = test_acc/len(test_loader_mlp)\n",
        "    print(\"epoch: \",epoch, \"test_loss: \",test_loss,\"acc: \",acc)\n",
        "    val_loss_list.append(val_loss)\n",
        "    val_acc_list.append(acc)\n",
        "    test_loss_list.append(test_loss)\n",
        "    test_acc_list.append(test_acc)\n",
        "  final_test_acc.append(test_loss_list[-1])\n",
        "  final_val_acc.append(val_loss_list[-1])\n",
        "  clear_gpu(mlp_net1)\n",
        "  return final_val_acc, final_test_acc"
      ],
      "execution_count": 25,
      "outputs": []
    },
    {
      "cell_type": "code",
      "metadata": {
        "colab": {
          "base_uri": "https://localhost:8080/"
        },
        "id": "-3PvXCFgs6YJ",
        "outputId": "ba24f7eb-4d8a-4115-b647-fc0c1d48d731"
      },
      "source": [
        "len(x_train_mlp)"
      ],
      "execution_count": 54,
      "outputs": [
        {
          "output_type": "execute_result",
          "data": {
            "text/plain": [
              "24975"
            ]
          },
          "metadata": {
            "tags": []
          },
          "execution_count": 54
        }
      ]
    },
    {
      "cell_type": "code",
      "metadata": {
        "colab": {
          "base_uri": "https://localhost:8080/"
        },
        "id": "-Np1J5E0k0fd",
        "outputId": "5edb390b-096f-4789-ed1a-f776aed60aa6"
      },
      "source": [
        "loss_fn"
      ],
      "execution_count": null,
      "outputs": [
        {
          "output_type": "execute_result",
          "data": {
            "text/plain": [
              "CrossEntropyLoss()"
            ]
          },
          "metadata": {
            "tags": []
          },
          "execution_count": 90
        }
      ]
    },
    {
      "cell_type": "code",
      "metadata": {
        "id": "OcuwowBkthao"
      },
      "source": [
        "Autoencoder"
      ],
      "execution_count": null,
      "outputs": []
    },
    {
      "cell_type": "code",
      "metadata": {
        "colab": {
          "base_uri": "https://localhost:8080/",
          "height": 232
        },
        "id": "2y4VO1wRyg0n",
        "outputId": "c94a19fc-786e-4214-d298-d877ed16a3a7"
      },
      "source": [
        "#training routine for pretrained mlp\n",
        "\n",
        "epochs = 20\n",
        "partition_list = [0.05,0.1]\n",
        "final_test_acc = []\n",
        "final_val_acc = []\n",
        "\n",
        "val_loss_list = []\n",
        "train_loss_list = []\n",
        "val_acc_list = []\n",
        "test_loss_list = []\n",
        "test_acc_list = []\n",
        "'''\n",
        "train_data_mlp = Dataset(x_train_mlp[0:int(partition_list[0]*size)], y_train_mlp[0:int(partition_list[0]*size)])\n",
        "train_loader_mlp = torch.utils.data.DataLoader(train_data_mlp, **dataloader_params)\n",
        "mlp_net2 = mlp_net(input_dim,output_dim,hidden_dim,encoder_weight,pretrained = True)\n",
        "\n",
        "mlp_net2.to(device)\n",
        "optimizer = torch.optim.Adam(mlp_net2.parameters(), lr=0.01)\n",
        "'''\n",
        "for epoch in range(epochs):\n",
        "  running_loss = 0.0\n",
        "  val_loss = 0.0\n",
        "  preds = []\n",
        "  acc =0.0\n",
        "  test_acc = 0.0\n",
        "  test_loss = 0.0\n",
        "  \n",
        "  for i, data in enumerate(train_loader_mlp):\n",
        "              \n",
        "              # Get the inputs: data is a list of [inputs, labels]\n",
        "              x, y = data\n",
        "              #print(x.shape)\n",
        "              # Initialize container for noisy images\n",
        "              #noisy_images = []\n",
        "\n",
        "              # Now get noisy images\n",
        "              \n",
        "              \n",
        "\n",
        "              # Send the inputs and labels to the memory of the device\n",
        "              #noisy_images, flat_clean_imgs = noisy_images.to(device), flat_clean_imgs.to(device)\n",
        "\n",
        "              # Zero the parameter gradients\n",
        "              #x.to(device)\n",
        "              x = x.type(torch.FloatTensor)\n",
        "              y = y.type(torch.LongTensor)\n",
        "              x = x.to(device)\n",
        "              y = y.to(device)\n",
        "              optimizer.zero_grad()\n",
        "\n",
        "              # Forward\n",
        "              pred = mlp_net2.forward(x)\n",
        "              \n",
        "              # Calculate loss\n",
        "              \n",
        "              loss = loss_fn(pred,y)\n",
        "\n",
        "              # Backward\n",
        "              loss.backward()\n",
        "              \n",
        "              # Optimize\n",
        "              optimizer.step()\n",
        "\n",
        "              # Add to running loss\n",
        "              running_loss += loss.item()\n",
        "  running_loss = (running_loss)/len(train_loader_mlp)\n",
        "  print(\"epoch: \",epoch, \"train_loss: \",running_loss)\n",
        "  for j, data in enumerate(val_loader_mlp): \n",
        "    x,y = data \n",
        "    with torch.no_grad():\n",
        "      x = x.type(torch.FloatTensor)\n",
        "      y = y.type(torch.LongTensor)\n",
        "      x = x.to(device)\n",
        "      y = y.to(device)\n",
        "      pred = mlp_net2(x)\n",
        "      loss = loss_fn(pred,y)\n",
        "      pred = pred.argmax(axis =1)\n",
        "      val_loss += loss.item()\n",
        "      #print(\"pred: \",pred,\"y:\",y)\n",
        "      acc+= np.sum(pred.cpu().numpy()==y.cpu().numpy())/len(pred.cpu().numpy())\n",
        "  val_loss = val_loss/len(val_loader_mlp)\n",
        "  acc = acc/len(val_loader_mlp)\n",
        "  for k, data in enumerate(test_loader_mlp): \n",
        "    x,y = data \n",
        "    with torch.no_grad():\n",
        "      x = x.type(torch.FloatTensor)\n",
        "      y = y.type(torch.LongTensor)\n",
        "      x = x.to(device)\n",
        "      y = y.to(device)\n",
        "      pred = mlp_net2(x)\n",
        "      loss = loss_fn(pred,y)\n",
        "      pred = pred.argmax(axis =1)\n",
        "      test_loss += loss.item()\n",
        "      #print(\"pred: \",pred,\"y:\",y)\n",
        "      test_acc+= np.sum(pred.cpu().numpy()==y.cpu().numpy())/len(pred.cpu().numpy())\n",
        "  test_loss = test_loss/len(test_loader_mlp)\n",
        "  test_acc = test_acc/len(test_loader_mlp)\n",
        "  print(\"epoch: \",epoch, \"test_loss: \",test_loss,\"acc: \",test_acc)\n",
        "  val_loss_list.append(val_loss)\n",
        "  val_acc_list.append(acc)\n",
        "  test_loss_list.append(test_loss)\n",
        "  test_acc_list.append(test_acc)\n",
        "final_test_acc.append(test_loss[-1])\n",
        "final_val_acc.append(val_loss[-1])\n",
        "\n"
      ],
      "execution_count": 37,
      "outputs": [
        {
          "output_type": "error",
          "ename": "NameError",
          "evalue": "ignored",
          "traceback": [
            "\u001b[0;31m---------------------------------------------------------------------------\u001b[0m",
            "\u001b[0;31mNameError\u001b[0m                                 Traceback (most recent call last)",
            "\u001b[0;32m<ipython-input-37-261aad070dd0>\u001b[0m in \u001b[0;36m<module>\u001b[0;34m()\u001b[0m\n\u001b[1;32m     51\u001b[0m \u001b[0;34m\u001b[0m\u001b[0m\n\u001b[1;32m     52\u001b[0m               \u001b[0;31m# Forward\u001b[0m\u001b[0;34m\u001b[0m\u001b[0;34m\u001b[0m\u001b[0;34m\u001b[0m\u001b[0m\n\u001b[0;32m---> 53\u001b[0;31m               \u001b[0mpred\u001b[0m \u001b[0;34m=\u001b[0m \u001b[0mmlp_net2\u001b[0m\u001b[0;34m.\u001b[0m\u001b[0mforward\u001b[0m\u001b[0;34m(\u001b[0m\u001b[0mx\u001b[0m\u001b[0;34m)\u001b[0m\u001b[0;34m\u001b[0m\u001b[0;34m\u001b[0m\u001b[0m\n\u001b[0m\u001b[1;32m     54\u001b[0m \u001b[0;34m\u001b[0m\u001b[0m\n\u001b[1;32m     55\u001b[0m               \u001b[0;31m# Calculate loss\u001b[0m\u001b[0;34m\u001b[0m\u001b[0;34m\u001b[0m\u001b[0;34m\u001b[0m\u001b[0m\n",
            "\u001b[0;31mNameError\u001b[0m: name 'mlp_net2' is not defined"
          ]
        }
      ]
    },
    {
      "cell_type": "code",
      "metadata": {
        "colab": {
          "base_uri": "https://localhost:8080/"
        },
        "id": "drrLC7IYb7M9",
        "outputId": "ee6c0134-b55d-40c5-e465-7344135e70c6"
      },
      "source": [
        "test_acc_list"
      ],
      "execution_count": 47,
      "outputs": [
        {
          "output_type": "execute_result",
          "data": {
            "text/plain": [
              "[0.9425193584070797,\n",
              " 0.9410208102876106,\n",
              " 0.94852046460177,\n",
              " 0.9391731194690266,\n",
              " 0.9445640901548673,\n",
              " 0.9438070381637168,\n",
              " 0.9340949944690266,\n",
              " 0.9499792588495575,\n",
              " 0.9510854535398231,\n",
              " 0.9555119607300885]"
            ]
          },
          "metadata": {
            "tags": []
          },
          "execution_count": 47
        }
      ]
    },
    {
      "cell_type": "code",
      "metadata": {
        "id": "RTBBkd0I2zjr"
      },
      "source": [
        "def run_experiment_with_x_percent_data(x):\n",
        "  x_train_mlp = X_train1\n",
        "  y_train_mlp = y_train1\n",
        "  x_val_mlp = X_val1\n",
        "  y_val_mlp = y_val1 \n",
        "  temp = list(zip(x_train_mlp, y_train_mlp)) \n",
        "  random.shuffle(temp) \n",
        "  x_train_mlp, y_train_mlp = zip(*temp)\n",
        "  size = len(x_train_mlp)\n",
        "  train_data_mlp = Dataset(x_train_mlp[0:int(*size)], y_train_mlp[0:int(0.05*size)])\n",
        "  train_loader_mlp = torch.utils.data.DataLoader(train_data_mlp, **dataloader_params)\n",
        "  val_data_mlp = Dataset(x_val_mlp, y_val_mlp)\n",
        "  val_loader_mlp = torch.utils.data.DataLoader(val_data_mlp, **dataloader_params)"
      ],
      "execution_count": null,
      "outputs": []
    },
    {
      "cell_type": "code",
      "metadata": {
        "colab": {
          "base_uri": "https://localhost:8080/",
          "height": 282
        },
        "id": "3KsnXlmXrdd5",
        "outputId": "d4578b51-9968-42e4-f27b-0746098b16ba"
      },
      "source": [
        "plt.plot(train_loss_list)"
      ],
      "execution_count": null,
      "outputs": [
        {
          "output_type": "execute_result",
          "data": {
            "text/plain": [
              "[<matplotlib.lines.Line2D at 0x7f4d23b473c8>]"
            ]
          },
          "metadata": {
            "tags": []
          },
          "execution_count": 56
        },
        {
          "output_type": "display_data",
          "data": {
            "image/png": "[encoded data removed]",
            "text/plain": [
              "<Figure size 432x288 with 1 Axes>"
            ]
          },
          "metadata": {
            "tags": []
          }
        }
      ]
    },
    {
      "cell_type": "code",
      "metadata": {
        "id": "3jdbN-S7rtX1"
      },
      "source": [
        ""
      ],
      "execution_count": null,
      "outputs": []
    }
  ]
}